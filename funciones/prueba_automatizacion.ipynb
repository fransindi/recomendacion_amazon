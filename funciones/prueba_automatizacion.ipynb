{
 "cells": [
  {
   "cell_type": "code",
   "execution_count": 1,
   "metadata": {},
   "outputs": [],
   "source": [
    "import numpy as np #importamos numpy para un mejor manejo de matrizes, filas y valores\n",
    "import matplotlib.pyplot as plt #esta libreria la usaremos para graficar\n",
    "from pyspark.sql import SparkSession #PySpark sera nuestra opcion para el manejo de grandes volumenes de datos\n",
    "import os\n",
    "import pandas\n",
    "\n",
    "# Crea una sesión de Spark\n",
    "spark = SparkSession.builder \\\n",
    "    .appName(\"MiAplicacionSpark\") \\\n",
    "    .getOrCreate()\n",
    "\n",
    "# Importamos las funciones de sql de pyspark para manejar mejor las columnas\n",
    "from pyspark.sql.functions import col, sum, when, size, length, to_date, from_unixtime, year, count\n",
    "\n",
    "from pyspark.sql.types import StructType, StructField, StringType, FloatType, IntegerType, BooleanType\n",
    "\n",
    "import importlib\n",
    "import utils.validation\n",
    "\n",
    "#Reload the functions module\n",
    "importlib.reload(utils.validation)"
   ]
  },
  {
   "cell_type": "code",
   "execution_count": 2,
   "metadata": {},
   "outputs": [],
   "source": [
    "from automatizacion_reviews import etl_reviews\n",
    "from automatizacion_metadata import etl_metadata"
   ]
  },
  {
   "cell_type": "code",
   "execution_count": 3,
   "metadata": {},
   "outputs": [],
   "source": [
    "df = etl_reviews('../datasets/Digital_Music.json')"
   ]
  },
  {
   "cell_type": "code",
   "execution_count": 4,
   "metadata": {},
   "outputs": [],
   "source": [
    "df2 = etl_reviews('../datasets/All_Beauty.json')"
   ]
  },
  {
   "cell_type": "code",
   "execution_count": 5,
   "metadata": {},
   "outputs": [],
   "source": [
    "df3 = etl_reviews('../datasets/Appliances.json')"
   ]
  },
  {
   "cell_type": "code",
   "execution_count": 6,
   "metadata": {},
   "outputs": [],
   "source": [
    "df4 = etl_reviews('../datasets/Musical_Instruments.json')"
   ]
  },
  {
   "cell_type": "code",
   "execution_count": 16,
   "metadata": {},
   "outputs": [
    {
     "name": "stdout",
     "output_type": "stream",
     "text": [
      "+----------+-------+--------------------+--------------+--------------+--------+-------------------+-----------+\n",
      "|      asin|overall|          reviewText|    reviewerID|  reviewerName|verified|        review_date|review_year|\n",
      "+----------+-------+--------------------+--------------+--------------+--------+-------------------+-----------+\n",
      "|B000V6AEI6|    5.0|The composistions...| AAVK0CAPD9XH5|          mole|   false|2003-12-31 21:00:00|       2003|\n",
      "|B000VRWV4U|    5.0|I needed some sca...|A3O39R049OZZUZ|         Wonka|    true|2012-12-31 21:00:00|       2012|\n",
      "|B000TE3FBS|    1.0|never received it...| A19CD6KQG33SD|         Dixie|    true|2013-12-31 21:00:00|       2013|\n",
      "|B0048W3SQ4|    5.0|WHAT ELSE CAN YOU...|A1WHQ7EFI717UH|JOHNWAYNEFAN57|    true|2013-01-09 21:00:00|       2013|\n",
      "|B0011W0BKA|    5.0|use this for our ...|A2JTT6E8TMNUIG|Family of Five|    true|2013-01-10 21:00:00|       2013|\n",
      "+----------+-------+--------------------+--------------+--------------+--------+-------------------+-----------+\n",
      "only showing top 5 rows\n",
      "\n",
      "+----------+-------+--------------------+--------------+-----------------+--------+-------------------+-----------+\n",
      "|      asin|overall|          reviewText|    reviewerID|     reviewerName|verified|        review_date|review_year|\n",
      "+----------+-------+--------------------+--------------+-----------------+--------+-------------------+-----------+\n",
      "|1620213982|    5.0|Perfect stand for...|A1GXXR1MIRDS6O|          Mark M.|    true|2017-10-22 21:00:00|       2017|\n",
      "|1620213982|    4.0|Strudy, stable & ...| A6QYTV6FFDAPY|          redhead|    true|2017-09-10 21:00:00|       2017|\n",
      "|1620213982|    4.0|good product but ...|A20QI5C2MFOXD4| Mike Migdalovich|    true|2017-02-22 21:00:00|       2017|\n",
      "|1620213982|    4.0|Great product. De...| AE28AUOA6RRME| Claudia Landivar|    true|2016-12-24 21:00:00|       2016|\n",
      "|1620213982|    4.0|I bought this as ...|A22BJNGI8CFJWJ|Joe&#039;s Amazon|    true|2016-12-17 21:00:00|       2016|\n",
      "+----------+-------+--------------------+--------------+-----------------+--------+-------------------+-----------+\n",
      "only showing top 5 rows\n",
      "\n",
      "+----------+-------+--------------------+--------------+------------------+--------+-------------------+-----------+\n",
      "|      asin|overall|          reviewText|    reviewerID|      reviewerName|verified|        review_date|review_year|\n",
      "+----------+-------+--------------------+--------------+------------------+--------+-------------------+-----------+\n",
      "|B00004YWK2|    3.0|It broke at the s...|A3K9IRC89IN1TI|       Acqua Crush|   false|2014-11-01 21:00:00|       2014|\n",
      "|B00004YWK2|    5.0|Simple\\n\\nDurable...|A1SPSXLSP0YHS9|     Simplicity707|    true|2014-04-29 21:00:00|       2014|\n",
      "|B00004YWK2|    4.0|Reasonable price,...| AXQPJFOALBYAH|          David L.|    true|2014-02-26 21:00:00|       2014|\n",
      "|B00004YWK2|    4.0|This is a handy t...| AMTP99FS7VJ6K|             Scott|    true|2013-03-19 21:00:00|       2013|\n",
      "|B00004YWK2|    3.0|The device does w...|A30860LMO2PYWZ|AB from Los Alamos|    true|2008-11-28 22:00:00|       2008|\n",
      "+----------+-------+--------------------+--------------+------------------+--------+-------------------+-----------+\n",
      "only showing top 5 rows\n",
      "\n",
      "+----------+-------+--------------------+--------------+--------------+--------+-------------------+-----------+\n",
      "|      asin|overall|          reviewText|    reviewerID|  reviewerName|verified|        review_date|review_year|\n",
      "+----------+-------+--------------------+--------------+--------------+--------+-------------------+-----------+\n",
      "|B00004UE29|    5.0|We are happy with...|A2IB4DJZ68X6E4|       Cindy B|   false|2014-12-31 21:00:00|       2014|\n",
      "|1480360295|    1.0|if you want to re...| A4HXCG31L4VKG|          Eric|   false|2014-12-31 21:00:00|       2014|\n",
      "|B0002F6SFE|    5.0|I have a variety ...|A3IOC2FEZ283XZ|         Mr. V|    true|2012-01-09 21:00:00|       2012|\n",
      "|B0002E2SA4|    5.0|Sorry - that head...| APYFCWJE9J363|Brian Houghton|    true|2014-01-09 21:00:00|       2014|\n",
      "|B000FPPZLE|    5.0|Arrived on time a...|A2IZXMMMMSV6A9|  lisa richner|    true|2015-01-09 21:00:00|       2015|\n",
      "+----------+-------+--------------------+--------------+--------------+--------+-------------------+-----------+\n",
      "only showing top 5 rows\n",
      "\n"
     ]
    }
   ],
   "source": [
    "df.show(5)\n",
    "df2.show(5)\n",
    "df3.show(5)\n",
    "df4.show(5)"
   ]
  },
  {
   "cell_type": "code",
   "execution_count": 17,
   "metadata": {},
   "outputs": [],
   "source": [
    "df_meta = etl_metadata('../datasets/meta_Digital_Music.json')\n",
    "df_meta2 = etl_metadata('../datasets/meta_All_Beauty.json')\n",
    "df_meta3 = etl_metadata('../datasets/meta_Appliances.json')\n",
    "df_meta4 = etl_metadata('../datasets/meta_Musical_Instruments.json')"
   ]
  },
  {
   "cell_type": "code",
   "execution_count": 9,
   "metadata": {},
   "outputs": [
    {
     "name": "stdout",
     "output_type": "stream",
     "text": [
      "+--------+---------+----------+-------------------+-----------+--------------------+-------------+-----+-------+--------------------+\n",
      "|also_buy|also_view|      asin|              brand|description|             details|     main_cat|price|   rank|               title|\n",
      "+--------+---------+----------+-------------------+-----------+--------------------+-------------+-----+-------+--------------------+\n",
      "|     N/D|      N/D|B000003SDF|    Richard H. Kirk|        N/D|{null, null, B000...|Digital Music| 9.99|1255550|Agents With False...|\n",
      "|     N/D|      N/D|B000006XV0|           Creation|        N/D|{null, null, B000...|Digital Music| 12.5|1761232|       Lay the Ghost|\n",
      "|     N/D|      N/D|B00000AQFD|Wildecker Herzbuben|        N/D|{null, null, B000...|Digital Music| 1.72|1157548|Ist das nicht him...|\n",
      "+--------+---------+----------+-------------------+-----------+--------------------+-------------+-----+-------+--------------------+\n",
      "only showing top 3 rows\n",
      "\n",
      "+--------+---------+----------+----------+--------------------+--------------------+-------------+-----+----------------+--------------------+\n",
      "|also_buy|also_view|      asin|     brand|         description|             details|     main_cat|price|            rank|               title|\n",
      "+--------+---------+----------+----------+--------------------+--------------------+-------------+-----+----------------+--------------------+\n",
      "|     N/D|      N/D|B002JZVWMO| Whirlpool|Organizing your g...|{null, null, null...|Digital Music|24.99|    508231003983|          Whirlpool |\n",
      "|     N/D|      N/D|B002ZDANJI| Whirlpool|Whirlpool Part Nu...|{null, null, null...|Digital Music|28.99|1018105100103792|Whirlpool Part Nu...|\n",
      "|     N/D|      N/D|B004Q3VMA4|Frigidaire|                 N/D|{null, null, null...|Digital Music|89.68| 217539310043804|Frigidaire 530801...|\n",
      "+--------+---------+----------+----------+--------------------+--------------------+-------------+-----+----------------+--------------------+\n",
      "only showing top 3 rows\n",
      "\n",
      "+--------------------+--------------------+----------+--------------+--------------------+--------------------+-------------+-----+-------+--------------------+\n",
      "|            also_buy|           also_view|      asin|         brand|         description|             details|     main_cat|price|   rank|               title|\n",
      "+--------------------+--------------------+----------+--------------+--------------------+--------------------+-------------+-----+-------+--------------------+\n",
      "|                 N/D|                 N/D|6546546450|  idea village|Loud 'N Clear Per...|{null, null, null...|Digital Music| 9.99|2938573|Loud 'N Clear&tra...|\n",
      "|B001E95K7E, B008C...|B00J5K36UM, B009Z...|B00006ISDE|       AXE DEO|AXE Body Spray fo...|{null, 5.4 x 2.1 ...|Digital Music| 9.99| 422354|AXE Body Spray fo...|\n",
      "|                 N/D|                 N/D|B00028F0VO|Desert Essence|Desert Essence pu...|{null, null, null...|Digital Music| 9.99|3404605|Toothpaste, Tea T...|\n",
      "+--------------------+--------------------+----------+--------------+--------------------+--------------------+-------------+-----+-------+--------------------+\n",
      "only showing top 3 rows\n",
      "\n"
     ]
    }
   ],
   "source": [
    "df_meta.show(3)\n",
    "df_meta3.show(3)\n",
    "df_meta2.show(3)"
   ]
  },
  {
   "cell_type": "code",
   "execution_count": 18,
   "metadata": {},
   "outputs": [
    {
     "name": "stdout",
     "output_type": "stream",
     "text": [
      "+--------------------+---------+----------+--------------------+--------------------+--------------------+-------------+------+--------------------+--------------------+\n",
      "|            also_buy|also_view|      asin|               brand|         description|             details|     main_cat| price|                rank|               title|\n",
      "+--------------------+---------+----------+--------------------+--------------------+--------------------+-------------+------+--------------------+--------------------+\n",
      "|                 N/D|      N/D|B0002F5DH8|                    |                 N/D|{null, null, null...|Digital Music|  0.91|       5041631001233|LMI 3-Piece Alto ...|\n",
      "|                 N/D|      N/D|B0002GY9M2|             Raxxess|This great 11-gau...|{null, null, null...|Digital Music|  7.99|        199541100788|Raxxess Rack Rail...|\n",
      "|                 N/D|      N/D|B0002H0CW2|                    |                 N/D|{null, null, null...|Digital Music|  0.91|           595400100|   Wasabi Rock-A-Bye|\n",
      "|                 N/D|      N/D|B0002I1C3Y|            Mid-East|Royal Stewart Tar...|{null, null, null...|Digital Music|  0.91|                 N/D|Cocus Wood Bagpip...|\n",
      "|                 N/D|      N/D|B0002F4V94|    Latin Percussion|Produced to the e...|{null, null, null...|Digital Music|  0.91|12534410016032226...|Latin Percussion ...|\n",
      "|                 N/D|      N/D|B0002H0F60|           Gibraltar|3/4\" Dia. Memory ...|{null, null, null...|Digital Music|  0.91|      42889100731903|Gibraltar SC-ML34...|\n",
      "|B000IL32GU, B0002...|      N/D|B0002M6B2M|              Martin|Martin M140 Light...|{null, null, null...|Digital Music|  0.91|         13563100214|Martin Acoustic G...|\n",
      "|                 N/D|      N/D|B0002OB6U2|    Antonio Aparicio|Both sides lamina...|{null, null, null...|Digital Music|  0.91|       6015811001834|Aparicio Classica...|\n",
      "|                 N/D|      N/D|B0002M6R30|            Eminence|Impedance: 8 ohms...|{null, null, null...|Digital Music|  0.91|     434773100127936|EMINENCE DELTADEM...|\n",
      "|B0002D0DWK, B000U...|      N/D|B0002F7HYU|                AXIS|Double Longboard ...|{null, null, null...|Digital Music|104.99|          4566910069|Axis Longboards X...|\n",
      "|                 N/D|      N/D|B0002KZHCE|              Fender|Champion 30Tm , C...|{null, null, null...|Digital Music|  1.96|      33088100559897|Fender Champ 110,...|\n",
      "|                 N/D|      N/D|B0002CZVK0|          JIM DUNLOP|The Dunlop Crybab...|{null, null, null...|Digital Music| 14.99|          2456100702|Dunlop GCB95 Cry ...|\n",
      "|                 N/D|      N/D|B0002E50J0|           Behringer|<div class=\"aplus...|{null, null, null...|Digital Music| 45.14|         44462100203|Behringer Ultrama...|\n",
      "|                 N/D|      N/D|B0002GXW20|               Crown|Pristine professi...|{null, null, null...|Digital Music|  0.91| 5912241001509169284|Crown Macro-Tech ...|\n",
      "|B0002H0SEE, B0002...|      N/D|B0002H0SDU|Lee Oskar Harmonicas|Lee Oskar provide...|{null, null, null...|Digital Music|  7.99|           177892100|Lee Oskar Harmoni...|\n",
      "|                 N/D|      N/D|B0002CZZJW|              ProTec|Designed with fun...|{null, null, null...|Digital Music|  0.91|        533532100883|Protec ALTO/TENOR...|\n",
      "|                 N/D|      N/D|B0002F77IG|            Epiphone|Solid Sitka Spruc...|{null, null, null...|Digital Music|  0.91|       5259251003742|Epiphone DR-200S ...|\n",
      "|                 N/D|      N/D|B0002EK72U|              Gemini|Mobile Combo Case...|{null, null, null...|Digital Music|  0.91|  438297100923128956|Gemini DJ MRC-8 D...|\n",
      "|                 N/D|      N/D|B0002EKEPK|         Rhythm Band|Musical steel tri...|{null, null, null...|Digital Music|  0.91|       1397910010237|Rhythm Band Music...|\n",
      "|                 N/D|      N/D|B0002D0DVG|               Evans|The Resonance Gat...|{null, null, null...|Digital Music|  0.91|      48879110020101|Evans RGS Pad Bas...|\n",
      "+--------------------+---------+----------+--------------------+--------------------+--------------------+-------------+------+--------------------+--------------------+\n",
      "only showing top 20 rows\n",
      "\n"
     ]
    }
   ],
   "source": [
    "df_meta4.show()"
   ]
  },
  {
   "cell_type": "code",
   "execution_count": 10,
   "metadata": {},
   "outputs": [
    {
     "name": "stdout",
     "output_type": "stream",
     "text": [
      "root\n",
      " |-- also_buy: string (nullable = false)\n",
      " |-- also_view: string (nullable = false)\n",
      " |-- asin: string (nullable = true)\n",
      " |-- brand: string (nullable = false)\n",
      " |-- description: string (nullable = false)\n",
      " |-- details: struct (nullable = true)\n",
      " |    |-- \\n    Item Weight: \\n    : string (nullable = true)\n",
      " |    |-- \\n    Product Dimensions: \\n    : string (nullable = true)\n",
      " |    |-- ASIN:: string (nullable = true)\n",
      " |    |-- ASIN: : string (nullable = true)\n",
      " |    |-- Apparel: string (nullable = true)\n",
      " |    |-- Audio CD: string (nullable = true)\n",
      " |    |-- Audio Cassette: string (nullable = true)\n",
      " |    |-- Blu-ray Audio: string (nullable = true)\n",
      " |    |-- DVD: string (nullable = true)\n",
      " |    |-- DVD Audio: string (nullable = true)\n",
      " |    |-- Label:: string (nullable = true)\n",
      " |    |-- MP3 Music: string (nullable = true)\n",
      " |    |-- Note on Boxed Sets:: string (nullable = true)\n",
      " |    |-- Number of Discs:: string (nullable = true)\n",
      " |    |-- Original Release Date:: string (nullable = true)\n",
      " |    |-- Please Note:: string (nullable = true)\n",
      " |    |-- Run Time:: string (nullable = true)\n",
      " |    |-- SPARS Code:: string (nullable = true)\n",
      " |    |-- Shipping Weight:: string (nullable = true)\n",
      " |    |-- UPC:: string (nullable = true)\n",
      " |    |-- Vinyl: string (nullable = true)\n",
      " |    |-- Vinyl Bound: string (nullable = true)\n",
      " |-- main_cat: string (nullable = false)\n",
      " |-- price: float (nullable = true)\n",
      " |-- rank: string (nullable = true)\n",
      " |-- title: string (nullable = true)\n",
      "\n"
     ]
    }
   ],
   "source": [
    "df_meta.printSchema()"
   ]
  },
  {
   "cell_type": "code",
   "execution_count": 11,
   "metadata": {},
   "outputs": [
    {
     "name": "stdout",
     "output_type": "stream",
     "text": [
      "root\n",
      " |-- also_buy: string (nullable = false)\n",
      " |-- also_view: string (nullable = false)\n",
      " |-- asin: string (nullable = true)\n",
      " |-- brand: string (nullable = false)\n",
      " |-- description: string (nullable = false)\n",
      " |-- details: struct (nullable = true)\n",
      " |    |-- \\n    Item Weight: \\n    : string (nullable = true)\n",
      " |    |-- \\n    Product Dimensions: \\n    : string (nullable = true)\n",
      " |    |-- ASIN:: string (nullable = true)\n",
      " |    |-- ASIN: : string (nullable = true)\n",
      " |    |-- Batteries: string (nullable = true)\n",
      " |    |-- Discontinued by manufacturer:: string (nullable = true)\n",
      " |    |-- Domestic Shipping: : string (nullable = true)\n",
      " |    |-- International Shipping: : string (nullable = true)\n",
      " |    |-- Item model number:: string (nullable = true)\n",
      " |    |-- Shipping Advisory:: string (nullable = true)\n",
      " |    |-- Shipping Weight:: string (nullable = true)\n",
      " |    |-- UPC:: string (nullable = true)\n",
      " |-- main_cat: string (nullable = false)\n",
      " |-- price: float (nullable = true)\n",
      " |-- rank: string (nullable = true)\n",
      " |-- title: string (nullable = true)\n",
      "\n"
     ]
    }
   ],
   "source": [
    "df_meta2.printSchema()"
   ]
  },
  {
   "cell_type": "code",
   "execution_count": 12,
   "metadata": {},
   "outputs": [
    {
     "name": "stdout",
     "output_type": "stream",
     "text": [
      "root\n",
      " |-- also_buy: string (nullable = false)\n",
      " |-- also_view: string (nullable = false)\n",
      " |-- asin: string (nullable = true)\n",
      " |-- brand: string (nullable = false)\n",
      " |-- description: string (nullable = false)\n",
      " |-- details: struct (nullable = true)\n",
      " |    |-- \\n    Item Weight: \\n    : string (nullable = true)\n",
      " |    |-- \\n    Product Dimensions: \\n    : string (nullable = true)\n",
      " |    |-- ASIN:: string (nullable = true)\n",
      " |    |-- ASIN: : string (nullable = true)\n",
      " |    |-- Batteries: string (nullable = true)\n",
      " |    |-- Domestic Shipping: : string (nullable = true)\n",
      " |    |-- International Shipping: : string (nullable = true)\n",
      " |    |-- Item model number:: string (nullable = true)\n",
      " |    |-- Publisher:: string (nullable = true)\n",
      " |    |-- Shipping Advisory:: string (nullable = true)\n",
      " |    |-- Shipping Weight:: string (nullable = true)\n",
      " |    |-- UPC:: string (nullable = true)\n",
      " |-- main_cat: string (nullable = false)\n",
      " |-- price: float (nullable = true)\n",
      " |-- rank: string (nullable = true)\n",
      " |-- title: string (nullable = true)\n",
      "\n"
     ]
    }
   ],
   "source": [
    "df_meta3.printSchema()"
   ]
  },
  {
   "cell_type": "code",
   "execution_count": 13,
   "metadata": {},
   "outputs": [
    {
     "name": "stdout",
     "output_type": "stream",
     "text": [
      "+-------------------------+--------------------------------+----------+------+-------+-------------------+--------------+-------------+----+---------+-----------------+---------+-------------------+----------------+----------------------+------------+---------+-----------+----------------+----+-----+-----------+\n",
      "|\\n    Item Weight: \\n    |\\n    Product Dimensions: \\n    |     ASIN:|ASIN: |Apparel|           Audio CD|Audio Cassette|Blu-ray Audio| DVD|DVD Audio|           Label:|MP3 Music|Note on Boxed Sets:|Number of Discs:|Original Release Date:|Please Note:|Run Time:|SPARS Code:|Shipping Weight:|UPC:|Vinyl|Vinyl Bound|\n",
      "+-------------------------+--------------------------------+----------+------+-------+-------------------+--------------+-------------+----+---------+-----------------+---------+-------------------+----------------+----------------------+------------+---------+-----------+----------------+----+-----+-----------+\n",
      "|                     null|                            null|B000003SDF|  null|   null| (February 4, 1997)|          null|         null|null|     null|Ash International|     null|               null|               1|                  null|        null|     null|       null|            null|null| null|       null|\n",
      "|                     null|                            null|B000006XV0|  null|   null|               null|          null|         null|null|     null|             CTMU|     null|               null|               1|                  null|        null|     null|       null|            null|null| null|       null|\n",
      "|                     null|                            null|B00000AQFD|  null|   null|               null|          null|         null|null|     null|           Import|     null|               null|               1|                  null|        null|     null|       null|            null|null| null|       null|\n",
      "|                     null|                            null|B00000AU08|  null|   null|     (July 4, 1993)|          null|         null|null|     null|            Goldr|     null|               null|            null|                  null|        null|     null|       null|            null|null| null|       null|\n",
      "|                     null|                            null|B00000B2X8|  null|   null|(November 11, 1996)|          null|         null|null|     null|            Longi|     null|               null|               1|                  null|        null|     null|       null|            null|null| null|       null|\n",
      "|                     null|                            null|B00000G8I8|  null|   null|               null|          null|         null|null|     null|     Warner Music|     null|               null|               1|                  null|        null|     null|       null|            null|null| null|       null|\n",
      "|                     null|                            null|B00000I6WO|  null|   null| (January 15, 1999)|          null|         null|null|     null|             null|     null|               null|               1|      January 15, 1999|        null|     null|       null|            null|null| null|       null|\n",
      "|                     null|                            null|B00000IIUU|  null|   null|    (March 7, 1999)|          null|         null|null|     null|             null|     null|               null|               1|         March 4, 1999|        null|     null|       null|            null|null| null|       null|\n",
      "|                     null|                            null|B00000IPJ0|  null|   null|  (January 2, 1997)|          null|         null|null|     null|             null|     null|               null|               1|       January 2, 1997|        null|     null|       null|            null|null| null|       null|\n",
      "|                     null|                            null|B00000JY35|  null|   null|               null|          null|         null|null|     null|             null|     null|               null|               1|                  null|        null|     null|       null|            null|null| null|       null|\n",
      "|                     null|                            null|B000024ABT|  null|   null|               null|          null|         null|null|     null|   Nelson, Willie|     null|               null|               2|                  null|        null|     null|       null|            null|null| null|       null|\n",
      "|                     null|                            null|B000024Z9N|  null|   null|               null|          null|         null|null|     null|             null|     null|               null|               1|                  null|        null|     null|       null|            null|null| null|       null|\n",
      "|                     null|                            null|B00002536B|  null|   null|    (July 15, 1999)|          null|         null|null|     null|        Arte Nova|     null|               null|               1|                  null|        null|     null|       null|            null|null| null|       null|\n",
      "|                     null|                            null|B0000255OD|  null|   null|               null|          null|         null|null|     null|       Laserlight|     null|               null|               1|                  null|        null|     null|       null|            null|null| null|       null|\n",
      "|                     null|                            null|B0000264M7|  null|   null|               null|          null|         null|null|     null|             null|     null|               null|               1|                  null|        null|     null|       null|            null|null| null|       null|\n",
      "|                     null|                            null|B00002676N|  null|   null|               null|          null|         null|null|     null|             null|     null|               null|               1|                  null|        null|     null|       null|            null|null| null|       null|\n",
      "|                     null|                            null|B000027DQK|  null|   null|               null|          null|         null|null|     null|              xxx|     null|               null|               1|                  null|        null|     null|       null|            null|null| null|       null|\n",
      "|                     null|                            null|B0000284GI|  null|   null|               null|          null|         null|null|     null|             null|     null|               null|               1|                  null|        null|     null|       null|            null|null| null|       null|\n",
      "|                     null|                            null|B00002MUIF|  null|   null|(February 27, 2007)|          null|         null|null|     null|            Castl|     null|               null|               1|                  null|        null|     null|       null|            null|null| null|       null|\n",
      "|                     null|                            null|B00002ZZBX|  null|   null|     (July 5, 1997)|          null|         null|null|     null|              Nmm|     null|               null|               1|                  null|        null|     null|       null|            null|null| null|       null|\n",
      "+-------------------------+--------------------------------+----------+------+-------+-------------------+--------------+-------------+----+---------+-----------------+---------+-------------------+----------------+----------------------+------------+---------+-----------+----------------+----+-----+-----------+\n",
      "only showing top 20 rows\n",
      "\n"
     ]
    }
   ],
   "source": [
    "df_details1 = df_meta.select(\n",
    "    \"details.*\"\n",
    ")\n",
    "df_details1.show()"
   ]
  },
  {
   "cell_type": "code",
   "execution_count": 14,
   "metadata": {},
   "outputs": [
    {
     "name": "stdout",
     "output_type": "stream",
     "text": [
      "+-------------------------+--------------------------------+-----+----------+---------+-----------------------------+--------------------+------------------------+------------------+------------------+----------------+--------------------+\n",
      "|\\n    Item Weight: \\n    |\\n    Product Dimensions: \\n    |ASIN:|    ASIN: |Batteries|Discontinued by manufacturer:| Domestic Shipping: |International Shipping: |Item model number:|Shipping Advisory:|Shipping Weight:|                UPC:|\n",
      "+-------------------------+--------------------------------+-----+----------+---------+-----------------------------+--------------------+------------------------+------------------+------------------+----------------+--------------------+\n",
      "|                     null|                            null| null|6546546450|     null|                         null|                null|                    null|              null|              null|            null|                null|\n",
      "|                     null|            5.4 x 2.1 x 2.1 i...| null|B00006ISDE|     null|                         null|Item can be shipp...|    This item is not ...|    10079400551402|              null|      8.8 ounces|079400551405 8856...|\n",
      "|                     null|                            null| null|B00028F0VO|     null|                         null|                null|                    null|              null|              null|      1.7 pounds|                null|\n",
      "|                 1 pounds|                            null| null|B000I7T8GW|     null|                         null|                null|                    null|              null|              null|        1 pounds|        102234149316|\n",
      "|                     null|                            null| null|B000K22380|     null|                         null|                null|                    null|              null|              null|      5.6 pounds|885325903072 8539...|\n",
      "|                     null|                            null| null|B000NWNBYM|     null|                         null|                null|                    null|              null|              null|            null|                null|\n",
      "|                     null|                            null| null|B000TGMKM6|     null|                         null|                null|                    null|              9791|              null|      4.2 ounces|                null|\n",
      "|                     null|                            null| null|B000VWSCFW|     null|                         null|                null|                    null|              null|              null|            null|                null|\n",
      "|                     null|                            null| null|B001ARTLBG|     null|                         null|                null|                    null|              null|              null|      0.8 ounces|        764505037892|\n",
      "|                     null|                            null| null|B001GBIJKK|     null|                         null|                null|                    null|              null|              null|            null|        037000088363|\n",
      "|                     null|                            null| null|B001JX8CPM|     null|                         null|                null|                    null|              null|              null|      0.3 ounces|        658915032809|\n",
      "|                     null|            2.6 x 8.1 x 10 in...| null|B001LYBSK0|     null|                         null|                null|                    null|             01479|              null|    1.6 ounces (|                null|\n",
      "|                     null|            4.9 x 1.7 x 8.2 i...| null|B002791OAC|     null|                         null|Item can be shipp...|    This item is not ...|             40578|              null|      3.2 ounces|011017405788 6899...|\n",
      "|                     null|                            null| null|B0030PMA5A|     null|                         null|                null|                    null|              null|              null|       18 pounds|                null|\n",
      "|                     null|                            null| null|B0032GCR4Q|     null|                         null|                null|                    null|              null|              null|    1.1 pounds (|        690750360495|\n",
      "|                     null|                            null| null|B003HMU6FC|     null|                         null|                null|                    null|              null|              null|      0.2 ounces|                null|\n",
      "|                     null|                            null| null|B003JTX4FM|     null|                         null|                null|                    null|              null|              null|    1.2 pounds (|        797734350524|\n",
      "|                     null|                            null| null|B004HWZR5U|     null|                         null|                null|                    null|     5014697038913|              null|      7.8 ounces|                null|\n",
      "|                     null|            12 x 4 x 12 inche...| null|B004NKF10M|     null|                         null|                null|                    null|              16oz|              null|        9 pounds|                null|\n",
      "|                     null|                            null| null|B004Q84J86|     null|                         null|                null|                    null|              null|              null|     11.4 ounces|                null|\n",
      "+-------------------------+--------------------------------+-----+----------+---------+-----------------------------+--------------------+------------------------+------------------+------------------+----------------+--------------------+\n",
      "only showing top 20 rows\n",
      "\n"
     ]
    }
   ],
   "source": [
    "df_details2 = df_meta2.select(\n",
    "    \"details.*\"\n",
    ")\n",
    "df_details2.show()"
   ]
  },
  {
   "cell_type": "code",
   "execution_count": 15,
   "metadata": {},
   "outputs": [
    {
     "name": "stdout",
     "output_type": "stream",
     "text": [
      "+-------------------------+--------------------------------+-----+------+---------+-------------------+------------------------+------------------+----------+------------------+----------------+----+\n",
      "|\\n    Item Weight: \\n    |\\n    Product Dimensions: \\n    |ASIN:|ASIN: |Batteries|Domestic Shipping: |International Shipping: |Item model number:|Publisher:|Shipping Advisory:|Shipping Weight:|UPC:|\n",
      "+-------------------------+--------------------------------+-----+------+---------+-------------------+------------------------+------------------+----------+------------------+----------------+----+\n",
      "|                     null|                            null| null|  null|     null|               null|                    null|              null|      null|              null|            null|null|\n",
      "|                     null|                            null| null|  null|     null|               null|                    null|              null|      null|              null|            null|null|\n",
      "|                     null|                            null| null|  null|     null|               null|                    null|              null|      null|              null|            null|null|\n",
      "|                     null|                            null| null|  null|     null|               null|                    null|              null|      null|              null|            null|null|\n",
      "|                     null|                            null| null|  null|     null|               null|                    null|              null|      null|              null|            null|null|\n",
      "|                     null|                            null| null|  null|     null|               null|                    null|              null|      null|              null|            null|null|\n",
      "|                     null|                            null| null|  null|     null|               null|                    null|              null|      null|              null|            null|null|\n",
      "|                     null|                            null| null|  null|     null|               null|                    null|              null|      null|              null|            null|null|\n",
      "|                     null|                            null| null|  null|     null|               null|                    null|              null|      null|              null|            null|null|\n",
      "|                     null|                            null| null|  null|     null|               null|                    null|              null|      null|              null|            null|null|\n",
      "|                     null|                            null| null|  null|     null|               null|                    null|              null|      null|              null|            null|null|\n",
      "|                     null|                            null| null|  null|     null|               null|                    null|              null|      null|              null|            null|null|\n",
      "|                     null|                            null| null|  null|     null|               null|                    null|              null|      null|              null|            null|null|\n",
      "|                     null|                            null| null|  null|     null|               null|                    null|              null|      null|              null|            null|null|\n",
      "|                     null|                            null| null|  null|     null|               null|                    null|              null|      null|              null|            null|null|\n",
      "|                     null|                            null| null|  null|     null|               null|                    null|              null|      null|              null|            null|null|\n",
      "|                     null|                            null| null|  null|     null|               null|                    null|              null|      null|              null|            null|null|\n",
      "|                     null|                            null| null|  null|     null|               null|                    null|              null|      null|              null|            null|null|\n",
      "|                     null|                            null| null|  null|     null|               null|                    null|              null|      null|              null|            null|null|\n",
      "|                     null|                            null| null|  null|     null|               null|                    null|              null|      null|              null|            null|null|\n",
      "+-------------------------+--------------------------------+-----+------+---------+-------------------+------------------------+------------------+----------+------------------+----------------+----+\n",
      "only showing top 20 rows\n",
      "\n"
     ]
    }
   ],
   "source": [
    "df_details3 = df_meta3.select(\n",
    "    \"details.*\"\n",
    ")\n",
    "df_details3.show()"
   ]
  }
 ],
 "metadata": {
  "kernelspec": {
   "display_name": "venv_sistema_amazon",
   "language": "python",
   "name": "python3"
  },
  "language_info": {
   "codemirror_mode": {
    "name": "ipython",
    "version": 3
   },
   "file_extension": ".py",
   "mimetype": "text/x-python",
   "name": "python",
   "nbconvert_exporter": "python",
   "pygments_lexer": "ipython3",
   "version": "3.11.1"
  },
  "orig_nbformat": 4
 },
 "nbformat": 4,
 "nbformat_minor": 2
}
