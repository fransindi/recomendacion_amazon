{
 "cells": [
  {
   "cell_type": "code",
   "execution_count": 1,
   "metadata": {},
   "outputs": [],
   "source": [
    "import numpy as np #importamos numpy para un mejor manejo de matrizes, filas y valores\n",
    "import matplotlib.pyplot as plt #esta libreria la usaremos para graficar\n",
    "from pyspark.sql import SparkSession #PySpark sera nuestra opcion para el manejo de grandes volumenes de datos\n",
    "import os\n",
    "import pandas\n",
    "\n",
    "# Crea una sesión de Spark\n",
    "spark = SparkSession.builder \\\n",
    "    .appName(\"MiAplicacionSpark\") \\\n",
    "    .getOrCreate()\n",
    "\n",
    "# Importamos las funciones de sql de pyspark para manejar mejor las columnas\n",
    "from pyspark.sql.functions import col, sum, when, size, length, to_date, from_unixtime, year, count\n",
    "\n",
    "from pyspark.sql.types import StructType, StructField, StringType, FloatType, IntegerType, BooleanType\n",
    "\n",
    "import importlib\n",
    "import utils.validation\n",
    "\n",
    "#Reload the functions module\n",
    "importlib.reload(utils.validation)"
   ]
  },
  {
   "cell_type": "code",
   "execution_count": 2,
   "metadata": {},
   "outputs": [],
   "source": [
    "from automatizacion_reviews import etl_reviews\n",
    "from automatizacion_metadata import etl_metadata"
   ]
  },
  {
   "cell_type": "code",
   "execution_count": 3,
   "metadata": {},
   "outputs": [],
   "source": [
    "df = etl_reviews('../datasets/Digital_Music.json')\n",
    "df2 = etl_reviews('../datasets/All_Beauty.json')\n",
    "df3 = etl_reviews('../datasets/Appliances.json')\n",
    "df4 = etl_reviews('../datasets/Musical_Instruments.json')"
   ]
  },
  {
   "cell_type": "code",
   "execution_count": 16,
   "metadata": {},
   "outputs": [
    {
     "name": "stdout",
     "output_type": "stream",
     "text": [
      "+----------+-------+--------------------+--------------+--------------+--------+-------------------+-----------+\n",
      "|      asin|overall|          reviewText|    reviewerID|  reviewerName|verified|        review_date|review_year|\n",
      "+----------+-------+--------------------+--------------+--------------+--------+-------------------+-----------+\n",
      "|B000V6AEI6|    5.0|The composistions...| AAVK0CAPD9XH5|          mole|   false|2003-12-31 21:00:00|       2003|\n",
      "|B000VRWV4U|    5.0|I needed some sca...|A3O39R049OZZUZ|         Wonka|    true|2012-12-31 21:00:00|       2012|\n",
      "|B000TE3FBS|    1.0|never received it...| A19CD6KQG33SD|         Dixie|    true|2013-12-31 21:00:00|       2013|\n",
      "|B0048W3SQ4|    5.0|WHAT ELSE CAN YOU...|A1WHQ7EFI717UH|JOHNWAYNEFAN57|    true|2013-01-09 21:00:00|       2013|\n",
      "|B0011W0BKA|    5.0|use this for our ...|A2JTT6E8TMNUIG|Family of Five|    true|2013-01-10 21:00:00|       2013|\n",
      "+----------+-------+--------------------+--------------+--------------+--------+-------------------+-----------+\n",
      "only showing top 5 rows\n",
      "\n",
      "+----------+-------+--------------------+--------------+-----------------+--------+-------------------+-----------+\n",
      "|      asin|overall|          reviewText|    reviewerID|     reviewerName|verified|        review_date|review_year|\n",
      "+----------+-------+--------------------+--------------+-----------------+--------+-------------------+-----------+\n",
      "|1620213982|    5.0|Perfect stand for...|A1GXXR1MIRDS6O|          Mark M.|    true|2017-10-22 21:00:00|       2017|\n",
      "|1620213982|    4.0|Strudy, stable & ...| A6QYTV6FFDAPY|          redhead|    true|2017-09-10 21:00:00|       2017|\n",
      "|1620213982|    4.0|good product but ...|A20QI5C2MFOXD4| Mike Migdalovich|    true|2017-02-22 21:00:00|       2017|\n",
      "|1620213982|    4.0|Great product. De...| AE28AUOA6RRME| Claudia Landivar|    true|2016-12-24 21:00:00|       2016|\n",
      "|1620213982|    4.0|I bought this as ...|A22BJNGI8CFJWJ|Joe&#039;s Amazon|    true|2016-12-17 21:00:00|       2016|\n",
      "+----------+-------+--------------------+--------------+-----------------+--------+-------------------+-----------+\n",
      "only showing top 5 rows\n",
      "\n",
      "+----------+-------+--------------------+--------------+------------------+--------+-------------------+-----------+\n",
      "|      asin|overall|          reviewText|    reviewerID|      reviewerName|verified|        review_date|review_year|\n",
      "+----------+-------+--------------------+--------------+------------------+--------+-------------------+-----------+\n",
      "|B00004YWK2|    3.0|It broke at the s...|A3K9IRC89IN1TI|       Acqua Crush|   false|2014-11-01 21:00:00|       2014|\n",
      "|B00004YWK2|    5.0|Simple\\n\\nDurable...|A1SPSXLSP0YHS9|     Simplicity707|    true|2014-04-29 21:00:00|       2014|\n",
      "|B00004YWK2|    4.0|Reasonable price,...| AXQPJFOALBYAH|          David L.|    true|2014-02-26 21:00:00|       2014|\n",
      "|B00004YWK2|    4.0|This is a handy t...| AMTP99FS7VJ6K|             Scott|    true|2013-03-19 21:00:00|       2013|\n",
      "|B00004YWK2|    3.0|The device does w...|A30860LMO2PYWZ|AB from Los Alamos|    true|2008-11-28 22:00:00|       2008|\n",
      "+----------+-------+--------------------+--------------+------------------+--------+-------------------+-----------+\n",
      "only showing top 5 rows\n",
      "\n",
      "+----------+-------+--------------------+--------------+--------------+--------+-------------------+-----------+\n",
      "|      asin|overall|          reviewText|    reviewerID|  reviewerName|verified|        review_date|review_year|\n",
      "+----------+-------+--------------------+--------------+--------------+--------+-------------------+-----------+\n",
      "|B00004UE29|    5.0|We are happy with...|A2IB4DJZ68X6E4|       Cindy B|   false|2014-12-31 21:00:00|       2014|\n",
      "|1480360295|    1.0|if you want to re...| A4HXCG31L4VKG|          Eric|   false|2014-12-31 21:00:00|       2014|\n",
      "|B0002F6SFE|    5.0|I have a variety ...|A3IOC2FEZ283XZ|         Mr. V|    true|2012-01-09 21:00:00|       2012|\n",
      "|B0002E2SA4|    5.0|Sorry - that head...| APYFCWJE9J363|Brian Houghton|    true|2014-01-09 21:00:00|       2014|\n",
      "|B000FPPZLE|    5.0|Arrived on time a...|A2IZXMMMMSV6A9|  lisa richner|    true|2015-01-09 21:00:00|       2015|\n",
      "+----------+-------+--------------------+--------------+--------------+--------+-------------------+-----------+\n",
      "only showing top 5 rows\n",
      "\n"
     ]
    }
   ],
   "source": [
    "df.show(5)\n",
    "df2.show(5)\n",
    "df3.show(5)\n",
    "df4.show(5)"
   ]
  },
  {
   "cell_type": "code",
   "execution_count": 17,
   "metadata": {},
   "outputs": [],
   "source": [
    "df_meta = etl_metadata('../datasets/meta_Digital_Music.json')\n",
    "df_meta2 = etl_metadata('../datasets/meta_All_Beauty.json')\n",
    "df_meta3 = etl_metadata('../datasets/meta_Appliances.json')\n",
    "df_meta4 = etl_metadata('../datasets/meta_Musical_Instruments.json')"
   ]
  },
  {
   "cell_type": "code",
   "execution_count": 9,
   "metadata": {},
   "outputs": [
    {
     "name": "stdout",
     "output_type": "stream",
     "text": [
      "+--------+---------+----------+-------------------+-----------+--------------------+-------------+-----+-------+--------------------+\n",
      "|also_buy|also_view|      asin|              brand|description|             details|     main_cat|price|   rank|               title|\n",
      "+--------+---------+----------+-------------------+-----------+--------------------+-------------+-----+-------+--------------------+\n",
      "|     N/D|      N/D|B000003SDF|    Richard H. Kirk|        N/D|{null, null, B000...|Digital Music| 9.99|1255550|Agents With False...|\n",
      "|     N/D|      N/D|B000006XV0|           Creation|        N/D|{null, null, B000...|Digital Music| 12.5|1761232|       Lay the Ghost|\n",
      "|     N/D|      N/D|B00000AQFD|Wildecker Herzbuben|        N/D|{null, null, B000...|Digital Music| 1.72|1157548|Ist das nicht him...|\n",
      "+--------+---------+----------+-------------------+-----------+--------------------+-------------+-----+-------+--------------------+\n",
      "only showing top 3 rows\n",
      "\n",
      "+--------+---------+----------+----------+--------------------+--------------------+-------------+-----+----------------+--------------------+\n",
      "|also_buy|also_view|      asin|     brand|         description|             details|     main_cat|price|            rank|               title|\n",
      "+--------+---------+----------+----------+--------------------+--------------------+-------------+-----+----------------+--------------------+\n",
      "|     N/D|      N/D|B002JZVWMO| Whirlpool|Organizing your g...|{null, null, null...|Digital Music|24.99|    508231003983|          Whirlpool |\n",
      "|     N/D|      N/D|B002ZDANJI| Whirlpool|Whirlpool Part Nu...|{null, null, null...|Digital Music|28.99|1018105100103792|Whirlpool Part Nu...|\n",
      "|     N/D|      N/D|B004Q3VMA4|Frigidaire|                 N/D|{null, null, null...|Digital Music|89.68| 217539310043804|Frigidaire 530801...|\n",
      "+--------+---------+----------+----------+--------------------+--------------------+-------------+-----+----------------+--------------------+\n",
      "only showing top 3 rows\n",
      "\n",
      "+--------------------+--------------------+----------+--------------+--------------------+--------------------+-------------+-----+-------+--------------------+\n",
      "|            also_buy|           also_view|      asin|         brand|         description|             details|     main_cat|price|   rank|               title|\n",
      "+--------------------+--------------------+----------+--------------+--------------------+--------------------+-------------+-----+-------+--------------------+\n",
      "|                 N/D|                 N/D|6546546450|  idea village|Loud 'N Clear Per...|{null, null, null...|Digital Music| 9.99|2938573|Loud 'N Clear&tra...|\n",
      "|B001E95K7E, B008C...|B00J5K36UM, B009Z...|B00006ISDE|       AXE DEO|AXE Body Spray fo...|{null, 5.4 x 2.1 ...|Digital Music| 9.99| 422354|AXE Body Spray fo...|\n",
      "|                 N/D|                 N/D|B00028F0VO|Desert Essence|Desert Essence pu...|{null, null, null...|Digital Music| 9.99|3404605|Toothpaste, Tea T...|\n",
      "+--------------------+--------------------+----------+--------------+--------------------+--------------------+-------------+-----+-------+--------------------+\n",
      "only showing top 3 rows\n",
      "\n"
     ]
    }
   ],
   "source": [
    "df_meta.show(3)\n",
    "df_meta2.show(3)\n",
    "df_meta3.show(3)\n",
    "df_meta4.show(3)"
   ]
  }
 ],
 "metadata": {
  "kernelspec": {
   "display_name": "venv_sistema_amazon",
   "language": "python",
   "name": "python3"
  },
  "language_info": {
   "codemirror_mode": {
    "name": "ipython",
    "version": 3
   },
   "file_extension": ".py",
   "mimetype": "text/x-python",
   "name": "python",
   "nbconvert_exporter": "python",
   "pygments_lexer": "ipython3",
   "version": "3.11.1"
  },
  "orig_nbformat": 4
 },
 "nbformat": 4,
 "nbformat_minor": 2
}
