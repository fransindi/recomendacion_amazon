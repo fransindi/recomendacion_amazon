{
 "cells": [
  {
   "cell_type": "code",
   "execution_count": 1,
   "metadata": {},
   "outputs": [],
   "source": [
    "import numpy as np #importamos numpy para un mejor manejo de matrizes, filas y valores\n",
    "import matplotlib.pyplot as plt #esta libreria la usaremos para graficar\n",
    "from pyspark.sql import SparkSession #PySpark sera nuestra opcion para el manejo de grandes volumenes de datos\n",
    "import os\n",
    "import pandas\n",
    "\n",
    "# Crea una sesión de Spark\n",
    "spark = SparkSession.builder \\\n",
    "    .appName(\"MiAplicacionSpark\") \\\n",
    "    .getOrCreate()\n",
    "\n",
    "# Importamos las funciones de sql de pyspark para manejar mejor las columnas\n",
    "from pyspark.sql.functions import col, sum, when, size, length, to_date, from_unixtime, year, count\n",
    "\n"
   ]
  },
  {
   "cell_type": "code",
   "execution_count": 2,
   "metadata": {},
   "outputs": [],
   "source": [
    "from automatizacion_reviews import etl_reviews"
   ]
  },
  {
   "cell_type": "code",
   "execution_count": 3,
   "metadata": {},
   "outputs": [],
   "source": [
    "df = etl_reviews('../datasets/Digital_Music.json')"
   ]
  },
  {
   "cell_type": "code",
   "execution_count": 7,
   "metadata": {},
   "outputs": [],
   "source": [
    "df2 = etl_reviews('../datasets/All_Beauty.json')"
   ]
  },
  {
   "cell_type": "code",
   "execution_count": 9,
   "metadata": {},
   "outputs": [],
   "source": [
    "df3 = etl_reviews('../datasets/Appliances.json')"
   ]
  },
  {
   "cell_type": "code",
   "execution_count": 11,
   "metadata": {},
   "outputs": [
    {
     "name": "stdout",
     "output_type": "stream",
     "text": [
      "+----------+-------+--------------------+--------------+--------------+--------+-------------------+-----------+\n",
      "|      asin|overall|          reviewText|    reviewerID|  reviewerName|verified|        review_date|review_year|\n",
      "+----------+-------+--------------------+--------------+--------------+--------+-------------------+-----------+\n",
      "|B000V6AEI6|    5.0|The composistions...| AAVK0CAPD9XH5|          mole|   false|2003-12-31 21:00:00|       2003|\n",
      "|B000VRWV4U|    5.0|I needed some sca...|A3O39R049OZZUZ|         Wonka|    true|2012-12-31 21:00:00|       2012|\n",
      "|B000TE3FBS|    1.0|never received it...| A19CD6KQG33SD|         Dixie|    true|2013-12-31 21:00:00|       2013|\n",
      "|B0048W3SQ4|    5.0|WHAT ELSE CAN YOU...|A1WHQ7EFI717UH|JOHNWAYNEFAN57|    true|2013-01-09 21:00:00|       2013|\n",
      "|B0011W0BKA|    5.0|use this for our ...|A2JTT6E8TMNUIG|Family of Five|    true|2013-01-10 21:00:00|       2013|\n",
      "+----------+-------+--------------------+--------------+--------------+--------+-------------------+-----------+\n",
      "only showing top 5 rows\n",
      "\n",
      "+----------+-------+--------------------+--------------+-----------------+--------+-------------------+-----------+\n",
      "|      asin|overall|          reviewText|    reviewerID|     reviewerName|verified|        review_date|review_year|\n",
      "+----------+-------+--------------------+--------------+-----------------+--------+-------------------+-----------+\n",
      "|1620213982|    5.0|Perfect stand for...|A1GXXR1MIRDS6O|          Mark M.|    true|2017-10-22 21:00:00|       2017|\n",
      "|1620213982|    4.0|Strudy, stable & ...| A6QYTV6FFDAPY|          redhead|    true|2017-09-10 21:00:00|       2017|\n",
      "|1620213982|    4.0|good product but ...|A20QI5C2MFOXD4| Mike Migdalovich|    true|2017-02-22 21:00:00|       2017|\n",
      "|1620213982|    4.0|Great product. De...| AE28AUOA6RRME| Claudia Landivar|    true|2016-12-24 21:00:00|       2016|\n",
      "|1620213982|    4.0|I bought this as ...|A22BJNGI8CFJWJ|Joe&#039;s Amazon|    true|2016-12-17 21:00:00|       2016|\n",
      "+----------+-------+--------------------+--------------+-----------------+--------+-------------------+-----------+\n",
      "only showing top 5 rows\n",
      "\n",
      "+----------+-------+--------------------+--------------+------------------+--------+-------------------+-----------+\n",
      "|      asin|overall|          reviewText|    reviewerID|      reviewerName|verified|        review_date|review_year|\n",
      "+----------+-------+--------------------+--------------+------------------+--------+-------------------+-----------+\n",
      "|B00004YWK2|    3.0|It broke at the s...|A3K9IRC89IN1TI|       Acqua Crush|   false|2014-11-01 21:00:00|       2014|\n",
      "|B00004YWK2|    5.0|Simple\\n\\nDurable...|A1SPSXLSP0YHS9|     Simplicity707|    true|2014-04-29 21:00:00|       2014|\n",
      "|B00004YWK2|    4.0|Reasonable price,...| AXQPJFOALBYAH|          David L.|    true|2014-02-26 21:00:00|       2014|\n",
      "|B00004YWK2|    4.0|This is a handy t...| AMTP99FS7VJ6K|             Scott|    true|2013-03-19 21:00:00|       2013|\n",
      "|B00004YWK2|    3.0|The device does w...|A30860LMO2PYWZ|AB from Los Alamos|    true|2008-11-28 22:00:00|       2008|\n",
      "+----------+-------+--------------------+--------------+------------------+--------+-------------------+-----------+\n",
      "only showing top 5 rows\n",
      "\n"
     ]
    }
   ],
   "source": [
    "df.show(5)\n",
    "df2.show(5)\n",
    "df3.show(5)"
   ]
  }
 ],
 "metadata": {
  "kernelspec": {
   "display_name": "venv_sistema_amazon",
   "language": "python",
   "name": "python3"
  },
  "language_info": {
   "codemirror_mode": {
    "name": "ipython",
    "version": 3
   },
   "file_extension": ".py",
   "mimetype": "text/x-python",
   "name": "python",
   "nbconvert_exporter": "python",
   "pygments_lexer": "ipython3",
   "version": "3.11.1"
  },
  "orig_nbformat": 4
 },
 "nbformat": 4,
 "nbformat_minor": 2
}
