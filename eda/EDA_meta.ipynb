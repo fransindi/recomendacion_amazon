{
 "cells": [
  {
   "cell_type": "markdown",
   "metadata": {},
   "source": [
    "# EDA Tablas Meta\n",
    "---\n",
    "tras nuestro analisis a las distintas tablas de datos, nos dimos cuenta de la similaridad en estructura de cada una de las tablas, por lo que crearemos un EDA modelo donde respetaremos los pasos para automatizar este proceso."
   ]
  },
  {
   "cell_type": "markdown",
   "metadata": {},
   "source": [
    "### Importacion de librerias"
   ]
  },
  {
   "cell_type": "code",
   "execution_count": 1,
   "metadata": {},
   "outputs": [],
   "source": [
    "import pandas as pd #utilizaremos pandas para el mejor manejo de tablas\n",
    "import numpy as np #utilizaremos numpy para un mejor tratamiento de los datos\n",
    "import matplotlib.pyplot as plt\n",
    "import seaborn as sns # matplotlib y seaborn seran usados para graficar\n",
    "from pyspark.sql import SparkSession #pyspark lo usaremos como opcion al gran requerimiento de procesamiento de datos\n",
    "\n",
    "# Crea una sesión de Spark\n",
    "spark = SparkSession.builder \\\n",
    "    .appName(\"MiAplicacionSpark\") \\\n",
    "    .getOrCreate()\n",
    "#importamos las funciones sql de pyspark para el manejo de columnas y valores\n",
    "from pyspark.sql.functions import col, sum, when, size, length, to_date, from_unixtime, year, regexp_replace, avg, lit, coalesce, array, concat_ws, isnull, explode\n",
    "from pyspark.ml.feature import Imputer"
   ]
  },
  {
   "cell_type": "markdown",
   "metadata": {},
   "source": [
    "## Paso 1: Extraemos archivo.\n",
    "---"
   ]
  },
  {
   "cell_type": "code",
   "execution_count": 2,
   "metadata": {},
   "outputs": [
    {
     "data": {
      "text/plain": [
       "74347"
      ]
     },
     "execution_count": 2,
     "metadata": {},
     "output_type": "execute_result"
    }
   ],
   "source": [
    "df = spark.read.json('../datasets/meta_Digital_Music.json', encoding='UTF-8')\n",
    "#observamos la cantidad de filas\n",
    "df.count()"
   ]
  },
  {
   "cell_type": "code",
   "execution_count": 3,
   "metadata": {},
   "outputs": [
    {
     "name": "stdout",
     "output_type": "stream",
     "text": [
      "+--------------------+--------------------+----------+--------------------+--------+----+--------------------+-------+-------+---+--------------------+--------------------+--------------------+---------+--------------------+------------+-----+-----+--------------------+\n",
      "|            also_buy|           also_view|      asin|               brand|category|date|         description|details|feature|fit|            imageURL|     imageURLHighRes|            main_cat|    price|                rank|similar_item|tech1|tech2|               title|\n",
      "+--------------------+--------------------+----------+--------------------+--------+----+--------------------+-------+-------+---+--------------------+--------------------+--------------------+---------+--------------------+------------+-----+-----+--------------------+\n",
      "|[B000002UEN, B000...|[B000002UEN, B000...|0001377647| John Michael Talbot|      []|    |                  []|   null|     []|   |                  []|                  []|<img src=\"https:/...|   $18.99|58,291 in CDs & V...|            |     |     |Master Collection...|\n",
      "|[5558154950, B000...|[B000008KJ3, B000...|0001529145|Second Chapter of...|      []|    |                  []|   null|     []|   |                  []|                  []|<img src=\"https:/...|         |93,164 in CDs & V...|            |     |     |Hymns Collection:...|\n",
      "|[B00004RC05, B003...|[B003H8F4NA, B003...|0001527134|       Don Francisco|      []|    |                  []|   null|     []|   |                  []|                  []|<img src=\"https:/...|         |875,825 in CDs & ...|            |     |     |Early Works - Don...|\n",
      "|[B0000275QQ, 0001...|[B00000I7JO, B001...|0001388703|         Keith Green|      []|    |                  []|   null|     []|   |                  []|                  []|<img src=\"https:/...|   $13.01|203,263 in CDs & ...|            |     |     |So You Wanna Go B...|\n",
      "|[B0002N4JP2, 0760...|[B0002N4JP2, 0760...|0001526146|         Dallas Holm|      []|    |[1. Losing Game 2...|   null|     []|   |                  []|                  []|<img src=\"https:/...|         |399,269 in CDs & ...|            |     |     |Early Works - Dal...|\n",
      "|                  []|                  []|0005096421|   Michael Faircloth|      []|    |                  []|   null|     []|   |                  []|                  []|<img src=\"https:/...|         |779,669 in CDs & ...|            |     |     |The Glory of Love...|\n",
      "|                  []|[B0001XJ372, B000...|0006882919| John Michael Talbot|      []|    |                  []|   null|     []|   |[https://images-n...|[https://images-n...|<img src=\"https:/...|    $5.95|444,064 in CDs &a...|            |     |     |Songs for Worship...|\n",
      "|[0830838015, B000...|[B00190TXSA, B000...|0006920055|        Michael Card|      []|    |                  []|   null|     []|   |[https://images-n...|[https://images-n...|<img src=\"https:/...|   $34.98|36,667 in CDs &am...|            |     |     |The Life: The Com...|\n",
      "|[B000008LD5, B000...|[B000008LDH, B000...|0006935257| John Michael Talbot|      []|    |                  []|   null|     []|   |                  []|                  []|<img src=\"https:/...|         |147,412 in CDs & ...|            |     |     |The Lord's Supper...|\n",
      "|                  []|                  []|0159024684|Totally Catholic ...|      []|    |                 [.]|   null|     []|   |[https://images-n...|[https://images-n...|<img src=\"https:/...|    $6.98|774,772 in CDs & ...|            |     |     |Sing &amp; Play S...|\n",
      "|                  []|[0382262948, 0382...|0382262921| Silver Burdett Ginn|      []|    |[The Music Connec...|   null|     []|   |[https://images-n...|[https://images-n...|<img src=\"https:/...|   $18.79|694,369 in CDs & ...|            |     |     |The Music Connect...|\n",
      "|                  []|                  []|0439827469|              Edmark|      []|    |                  []|   null|     []|   |[https://images-n...|[https://images-n...|<img src=\"https:/...|    $2.35|758,564 in CDs &a...|            |     |     |Mighty Math Numbe...|\n",
      "|                  []|                  []|0545069882|Transparent Language|      []|    |[Spanish Before Y...|   null|     []|   |[https://images-n...|[https://images-n...|<img src=\"https:/...|$9,600.61|1,153,345 in CDs ...|            |     |     |Spanish Before Yo...|\n",
      "|                  []|[B00YZ82TPW, B000...|0545109620|                    |      []|    |[Just the CD. The...|   null|     []|   |[https://images-n...|[https://images-n...|<img src=\"https:/...|    $6.14|242,922 in CDs &a...|            |     |     |Puff the Magic Dr...|\n",
      "|                  []|        [1481400568]|0545352886|      Bill Martin Jr|      []|    |[These entertaini...|   null|     []|   |                  []|                  []|<img src=\"https:/...|         |564,433 in CDs & ...|            |     |     |Chicka Chicka Boo...|\n",
      "|                  []|                  []|0578077698|         David Teems|      []|    |[The KING JAMES B...|   null|     []|   |[https://images-n...|[https://images-n...|<img src=\"https:/...|  $500.00|506,806 in CDs &a...|            |     |     |         Speak To Me|\n",
      "|                  []|                  []|0615116809|      Ambika Wauters|      []|    |                  []|   null|     []|   |                  []|                  []|<img src=\"https:/...|         |1,079,906 in CDs ...|            |     |     |Angelic Prayers &...|\n",
      "|                  []|                  []|0615165982|Benita A. Esposit...|      []|    |[Soothing backgro...|   null|     []|   |[https://images-n...|[https://images-n...|<img src=\"https:/...|         |980,759 in CDs &a...|            |     |     |<span class=\"a-si...|\n",
      "|                  []|                  []|0615516297|Dennis Buttimer A...|      []|    |[The guided medit...|   null|     []|   |                  []|                  []|<img src=\"https:/...|         |1,388,131 in CDs ...|            |     |     |<span class=\"a-si...|\n",
      "|[0692384251, B004...|        [0692384251]|0615897398|  Jacqueline Houston|      []|    |[The seasons are ...|   null|     []|   |[https://images-n...|[https://images-n...|<img src=\"https:/...|         |200,626 in CDs &a...|            |     |     |The Tales of Mind...|\n",
      "+--------------------+--------------------+----------+--------------------+--------+----+--------------------+-------+-------+---+--------------------+--------------------+--------------------+---------+--------------------+------------+-----+-----+--------------------+\n",
      "only showing top 20 rows\n",
      "\n"
     ]
    }
   ],
   "source": [
    "df.show()"
   ]
  },
  {
   "cell_type": "markdown",
   "metadata": {},
   "source": [
    "## Paso 2: Manejo de Duplicados.\n",
    "---"
   ]
  },
  {
   "cell_type": "code",
   "execution_count": 4,
   "metadata": {},
   "outputs": [
    {
     "name": "stdout",
     "output_type": "stream",
     "text": [
      "Número de filas duplicadas: 8334\n",
      "Porcentaje de filas duplicadas: 0.11209598235302029\n"
     ]
    }
   ],
   "source": [
    "num_filas_duplicadas = df.count() - df.dropDuplicates().count()\n",
    "\n",
    "# Imprime el número de filas duplicadas\n",
    "print(\"Número de filas duplicadas:\", num_filas_duplicadas)\n",
    "print(f\"Porcentaje de filas duplicadas: {num_filas_duplicadas / df.count()}\")\n",
    "df = df.dropDuplicates()"
   ]
  },
  {
   "cell_type": "markdown",
   "metadata": {},
   "source": [
    "Eliminamos los duplicados ya que se repiten los valores en todas las columnas el mismo valor, con valores como also_buy que implican que es exactamente lo mismo"
   ]
  },
  {
   "cell_type": "markdown",
   "metadata": {},
   "source": [
    "## Paso 3: Manejo de Faltantes."
   ]
  },
  {
   "cell_type": "markdown",
   "metadata": {},
   "source": [
    "Primero revisemos los valores faltantes"
   ]
  },
  {
   "cell_type": "code",
   "execution_count": 5,
   "metadata": {},
   "outputs": [
    {
     "name": "stdout",
     "output_type": "stream",
     "text": [
      "cantidad de filas: 66013\n",
      "+--------+---------+----+-----+--------+----+-----------+-------+-------+---+--------+---------------+--------+-----+----+------------+-----+-----+-----+\n",
      "|also_buy|also_view|asin|brand|category|date|description|details|feature|fit|imageURL|imageURLHighRes|main_cat|price|rank|similar_item|tech1|tech2|title|\n",
      "+--------+---------+----+-----+--------+----+-----------+-------+-------+---+--------+---------------+--------+-----+----+------------+-----+-----+-----+\n",
      "|       0|        0|   0|    0|       0|   0|          0|    534|      0|  0|       0|              0|       0|    0|   0|           0|    0|    0|    0|\n",
      "+--------+---------+----+-----+--------+----+-----------+-------+-------+---+--------+---------------+--------+-----+----+------------+-----+-----+-----+\n",
      "\n"
     ]
    }
   ],
   "source": [
    "# Calcula la cantidad de nulos por columna\n",
    "conteo_de_nulos_por_columna = df.select([sum(col(c).isNull().cast(\"int\")).alias(c) for c in df.columns])\n",
    "\n",
    "print(f\"cantidad de filas: {df.count()}\")\n",
    "# Muestra el resultado\n",
    "conteo_de_nulos_por_columna.show()"
   ]
  },
  {
   "cell_type": "markdown",
   "metadata": {},
   "source": [
    "Podemos observar que la mayoria de las columnas no poseen faltantes, pero en un breve vistaso a nuestra tabla sabemos que esto no es cierto, por lo que convertiremos las filas vacias de todas las columnas de tipo array y todas las columnas de tipo string a nulos"
   ]
  },
  {
   "cell_type": "code",
   "execution_count": 6,
   "metadata": {},
   "outputs": [],
   "source": [
    "columnas_array_a_verificar = [\"also_buy\", \"also_view\", \"category\", \"description\", \"feature\"]\n",
    "\n",
    "# Verifica si las columnas string están vacías y las marca como nulas si es necesario\n",
    "for columna in columnas_array_a_verificar:\n",
    "    df = df.withColumn(columna, when(size(col(columna)) > 0, col(columna)).otherwise(None))\n",
    "\n",
    "columnas_string_a_verificar = [\"asin\", \"title\", \"price\", \"rank\", \"brand\", 'date', 'main_cat', 'similar_item', 'fit']\n",
    "\n",
    "# Verifica si las columnas string están vacías y las marca como nulas si es necesario\n",
    "for columna in columnas_string_a_verificar:\n",
    "    df = df.withColumn(columna, when((length(col(columna)) == 0) | (col(columna).isNull()), None).otherwise(col(columna)))\n"
   ]
  },
  {
   "cell_type": "code",
   "execution_count": 7,
   "metadata": {},
   "outputs": [
    {
     "name": "stdout",
     "output_type": "stream",
     "text": [
      "66013\n",
      "+--------+---------+----+-----+--------+-----+-----------+-------+-------+-----+--------+---------------+--------+-----+----+------------+-----+-----+-----+\n",
      "|also_buy|also_view|asin|brand|category| date|description|details|feature|  fit|imageURL|imageURLHighRes|main_cat|price|rank|similar_item|tech1|tech2|title|\n",
      "+--------+---------+----+-----+--------+-----+-----------+-------+-------+-----+--------+---------------+--------+-----+----+------------+-----+-----+-----+\n",
      "|   57580|    53714|   0|13325|   66006|66008|      32979|    534|  65924|66013|       0|              0|       0|25902|   0|       66013|    0|    0|  513|\n",
      "+--------+---------+----+-----+--------+-----+-----------+-------+-------+-----+--------+---------------+--------+-----+----+------------+-----+-----+-----+\n",
      "\n"
     ]
    }
   ],
   "source": [
    "# Calcula la cantidad de nulos por columna\n",
    "conteo_de_nulos_por_columna = df.select([sum(col(c).isNull().cast(\"int\")).alias(c) for c in df.columns])\n",
    "\n",
    "print(df.count())\n",
    "# Muestra el resultado\n",
    "conteo_de_nulos_por_columna.show()"
   ]
  },
  {
   "cell_type": "code",
   "execution_count": 8,
   "metadata": {},
   "outputs": [
    {
     "name": "stdout",
     "output_type": "stream",
     "text": [
      "+-----------------+-----------------+----+----------------+-----------------+-----------------+-----------------+------------------+-----------------+-----+--------+---------------+--------+------------------+----+------------+-----+-----+------------------+\n",
      "|         also_buy|        also_view|asin|           brand|         category|             date|      description|           details|          feature|  fit|imageURL|imageURLHighRes|main_cat|             price|rank|similar_item|tech1|tech2|             title|\n",
      "+-----------------+-----------------+----+----------------+-----------------+-----------------+-----------------+------------------+-----------------+-----+--------+---------------+--------+------------------+----+------------+-----+-----+------------------+\n",
      "|87.22524351264144|81.36882129277566| 0.0|20.1854180237226|99.98939602805508|99.99242573432505|49.95834153878781|0.8089315740838926|99.86517807098602|100.0|     0.0|            0.0|     0.0|39.237725902473755| 0.0|       100.0|  0.0|  0.0|0.7771196582491326|\n",
      "+-----------------+-----------------+----+----------------+-----------------+-----------------+-----------------+------------------+-----------------+-----+--------+---------------+--------+------------------+----+------------+-----+-----+------------------+\n",
      "\n"
     ]
    }
   ],
   "source": [
    "# Calcula el total de filas en el DataFrame\n",
    "total_de_filas = df.count()\n",
    "\n",
    "# Calcula la cantidad de nulos por columna\n",
    "conteo_de_nulos_por_columna = df.select([sum(col(c).isNull().cast(\"int\")).alias(c) for c in df.columns])\n",
    "\n",
    "# Calcula el porcentaje de nulos respecto al total de filas para cada columna\n",
    "porcentaje_de_nulos_por_columna = conteo_de_nulos_por_columna.select([((col(c) / total_de_filas) * 100).alias(c) for c in df.columns])\n",
    "\n",
    "# Muestra el resultado\n",
    "porcentaje_de_nulos_por_columna.show()"
   ]
  },
  {
   "cell_type": "markdown",
   "metadata": {},
   "source": [
    "Viendo nuestros reales valores faltantes tomamos la decision de hacer algo con esto, esto haremos con las siguiente columnas:\n",
    "- also_buy: conservamos la columna y convertiremos los faltantes en N/D ya que la poca informacion que tiene es relevante\n",
    "- also_view: similar a also_buy\n",
    "- asin: indica el id de cada metadata por lo que la conservamos\n",
    "- brand: conservamos y transformamos faltantes en N/D ya que es relevante\n",
    "- category: eliminamos la columna por un 99% de valores nulos\n",
    "- date: eliminamos por casi un 100% de valores faltantes\n",
    "- description: reemplazamos faltantes por N/D por su posible uso\n",
    "- details: trataremos esta columna mas adelante ya que extraeremos un dataframe de esta, pero eliminamos los valores nulos\n",
    "- feature: similar a category y date\n",
    "- fit: se elimina por 100% de valores faltantes\n",
    "- imageURL: no es relevante por lo que eliminamos\n",
    "- imageURLHighRes: similar a imageURL\n",
    "- main_cat: se conserva ya que indica la categoria.\n",
    "- price: se conserva y se trataran los faltantes tras un posterior analisis\n",
    "- rank: se conserva por su relevancia en el ranking \n",
    "- similar_item: similar a fit, se elimina\n",
    "- tech1 y tech2: si bien no figuran faltantes, tampoco son relevantes.\n",
    "- title: se eliminaran los valores nulos unicamente"
   ]
  },
  {
   "cell_type": "code",
   "execution_count": 9,
   "metadata": {},
   "outputs": [],
   "source": [
    "# Lista de nombres de columnas que deseas eliminar\n",
    "columnas_a_eliminar = [\"imageURL\", \"imageUrlHighRes\", \"tech1\", 'tech2', 'category', 'date', 'feature', 'fit', 'similar_item']\n",
    "\n",
    "# Elimina las columnas especificadas\n",
    "df = df.drop(*columnas_a_eliminar)\n",
    "\n",
    "\n",
    "# eliminamos los valores nulos\n",
    "df = df.na.drop(subset=['title'])\n",
    "df = df.na.drop(subset=['details'])"
   ]
  },
  {
   "cell_type": "code",
   "execution_count": 10,
   "metadata": {},
   "outputs": [
    {
     "name": "stdout",
     "output_type": "stream",
     "text": [
      "root\n",
      " |-- also_buy: array (nullable = true)\n",
      " |    |-- element: string (containsNull = true)\n",
      " |-- also_view: array (nullable = true)\n",
      " |    |-- element: string (containsNull = true)\n",
      " |-- asin: string (nullable = true)\n",
      " |-- brand: string (nullable = true)\n",
      " |-- description: array (nullable = true)\n",
      " |    |-- element: string (containsNull = true)\n",
      " |-- details: struct (nullable = true)\n",
      " |    |-- \\n    Item Weight: \\n    : string (nullable = true)\n",
      " |    |-- \\n    Product Dimensions: \\n    : string (nullable = true)\n",
      " |    |-- ASIN:: string (nullable = true)\n",
      " |    |-- ASIN: : string (nullable = true)\n",
      " |    |-- Apparel: string (nullable = true)\n",
      " |    |-- Audio CD: string (nullable = true)\n",
      " |    |-- Audio Cassette: string (nullable = true)\n",
      " |    |-- Blu-ray Audio: string (nullable = true)\n",
      " |    |-- DVD: string (nullable = true)\n",
      " |    |-- DVD Audio: string (nullable = true)\n",
      " |    |-- Label:: string (nullable = true)\n",
      " |    |-- MP3 Music: string (nullable = true)\n",
      " |    |-- Note on Boxed Sets:: string (nullable = true)\n",
      " |    |-- Number of Discs:: string (nullable = true)\n",
      " |    |-- Original Release Date:: string (nullable = true)\n",
      " |    |-- Please Note:: string (nullable = true)\n",
      " |    |-- Run Time:: string (nullable = true)\n",
      " |    |-- SPARS Code:: string (nullable = true)\n",
      " |    |-- Shipping Weight:: string (nullable = true)\n",
      " |    |-- UPC:: string (nullable = true)\n",
      " |    |-- Vinyl: string (nullable = true)\n",
      " |    |-- Vinyl Bound: string (nullable = true)\n",
      " |-- main_cat: string (nullable = true)\n",
      " |-- price: string (nullable = true)\n",
      " |-- rank: string (nullable = true)\n",
      " |-- title: string (nullable = true)\n",
      "\n"
     ]
    }
   ],
   "source": [
    "df.printSchema()"
   ]
  },
  {
   "cell_type": "markdown",
   "metadata": {},
   "source": [
    "Columnas a transformar: \n",
    "- price: imputar con moda\n",
    "- rank: dejar solo rank\n",
    "- main_cat: dejar solo categoria\n",
    "- brand: imputar faltantes con N/D\n",
    "- also_buy: imputar faltantes con N/D\n",
    "- also_view: imputar faltantes con N/D\n",
    "- description: imputar faltantes con N/D"
   ]
  },
  {
   "cell_type": "code",
   "execution_count": 11,
   "metadata": {},
   "outputs": [],
   "source": [
    "df = df.withColumn('main_cat', lit('Digital Music'))"
   ]
  },
  {
   "cell_type": "code",
   "execution_count": 12,
   "metadata": {},
   "outputs": [],
   "source": [
    "# Utiliza regexp_replace para eliminar todos los caracteres que no sean números\n",
    "df = df.withColumn('rank', regexp_replace(df['rank'], '[^0-9]', ''))\n",
    "df = df.withColumn(\"rank\", when(df[\"rank\"] == '', 'N/D').otherwise(df[\"rank\"]))\n",
    "df = df.fillna({'brand': 'N/D'})"
   ]
  },
  {
   "cell_type": "code",
   "execution_count": 13,
   "metadata": {},
   "outputs": [
    {
     "name": "stdout",
     "output_type": "stream",
     "text": [
      "+--------+--------------------+----------+-------------------+--------------------+--------------------+-------------+------+-------+--------------------+\n",
      "|also_buy|           also_view|      asin|              brand|         description|             details|     main_cat| price|   rank|               title|\n",
      "+--------+--------------------+----------+-------------------+--------------------+--------------------+-------------+------+-------+--------------------+\n",
      "|     N/D|                 N/D|B000003SDF|    Richard H. Kirk|                 N/D|{null, null, B000...|Digital Music|  null|1255550|Agents With False...|\n",
      "|     N/D|                 N/D|B000006XV0|           Creation|                 N/D|{null, null, B000...|Digital Music|$12.50|1761232|       Lay the Ghost|\n",
      "|     N/D|                 N/D|B00000AQFD|Wildecker Herzbuben|                 N/D|{null, null, B000...|Digital Music| $1.72|1157548|Ist das nicht him...|\n",
      "|     N/D|                 N/D|B00000AU08|           Skeptics|                 N/D|{null, null, B000...|Digital Music|  null|2636841|                 Box|\n",
      "|     N/D|                 N/D|B00000B2X8|             DJ Dag|                 N/D|{null, null, B000...|Digital Music|$18.16|1431692|   Trance Experience|\n",
      "|     N/D|                 N/D|B00000G8I8|         Kid Abelha|CD > BRAZILIAN MU...|{null, null, B000...|Digital Music|  null|1462220|Educacao Sentimental|\n",
      "|     N/D|                 N/D|B00000I6WO|         Field Mice|90's style metal/...|{null, null, B000...|Digital Music|  null|2691993|    Toxic Field Mice|\n",
      "|     N/D|                 N/D|B00000IIUU|    Seraina McCarty|A debut recording...|{null, null, B000...|Digital Music| $4.99|2649331|       It's Time Now|\n",
      "|     N/D|                 N/D|B00000IPJ0|        Steve Barta|Sponsored by the ...|{null, null, B000...|Digital Music|$14.99|1277922|Together We Can Heal|\n",
      "|     N/D|B00139WYLA, B0000...|B00000JY35|      Helen Merrill|                 N/D|{null, null, B000...|Digital Music|$48.08|1164067|The Feeling Is Mu...|\n",
      "|     N/D|                 N/D|B000024ABT|      Willie Nelson|                 N/D|{null, null, B000...|Digital Music|  null|2007744|  45 Original Tracks|\n",
      "|     N/D|B00015U9UU, B0009...|B000024Z9N|       Gang of Four|                 N/D|{null, null, B000...|Digital Music| $7.91| 693876|                   !|\n",
      "|     N/D|                 N/D|B00002536B|    Carmen Piazzini|                 N/D|{null, null, B000...|Digital Music| $1.73|1250917|Haydn: Piano Sona...|\n",
      "|     N/D|                 N/D|B0000255OD|        Fats Waller|                 N/D|{null, null, B000...|Digital Music|$22.12|1925011|         Fats Waller|\n",
      "|     N/D|                 N/D|B0000264M7|                N/D|                 N/D|{null, null, B000...|Digital Music|$13.65| 583984|High Chaperal, I ...|\n",
      "|     N/D|                 N/D|B00002676N|                N/D|                 N/D|{null, null, B000...|Digital Music|$15.00| 901921|Elena Souliotis G...|\n",
      "|     N/D|B0000041OA, B000V...|B000027DQK|     Andrea Bocelli|I will ship by EM...|{null, null, B000...|Digital Music| $0.98|    N/D|    Viaggio Italiano|\n",
      "|     N/D|                 N/D|B0000284GI|     The High Kings|                 N/D|{null, null, B000...|Digital Music|  null|2019637|The High Kings Li...|\n",
      "|     N/D|          B003JK0RZG|B00002MUIF|    Riga Boys Choir|Tracks Include: S...|{null, null, B000...|Digital Music|  null| 664647|     Favorite Carols|\n",
      "|     N/D|                 N/D|B00002ZZBX|        Jason Ricci|                 N/D|{null, null, B000...|Digital Music|  null|2359967|         Jason Ricci|\n",
      "+--------+--------------------+----------+-------------------+--------------------+--------------------+-------------+------+-------+--------------------+\n",
      "only showing top 20 rows\n",
      "\n"
     ]
    }
   ],
   "source": [
    "df = df.withColumn(\"also_buy\", concat_ws(\", \", col(\"also_buy\")))\n",
    "df = df.withColumn(\"also_view\", concat_ws(\", \", col(\"also_view\")))\n",
    "df = df.withColumn(\"description\", concat_ws(\", \", col(\"description\")))\n",
    "\n",
    "df = df.withColumn(\"also_buy\", when(col(\"also_buy\") == '', 'N/D').otherwise(col(\"also_buy\")))\n",
    "df = df.withColumn(\"also_view\", when(col(\"also_view\") == '', 'N/D').otherwise(col(\"also_view\")))\n",
    "df = df.withColumn(\"description\", when(col(\"description\") == '', 'N/D').otherwise(col(\"description\")))\n",
    "\n",
    "\n",
    "df.show()\n"
   ]
  },
  {
   "cell_type": "code",
   "execution_count": 14,
   "metadata": {},
   "outputs": [
    {
     "name": "stdout",
     "output_type": "stream",
     "text": [
      "+-------+------------------+\n",
      "|summary|             price|\n",
      "+-------+------------------+\n",
      "|  count|             38544|\n",
      "|   mean|22.402378289778913|\n",
      "| stddev|36.057771314012754|\n",
      "|    min|              0.01|\n",
      "|    max|            999.99|\n",
      "+-------+------------------+\n",
      "\n"
     ]
    },
    {
     "data": {
      "text/plain": [
       "3190"
      ]
     },
     "execution_count": 14,
     "metadata": {},
     "output_type": "execute_result"
    }
   ],
   "source": [
    "df = df.withColumn(\"price\", regexp_replace(col(\"price\"), \"\\\\$\", \"\").cast(\"float\"))\n",
    "# Convierte el DataFrame de PySpark a un DataFrame de Pandas para usar con Seaborn\n",
    "# Calcula estadísticas descriptivas de la columna 'price'\n",
    "summary = df.select(\"price\").describe()\n",
    "summary.show()\n",
    "\n",
    "# Calcula el rango intercuartil (IQR) de la columna 'price'\n",
    "q1 = df.approxQuantile(\"price\", [0.25], 0.01)[0]\n",
    "q3 = df.approxQuantile(\"price\", [0.75], 0.01)[0]\n",
    "iqr = q3 - q1\n",
    "\n",
    "# Define los límites inferior y superior para detectar outliers\n",
    "lower_bound = q1 - 1.5 * iqr\n",
    "upper_bound = q3 + 1.5 * iqr\n",
    "\n",
    "# Filtra los outliers en la columna 'price'\n",
    "outliers = df.filter((df[\"price\"] < lower_bound) | (df[\"price\"] > upper_bound))\n",
    "outliers.count()"
   ]
  },
  {
   "cell_type": "markdown",
   "metadata": {},
   "source": [
    "Podemos observar un poco la naturaleza de los precios, vemos la cantidad de outliers generados en estos precios. Para entender un poco mejor hagamos un boxplot"
   ]
  },
  {
   "cell_type": "code",
   "execution_count": 15,
   "metadata": {},
   "outputs": [
    {
     "name": "stderr",
     "output_type": "stream",
     "text": [
      "c:\\Users\\niko\\Desktop\\sistema_recomendacion_amazon\\venv_sistema_amazon\\Lib\\site-packages\\seaborn\\_oldcore.py:1498: FutureWarning: is_categorical_dtype is deprecated and will be removed in a future version. Use isinstance(dtype, CategoricalDtype) instead\n",
      "  if pd.api.types.is_categorical_dtype(vector):\n"
     ]
    },
    {
     "data": {
      "image/png": "[encoded data removed]",
      "text/plain": [
       "<Figure size 800x600 with 1 Axes>"
      ]
     },
     "metadata": {},
     "output_type": "display_data"
    }
   ],
   "source": [
    "data_pd = df.select(\"price\").toPandas()\n",
    "\n",
    "plt.figure(figsize=(8, 6))\n",
    "sns.boxplot(data=data_pd, y=\"price\")\n",
    "plt.title(\"Boxplot de la columna 'price'\")\n",
    "plt.ylabel(\"Precio\")\n",
    "plt.show()"
   ]
  },
  {
   "cell_type": "markdown",
   "metadata": {},
   "source": [
    "Parece que hay productos de hasta 999 dolares, creemos que esto es posible, ya que puede tratarse de discos de oro o objetos firmados por famosos, por lo que consideramos que la distribucion esta bien y los outliers son considerados como tal por la gran cantidad de volumen que tenemos entre el dolar y los 50 dolares. Por lo que tambien procedemos a imputar los valores faltantes en este rango de precios teniendo en cuenta la moda."
   ]
  },
  {
   "cell_type": "code",
   "execution_count": 16,
   "metadata": {},
   "outputs": [
    {
     "name": "stdout",
     "output_type": "stream",
     "text": [
      "+--------+--------------------+----------+-------------------+--------------------+--------------------+-------------+-----+-------+--------------------+\n",
      "|also_buy|           also_view|      asin|              brand|         description|             details|     main_cat|price|   rank|               title|\n",
      "+--------+--------------------+----------+-------------------+--------------------+--------------------+-------------+-----+-------+--------------------+\n",
      "|     N/D|                 N/D|B000003SDF|    Richard H. Kirk|                 N/D|{null, null, B000...|Digital Music| 9.99|1255550|Agents With False...|\n",
      "|     N/D|                 N/D|B000006XV0|           Creation|                 N/D|{null, null, B000...|Digital Music| 12.5|1761232|       Lay the Ghost|\n",
      "|     N/D|                 N/D|B00000AQFD|Wildecker Herzbuben|                 N/D|{null, null, B000...|Digital Music| 1.72|1157548|Ist das nicht him...|\n",
      "|     N/D|                 N/D|B00000AU08|           Skeptics|                 N/D|{null, null, B000...|Digital Music| 9.99|2636841|                 Box|\n",
      "|     N/D|                 N/D|B00000B2X8|             DJ Dag|                 N/D|{null, null, B000...|Digital Music|18.16|1431692|   Trance Experience|\n",
      "|     N/D|                 N/D|B00000G8I8|         Kid Abelha|CD > BRAZILIAN MU...|{null, null, B000...|Digital Music| 9.99|1462220|Educacao Sentimental|\n",
      "|     N/D|                 N/D|B00000I6WO|         Field Mice|90's style metal/...|{null, null, B000...|Digital Music| 9.99|2691993|    Toxic Field Mice|\n",
      "|     N/D|                 N/D|B00000IIUU|    Seraina McCarty|A debut recording...|{null, null, B000...|Digital Music| 4.99|2649331|       It's Time Now|\n",
      "|     N/D|                 N/D|B00000IPJ0|        Steve Barta|Sponsored by the ...|{null, null, B000...|Digital Music|14.99|1277922|Together We Can Heal|\n",
      "|     N/D|B00139WYLA, B0000...|B00000JY35|      Helen Merrill|                 N/D|{null, null, B000...|Digital Music|48.08|1164067|The Feeling Is Mu...|\n",
      "|     N/D|                 N/D|B000024ABT|      Willie Nelson|                 N/D|{null, null, B000...|Digital Music| 9.99|2007744|  45 Original Tracks|\n",
      "|     N/D|B00015U9UU, B0009...|B000024Z9N|       Gang of Four|                 N/D|{null, null, B000...|Digital Music| 7.91| 693876|                   !|\n",
      "|     N/D|                 N/D|B00002536B|    Carmen Piazzini|                 N/D|{null, null, B000...|Digital Music| 1.73|1250917|Haydn: Piano Sona...|\n",
      "|     N/D|                 N/D|B0000255OD|        Fats Waller|                 N/D|{null, null, B000...|Digital Music|22.12|1925011|         Fats Waller|\n",
      "|     N/D|                 N/D|B0000264M7|                N/D|                 N/D|{null, null, B000...|Digital Music|13.65| 583984|High Chaperal, I ...|\n",
      "|     N/D|                 N/D|B00002676N|                N/D|                 N/D|{null, null, B000...|Digital Music| 15.0| 901921|Elena Souliotis G...|\n",
      "|     N/D|B0000041OA, B000V...|B000027DQK|     Andrea Bocelli|I will ship by EM...|{null, null, B000...|Digital Music| 0.98|    N/D|    Viaggio Italiano|\n",
      "|     N/D|                 N/D|B0000284GI|     The High Kings|                 N/D|{null, null, B000...|Digital Music| 9.99|2019637|The High Kings Li...|\n",
      "|     N/D|          B003JK0RZG|B00002MUIF|    Riga Boys Choir|Tracks Include: S...|{null, null, B000...|Digital Music| 9.99| 664647|     Favorite Carols|\n",
      "|     N/D|                 N/D|B00002ZZBX|        Jason Ricci|                 N/D|{null, null, B000...|Digital Music| 9.99|2359967|         Jason Ricci|\n",
      "+--------+--------------------+----------+-------------------+--------------------+--------------------+-------------+-----+-------+--------------------+\n",
      "only showing top 20 rows\n",
      "\n"
     ]
    }
   ],
   "source": [
    "# Calcula la moda de la columna 'price'\n",
    "mode_price = df.groupBy(\"price\").count().orderBy(\"count\", ascending=False).first()[\"price\"]\n",
    "\n",
    "# Crea un imputador para reemplazar los valores nulos en la columna 'price' con la moda\n",
    "imputer = Imputer(strategy=\"mode\", inputCol=\"price\", outputCol=\"price\")\n",
    "\n",
    "# Ajusta el imputador al conjunto de datos y reemplaza los valores nulos\n",
    "model = imputer.fit(df)\n",
    "df = model.transform(df)\n",
    "\n",
    "# Muestra el DataFrame con los valores nulos reemplazados por la moda\n",
    "df.show()\n"
   ]
  },
  {
   "cell_type": "markdown",
   "metadata": {},
   "source": [
    "# Analisis de la columna 'details'"
   ]
  },
  {
   "cell_type": "code",
   "execution_count": 17,
   "metadata": {},
   "outputs": [
    {
     "name": "stdout",
     "output_type": "stream",
     "text": [
      "root\n",
      " |-- also_buy: string (nullable = false)\n",
      " |-- also_view: string (nullable = false)\n",
      " |-- asin: string (nullable = true)\n",
      " |-- brand: string (nullable = false)\n",
      " |-- description: string (nullable = false)\n",
      " |-- details: struct (nullable = true)\n",
      " |    |-- \\n    Item Weight: \\n    : string (nullable = true)\n",
      " |    |-- \\n    Product Dimensions: \\n    : string (nullable = true)\n",
      " |    |-- ASIN:: string (nullable = true)\n",
      " |    |-- ASIN: : string (nullable = true)\n",
      " |    |-- Apparel: string (nullable = true)\n",
      " |    |-- Audio CD: string (nullable = true)\n",
      " |    |-- Audio Cassette: string (nullable = true)\n",
      " |    |-- Blu-ray Audio: string (nullable = true)\n",
      " |    |-- DVD: string (nullable = true)\n",
      " |    |-- DVD Audio: string (nullable = true)\n",
      " |    |-- Label:: string (nullable = true)\n",
      " |    |-- MP3 Music: string (nullable = true)\n",
      " |    |-- Note on Boxed Sets:: string (nullable = true)\n",
      " |    |-- Number of Discs:: string (nullable = true)\n",
      " |    |-- Original Release Date:: string (nullable = true)\n",
      " |    |-- Please Note:: string (nullable = true)\n",
      " |    |-- Run Time:: string (nullable = true)\n",
      " |    |-- SPARS Code:: string (nullable = true)\n",
      " |    |-- Shipping Weight:: string (nullable = true)\n",
      " |    |-- UPC:: string (nullable = true)\n",
      " |    |-- Vinyl: string (nullable = true)\n",
      " |    |-- Vinyl Bound: string (nullable = true)\n",
      " |-- main_cat: string (nullable = false)\n",
      " |-- price: float (nullable = true)\n",
      " |-- rank: string (nullable = true)\n",
      " |-- title: string (nullable = true)\n",
      "\n"
     ]
    }
   ],
   "source": [
    "df.printSchema()"
   ]
  },
  {
   "cell_type": "code",
   "execution_count": 19,
   "metadata": {},
   "outputs": [],
   "source": [
    "df_details = df.select(\n",
    "    \"details.*\"\n",
    ")"
   ]
  },
  {
   "cell_type": "code",
   "execution_count": 20,
   "metadata": {},
   "outputs": [
    {
     "name": "stdout",
     "output_type": "stream",
     "text": [
      "+-------------------------+--------------------------------+----------+------+-------+-------------------+--------------+-------------+----+---------+-----------------+---------+-------------------+----------------+----------------------+------------+---------+-----------+----------------+----+-----+-----------+\n",
      "|\\n    Item Weight: \\n    |\\n    Product Dimensions: \\n    |     ASIN:|ASIN: |Apparel|           Audio CD|Audio Cassette|Blu-ray Audio| DVD|DVD Audio|           Label:|MP3 Music|Note on Boxed Sets:|Number of Discs:|Original Release Date:|Please Note:|Run Time:|SPARS Code:|Shipping Weight:|UPC:|Vinyl|Vinyl Bound|\n",
      "+-------------------------+--------------------------------+----------+------+-------+-------------------+--------------+-------------+----+---------+-----------------+---------+-------------------+----------------+----------------------+------------+---------+-----------+----------------+----+-----+-----------+\n",
      "|                     null|                            null|B000003SDF|  null|   null| (February 4, 1997)|          null|         null|null|     null|Ash International|     null|               null|               1|                  null|        null|     null|       null|            null|null| null|       null|\n",
      "|                     null|                            null|B000006XV0|  null|   null|               null|          null|         null|null|     null|             CTMU|     null|               null|               1|                  null|        null|     null|       null|            null|null| null|       null|\n",
      "|                     null|                            null|B00000AQFD|  null|   null|               null|          null|         null|null|     null|           Import|     null|               null|               1|                  null|        null|     null|       null|            null|null| null|       null|\n",
      "|                     null|                            null|B00000AU08|  null|   null|     (July 4, 1993)|          null|         null|null|     null|            Goldr|     null|               null|            null|                  null|        null|     null|       null|            null|null| null|       null|\n",
      "|                     null|                            null|B00000B2X8|  null|   null|(November 11, 1996)|          null|         null|null|     null|            Longi|     null|               null|               1|                  null|        null|     null|       null|            null|null| null|       null|\n",
      "|                     null|                            null|B00000G8I8|  null|   null|               null|          null|         null|null|     null|     Warner Music|     null|               null|               1|                  null|        null|     null|       null|            null|null| null|       null|\n",
      "|                     null|                            null|B00000I6WO|  null|   null| (January 15, 1999)|          null|         null|null|     null|             null|     null|               null|               1|      January 15, 1999|        null|     null|       null|            null|null| null|       null|\n",
      "|                     null|                            null|B00000IIUU|  null|   null|    (March 7, 1999)|          null|         null|null|     null|             null|     null|               null|               1|         March 4, 1999|        null|     null|       null|            null|null| null|       null|\n",
      "|                     null|                            null|B00000IPJ0|  null|   null|  (January 2, 1997)|          null|         null|null|     null|             null|     null|               null|               1|       January 2, 1997|        null|     null|       null|            null|null| null|       null|\n",
      "|                     null|                            null|B00000JY35|  null|   null|               null|          null|         null|null|     null|             null|     null|               null|               1|                  null|        null|     null|       null|            null|null| null|       null|\n",
      "|                     null|                            null|B000024ABT|  null|   null|               null|          null|         null|null|     null|   Nelson, Willie|     null|               null|               2|                  null|        null|     null|       null|            null|null| null|       null|\n",
      "|                     null|                            null|B000024Z9N|  null|   null|               null|          null|         null|null|     null|             null|     null|               null|               1|                  null|        null|     null|       null|            null|null| null|       null|\n",
      "|                     null|                            null|B00002536B|  null|   null|    (July 15, 1999)|          null|         null|null|     null|        Arte Nova|     null|               null|               1|                  null|        null|     null|       null|            null|null| null|       null|\n",
      "|                     null|                            null|B0000255OD|  null|   null|               null|          null|         null|null|     null|       Laserlight|     null|               null|               1|                  null|        null|     null|       null|            null|null| null|       null|\n",
      "|                     null|                            null|B0000264M7|  null|   null|               null|          null|         null|null|     null|             null|     null|               null|               1|                  null|        null|     null|       null|            null|null| null|       null|\n",
      "|                     null|                            null|B00002676N|  null|   null|               null|          null|         null|null|     null|             null|     null|               null|               1|                  null|        null|     null|       null|            null|null| null|       null|\n",
      "|                     null|                            null|B000027DQK|  null|   null|               null|          null|         null|null|     null|              xxx|     null|               null|               1|                  null|        null|     null|       null|            null|null| null|       null|\n",
      "|                     null|                            null|B0000284GI|  null|   null|               null|          null|         null|null|     null|             null|     null|               null|               1|                  null|        null|     null|       null|            null|null| null|       null|\n",
      "|                     null|                            null|B00002MUIF|  null|   null|(February 27, 2007)|          null|         null|null|     null|            Castl|     null|               null|               1|                  null|        null|     null|       null|            null|null| null|       null|\n",
      "|                     null|                            null|B00002ZZBX|  null|   null|     (July 5, 1997)|          null|         null|null|     null|              Nmm|     null|               null|               1|                  null|        null|     null|       null|            null|null| null|       null|\n",
      "+-------------------------+--------------------------------+----------+------+-------+-------------------+--------------+-------------+----+---------+-----------------+---------+-------------------+----------------+----------------------+------------+---------+-----------+----------------+----+-----+-----------+\n",
      "only showing top 20 rows\n",
      "\n"
     ]
    }
   ],
   "source": [
    "df_details.show()"
   ]
  },
  {
   "cell_type": "markdown",
   "metadata": {},
   "source": [
    "Podemos observar la gran cantidad de valores nulos que poseemos en la columna details, chequeemos un poco mas a fondo para ver la relevancia de esta columna"
   ]
  },
  {
   "cell_type": "code",
   "execution_count": 22,
   "metadata": {},
   "outputs": [
    {
     "name": "stdout",
     "output_type": "stream",
     "text": [
      "64966\n",
      "+-------------------------+--------------------------------+-----+------+-------+--------+--------------+-------------+-----+---------+------+---------+-------------------+----------------+----------------------+------------+---------+-----------+----------------+-----+-----+-----------+\n",
      "|\\n    Item Weight: \\n    |\\n    Product Dimensions: \\n    |ASIN:|ASIN: |Apparel|Audio CD|Audio Cassette|Blu-ray Audio|  DVD|DVD Audio|Label:|MP3 Music|Note on Boxed Sets:|Number of Discs:|Original Release Date:|Please Note:|Run Time:|SPARS Code:|Shipping Weight:| UPC:|Vinyl|Vinyl Bound|\n",
      "+-------------------------+--------------------------------+-----+------+-------+--------+--------------+-------------+-----+---------+------+---------+-------------------+----------------+----------------------+------------+---------+-----------+----------------+-----+-----+-----------+\n",
      "|                    64960|                           64942| 1004| 64965|  64964|   55160|         64940|        64952|64965|    64952| 23542|    64965|              64407|           32221|                 58580|       64777|    60447|      64962|           64715|64965|64809|      64965|\n",
      "+-------------------------+--------------------------------+-----+------+-------+--------+--------------+-------------+-----+---------+------+---------+-------------------+----------------+----------------------+------------+---------+-----------+----------------+-----+-----+-----------+\n",
      "\n"
     ]
    }
   ],
   "source": [
    "# Calcula la cantidad de nulos por columna\n",
    "conteo_de_nulos_por_columna = df_details.select([sum(col(c).isNull().cast(\"int\")).alias(c) for c in df_details.columns])\n",
    "\n",
    "print(df_details.count())\n",
    "# Muestra el resultado\n",
    "conteo_de_nulos_por_columna.show()"
   ]
  },
  {
   "cell_type": "code",
   "execution_count": 24,
   "metadata": {},
   "outputs": [
    {
     "name": "stdout",
     "output_type": "stream",
     "text": [
      "+-------------------------+--------------------------------+------------------+-----------------+-----------------+-----------------+-----------------+-----------------+-----------------+-----------------+-----------------+-----------------+-------------------+------------------+----------------------+-----------------+----------------+----------------+-----------------+-----------------+-----------------+-----------------+\n",
      "|\\n    Item Weight: \\n    |\\n    Product Dimensions: \\n    |             ASIN:|           ASIN: |          Apparel|         Audio CD|   Audio Cassette|    Blu-ray Audio|              DVD|        DVD Audio|           Label:|        MP3 Music|Note on Boxed Sets:|  Number of Discs:|Original Release Date:|     Please Note:|       Run Time:|     SPARS Code:| Shipping Weight:|             UPC:|            Vinyl|      Vinyl Bound|\n",
      "+-------------------------+--------------------------------+------------------+-----------------+-----------------+-----------------+-----------------+-----------------+-----------------+-----------------+-----------------+-----------------+-------------------+------------------+----------------------+-----------------+----------------+----------------+-----------------+-----------------+-----------------+-----------------+\n",
      "|        99.99076439983992|               99.96305759935966|1.5454237601206784|99.99846073330664|99.99692146661332|84.90595080503648|99.95997906597297|99.97845026629314|99.99846073330664|99.97845026629314|36.23741649478189|99.99846073330664|  99.13954991841887|49.596712126343014|     90.17024289628421|99.70907859495736|93.0440538127636|99.9938429332266|99.61364405996983|99.99846073330664|99.75833512914447|99.99846073330664|\n",
      "+-------------------------+--------------------------------+------------------+-----------------+-----------------+-----------------+-----------------+-----------------+-----------------+-----------------+-----------------+-----------------+-------------------+------------------+----------------------+-----------------+----------------+----------------+-----------------+-----------------+-----------------+-----------------+\n",
      "\n"
     ]
    }
   ],
   "source": [
    "# Calcula el total de filas en el DataFrame\n",
    "total_de_filas = df_details.count()\n",
    "\n",
    "# Calcula la cantidad de nulos por columna\n",
    "conteo_de_nulos_por_columna = df_details.select([sum(col(c).isNull().cast(\"int\")).alias(c) for c in df_details.columns])\n",
    "\n",
    "# Calcula el porcentaje de nulos respecto al total de filas para cada columna\n",
    "porcentaje_de_nulos_por_columna = conteo_de_nulos_por_columna.select([((col(c) / total_de_filas) * 100).alias(c) for c in df_details.columns])\n",
    "\n",
    "# Muestra el resultado\n",
    "porcentaje_de_nulos_por_columna.show()"
   ]
  },
  {
   "cell_type": "markdown",
   "metadata": {},
   "source": [
    "Hay una gran cantidad de valores nulos, dejando solo para destacar columnas como label y number of discs, con poco menos del 50% de valores nulos."
   ]
  }
 ],
 "metadata": {
  "kernelspec": {
   "display_name": "venv_sistema_amazon",
   "language": "python",
   "name": "python3"
  },
  "language_info": {
   "codemirror_mode": {
    "name": "ipython",
    "version": 3
   },
   "file_extension": ".py",
   "mimetype": "text/x-python",
   "name": "python",
   "nbconvert_exporter": "python",
   "pygments_lexer": "ipython3",
   "version": "3.11.1"
  },
  "orig_nbformat": 4
 },
 "nbformat": 4,
 "nbformat_minor": 2
}
