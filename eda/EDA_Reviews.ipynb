{
 "cells": [
  {
   "cell_type": "markdown",
   "metadata": {},
   "source": [
    "# EDA tablas de reviews"
   ]
  },
  {
   "cell_type": "markdown",
   "metadata": {},
   "source": [
    "---\n"
   ]
  },
  {
   "cell_type": "markdown",
   "metadata": {},
   "source": [
    "Tras un analisis de las distintas tablas de datos que se nos brinda para nuestro modelo, llegamos a la conclusion que las mismas poseen una estructura de datos similar, por lo que podremos hacer un analisis exploratorio de los datos a cada una de las tablas utilizando la misma formula."
   ]
  },
  {
   "cell_type": "markdown",
   "metadata": {},
   "source": [
    "### Importacion de librerias"
   ]
  },
  {
   "cell_type": "code",
   "execution_count": 1,
   "metadata": {},
   "outputs": [],
   "source": [
    "import pandas as pd #utilizaremos pandas para trabajar con las tablas de datos de una manera mas comoda\n",
    "import numpy as np #importamos numpy para un mejor manejo de matrizes, filas y valores\n",
    "import matplotlib.pyplot as plt #esta libreria la usaremos para graficar\n",
    "from pyspark.sql import SparkSession #PySpark sera nuestra opcion para el manejo de grandes volumenes de datos\n",
    "\n",
    "# Crea una sesión de Spark\n",
    "spark = (SparkSession\n",
    "   .builder\n",
    "   .master('local[*]') # add this\n",
    "   .appName(\"eda_reviews\")\n",
    "   .config(\"spark.hadoop.fs.hdfs.impl\", \"org.apache.hadoop.fs.LocalFileSystem\")\n",
    "   .getOrCreate())\n",
    "\n",
    "\n",
    "# Importamos las funciones de sql de pyspark para manejar mejor las columnas\n",
    "from pyspark.sql.functions import col, sum, when, size, length, to_date, from_unixtime, year, count, udf\n"
   ]
  },
  {
   "cell_type": "markdown",
   "metadata": {},
   "source": [
    "## PASO 1: Extraer tabla de datos"
   ]
  },
  {
   "cell_type": "code",
   "execution_count": 2,
   "metadata": {},
   "outputs": [],
   "source": [
    "# Creamos un dataframe con el archivo Digital_music.json\n",
    "df = spark.read.json('../datasets/Digital_Music.json')\n"
   ]
  },
  {
   "cell_type": "markdown",
   "metadata": {},
   "source": [
    "Una vez importado damos un breve vistazo a nuestra tabla y chequeamos la cantidad de filas"
   ]
  },
  {
   "cell_type": "code",
   "execution_count": 3,
   "metadata": {},
   "outputs": [
    {
     "name": "stdout",
     "output_type": "stream",
     "text": [
      "1584082\n",
      "+----------+-----+-------+--------------------+-----------+--------------+-------------------+--------------------+--------------------+--------------+--------+----+\n",
      "|      asin|image|overall|          reviewText| reviewTime|    reviewerID|       reviewerName|               style|             summary|unixReviewTime|verified|vote|\n",
      "+----------+-----+-------+--------------------+-----------+--------------+-------------------+--------------------+--------------------+--------------+--------+----+\n",
      "|0001388703| NULL|    5.0|This is a great c...|12 22, 2013|A1ZCPG3D3HGRSS|     mark l. massey|{NULL,  Audio CD,...|    Great worship cd|    1387670400|    true|NULL|\n",
      "|0001388703| NULL|    5.0|So creative!  Lov...|09 11, 2013| AC2PL52NKPL29|       Norma Mushen|{NULL,  Audio CD,...|Gotta listen to t...|    1378857600|    true|NULL|\n",
      "|0001388703| NULL|    5.0|Keith Green, gone...| 03 2, 2013|A1SUZXBDZSDQ3A| Herbert W. Shurley|{NULL,  Audio CD,...|Great approach st...|    1362182400|    true|NULL|\n",
      "|0001388703| NULL|    5.0|Keith Green had h...| 12 2, 2012|A3A0W7FZXM0IZW|     Mary M Raybell|{NULL,  Audio CD,...|   Great A must have|    1354406400|    true|NULL|\n",
      "|0001388703| NULL|    5.0|Keith Green / So ...| 01 7, 2012|A12R54MKO17TW0|           J. Bynum|{NULL,  Audio CD,...|A great one from ...|    1325894400|   false|   6|\n",
      "|0001388703| NULL|    5.0|Clever,inspired a...| 07 8, 2009|A25ZT87OMIPLNX| Mark the Pizza guy|{NULL,  MP3 Music...|              AWSOME|    1247011200|   false|   2|\n",
      "|0001388703| NULL|    1.0|This tape can har...|05 14, 2009|A3NVGWKHLULDHR|Therese M. Teasdale|{NULL,  Audio Cas...|         Shame Shame|    1242259200|   false|NULL|\n",
      "|0001388703| NULL|    5.0|Keith Green is a ...| 05 4, 2008| AT7OB43GHKIUA|   William G. Simon|{NULL,  Audio CD,...|Heartfelt, Passio...|    1209859200|   false|  10|\n",
      "|0001388703| NULL|    5.0|             Pleased|09 18, 2015|A1H3X1TW6Y7HD8|       Nancy Abbott|{NULL,  Audio CD,...|          Five Stars|    1442534400|    true|NULL|\n",
      "|0001388703| NULL|    1.0|Buy the CD.  Do n...|05 15, 2015| AZ3T21W6CW0MW|               None|{NULL,  MP3 Music...|Buy the CD.  Do n...|    1431648000|    true|NULL|\n",
      "+----------+-----+-------+--------------------+-----------+--------------+-------------------+--------------------+--------------------+--------------+--------+----+\n",
      "only showing top 10 rows\n",
      "\n"
     ]
    }
   ],
   "source": [
    "print(df.count())\n",
    "df.show(10)"
   ]
  },
  {
   "cell_type": "markdown",
   "metadata": {},
   "source": [
    "## PASO 2: Tratamiento de duplicados.\n",
    "---"
   ]
  },
  {
   "cell_type": "code",
   "execution_count": 4,
   "metadata": {},
   "outputs": [
    {
     "name": "stdout",
     "output_type": "stream",
     "text": [
      "Número de filas duplicadas: 64503\n",
      "Porcentaje de filas duplicadas: 0.040719482956059094\n"
     ]
    }
   ],
   "source": [
    "num_filas_duplicadas = df.count() - df.dropDuplicates().count()\n",
    "\n",
    "# Imprime el número de filas duplicadas\n",
    "print(\"Número de filas duplicadas:\", num_filas_duplicadas)\n",
    "print(f\"Porcentaje de filas duplicadas: {num_filas_duplicadas / df.count()}\")\n"
   ]
  },
  {
   "cell_type": "markdown",
   "metadata": {},
   "source": [
    "Procedemos a eliminar las filas duplicadas ya que estas mismas tienen los valores de cada columna similar a una fila que ya existe, ya sea ID, puntaje e incluso texto de la review"
   ]
  },
  {
   "cell_type": "code",
   "execution_count": 5,
   "metadata": {},
   "outputs": [],
   "source": [
    "df = df.dropDuplicates()"
   ]
  },
  {
   "cell_type": "markdown",
   "metadata": {},
   "source": [
    "## paso 3: manejo de columnas y faltantes.\n",
    "---"
   ]
  },
  {
   "cell_type": "code",
   "execution_count": 6,
   "metadata": {},
   "outputs": [
    {
     "name": "stdout",
     "output_type": "stream",
     "text": [
      "+----------+-----+-------+--------------------+-----------+--------------+----------------+--------------------+--------------------+--------------+--------+----+\n",
      "|      asin|image|overall|          reviewText| reviewTime|    reviewerID|    reviewerName|               style|             summary|unixReviewTime|verified|vote|\n",
      "+----------+-----+-------+--------------------+-----------+--------------+----------------+--------------------+--------------------+--------------+--------+----+\n",
      "|B000V6AEI6| NULL|    5.0|The composistions...| 01 1, 2004| AAVK0CAPD9XH5|            mole|{NULL,  Audio CD,...|Fantastic musik a...|    1072915200|   false|NULL|\n",
      "|B000VRWV4U| NULL|    5.0|I needed some sca...| 01 1, 2013|A3O39R049OZZUZ|           Wonka|{NULL,  MP3 Music...|     halloween Music|    1356998400|    true|NULL|\n",
      "|B000TE3FBS| NULL|    1.0|never received it...| 01 1, 2014| A19CD6KQG33SD|           Dixie|{NULL,  MP3 Music...|               !!!!!|    1388534400|    true|NULL|\n",
      "|B0048W3SQ4| NULL|    5.0|WHAT ELSE CAN YOU...|01 10, 2013|A1WHQ7EFI717UH|  JOHNWAYNEFAN57|{NULL,  Audio CD,...|        CHRIS TOMLIN|    1357776000|    true|NULL|\n",
      "|B0011W0BKA| NULL|    5.0|use this for our ...|01 11, 2013|A2JTT6E8TMNUIG|  Family of Five|{NULL,  MP3 Music...|      nice rendition|    1357862400|    true|NULL|\n",
      "|B003G8WI7G| NULL|    5.0|Trombone Shorty's...|01 11, 2013|A3K9WWU19MSZ41|     CommonCents|{NULL,  MP3 Music...|      Awesome Talent|    1357862400|   false|NULL|\n",
      "|B001KEHF4Y| NULL|    5.0|Better than adver...|01 11, 2013| AWS9P2FOTIBB3|     Stan Wilson|{NULL,  MP3 Music...|         great tunes|    1357862400|    true|   3|\n",
      "|B002BPH1F4| NULL|    2.0|Be careful its th...|01 12, 2013|A25LABC23YZ0UH|Kimberly Saddler|{NULL,  MP3 Music...|            Explicit|    1357948800|    true|NULL|\n",
      "|B001X3GOGM| NULL|    5.0|One of my fave so...|01 13, 2013|A2VRL7KYHJQWPE|       Dougmoser|{NULL,  MP3 Music...|            macarena|    1358035200|    true|NULL|\n",
      "|B001E9ULJ6| NULL|    5.0|5-star songs are ...|01 13, 2016|A208QEPAI30Z4G|    Mariem Scott|{NULL,  MP3 Music...|                 :-)|    1452643200|    true|NULL|\n",
      "+----------+-----+-------+--------------------+-----------+--------------+----------------+--------------------+--------------------+--------------+--------+----+\n",
      "only showing top 10 rows\n",
      "\n"
     ]
    }
   ],
   "source": [
    "df.show(10)"
   ]
  },
  {
   "cell_type": "code",
   "execution_count": 7,
   "metadata": {},
   "outputs": [
    {
     "name": "stdout",
     "output_type": "stream",
     "text": [
      "root\n",
      " |-- asin: string (nullable = true)\n",
      " |-- image: array (nullable = true)\n",
      " |    |-- element: string (containsNull = true)\n",
      " |-- overall: double (nullable = true)\n",
      " |-- reviewText: string (nullable = true)\n",
      " |-- reviewTime: string (nullable = true)\n",
      " |-- reviewerID: string (nullable = true)\n",
      " |-- reviewerName: string (nullable = true)\n",
      " |-- style: struct (nullable = true)\n",
      " |    |-- Color:: string (nullable = true)\n",
      " |    |-- Format:: string (nullable = true)\n",
      " |    |-- Size:: string (nullable = true)\n",
      " |-- summary: string (nullable = true)\n",
      " |-- unixReviewTime: long (nullable = true)\n",
      " |-- verified: boolean (nullable = true)\n",
      " |-- vote: string (nullable = true)\n",
      "\n"
     ]
    }
   ],
   "source": [
    "df.printSchema()"
   ]
  },
  {
   "cell_type": "markdown",
   "metadata": {},
   "source": [
    "Observamos que la mayoria de los datos son de tipo string, que por cierto estan en el tipo de dato que se necesita, pero podemos buscar las filas con valores faltantes sin que sean nulos de por si, por ello haremos lo siguiente"
   ]
  },
  {
   "cell_type": "code",
   "execution_count": 8,
   "metadata": {},
   "outputs": [],
   "source": [
    "columnas_string_a_verificar = [\"asin\", \"reviewText\", \"reviewerID\", \"reviewerName\"]\n",
    "\n",
    "# Verifica si las columnas string están vacías y las marca como nulas si es necesario\n",
    "for columna in columnas_string_a_verificar:\n",
    "    df = df.withColumn(columna, when((length(col(columna)) == 0) | (col(columna).isNull()), None).otherwise(col(columna)))\n",
    "    "
   ]
  },
  {
   "cell_type": "markdown",
   "metadata": {},
   "source": [
    "con el codigo anterior convertimos todas las filas de tipo string vacias en valores nulos, para ahora poder observar que valores nos faltan"
   ]
  },
  {
   "cell_type": "code",
   "execution_count": 9,
   "metadata": {},
   "outputs": [
    {
     "name": "stdout",
     "output_type": "stream",
     "text": [
      "+----+-------+-------+----------+----------+----------+------------+------+-------+--------------+--------+-------+\n",
      "|asin|  image|overall|reviewText|reviewTime|reviewerID|reviewerName| style|summary|unixReviewTime|verified|   vote|\n",
      "+----+-------+-------+----------+----------+----------+------------+------+-------+--------------+--------+-------+\n",
      "|   0|1513041|      0|      1417|         0|         0|          78|261637|    523|             0|       0|1398474|\n",
      "+----+-------+-------+----------+----------+----------+------------+------+-------+--------------+--------+-------+\n",
      "\n"
     ]
    }
   ],
   "source": [
    "# Calcula la cantidad de nulos por columna\n",
    "conteo_de_nulos_por_columna = df.select([sum(col(c).isNull().cast(\"int\")).alias(c) for c in df.columns])\n",
    "\n",
    "# Muestra el resultado\n",
    "conteo_de_nulos_por_columna.show()"
   ]
  },
  {
   "cell_type": "markdown",
   "metadata": {},
   "source": [
    "A priori podemos observar varias columnas que no nos serviran para nuestro sistema de recomendaciones, por lo que procedemos a eliminarlas de una vez, estas columnas serian:\n",
    "- image: porque no nos interesa la imagen del producto\n",
    "- style: por la gran cantidad de valores nulos y la poca relevancia que da\n",
    "- summary: ya que es un resumen de reviewText, por lo que con nuestro sistema no nos haria falta ver el resumen\n",
    "- vote: por su gran cantidad de valores nulos y porque ya tenemos la columna overall, que nos indica el voto de la review\n",
    "- reviewTime: Ya que posee valores nulos y con la columna unixReviewTime podemos lograr los mismos fines"
   ]
  },
  {
   "cell_type": "code",
   "execution_count": 10,
   "metadata": {},
   "outputs": [],
   "source": [
    "columnas_a_eliminar = [\"image\", \"style\", \"summary\", 'vote', 'reviewTime']\n",
    "\n",
    "df = df.drop(*columnas_a_eliminar)"
   ]
  },
  {
   "cell_type": "markdown",
   "metadata": {},
   "source": [
    "Por otro lado podemos eliminar los valores nulos de las siguientes columnas:\n",
    "- reviewText: ya que sin el texto de la review no nos sirve el resto de informacion\n",
    "- reviewerName: porque al tampoco poder identificar al usuario nos podria crear problemas al crear nuestro modelo"
   ]
  },
  {
   "cell_type": "code",
   "execution_count": 11,
   "metadata": {},
   "outputs": [],
   "source": [
    "df = df.na.drop(subset=[\"reviewText\"])\n",
    "df = df.na.drop(subset=[\"reviewerName\"])\n",
    "df_actualizado = df.na.fill(\"N/D\", ['reviewerName'])"
   ]
  },
  {
   "cell_type": "code",
   "execution_count": 12,
   "metadata": {},
   "outputs": [
    {
     "name": "stdout",
     "output_type": "stream",
     "text": [
      "+----+-------+----------+----------+------------+--------------+--------+\n",
      "|asin|overall|reviewText|reviewerID|reviewerName|unixReviewTime|verified|\n",
      "+----+-------+----------+----------+------------+--------------+--------+\n",
      "|   0|      0|         0|         0|           0|             0|       0|\n",
      "+----+-------+----------+----------+------------+--------------+--------+\n",
      "\n"
     ]
    }
   ],
   "source": [
    "# Calcula la cantidad de nulos por columna\n",
    "conteo_de_nulos_por_columna = df.select([sum(col(c).isNull().cast(\"int\")).alias(c) for c in df.columns])\n",
    "\n",
    "# Muestra el resultado\n",
    "conteo_de_nulos_por_columna.show()"
   ]
  },
  {
   "cell_type": "markdown",
   "metadata": {},
   "source": [
    "Ahora si nos quedamos sin valores nulos por lo que podemos seguir:"
   ]
  },
  {
   "cell_type": "markdown",
   "metadata": {},
   "source": [
    "## Paso 4: Transformaciones de columnas y tipos de datos.\n",
    "---"
   ]
  },
  {
   "cell_type": "markdown",
   "metadata": {},
   "source": [
    "En primer lugar recordamos porque dejamos la columna de unixReviewTime, y extraemos la fecha y el año en distintas columnas del dataframe, a la vez eliminamos esta columna ya que no nos servira"
   ]
  },
  {
   "cell_type": "code",
   "execution_count": 13,
   "metadata": {},
   "outputs": [],
   "source": [
    "df = df.withColumn(\"review_date\", from_unixtime(df[\"unixreviewtime\"]))\n",
    "df = df.withColumn(\"review_year\", year(df[\"review_date\"]))\n",
    "df = df.drop(\"unixreviewtime\")"
   ]
  },
  {
   "cell_type": "markdown",
   "metadata": {},
   "source": [
    "## Paso 5: Graficos y entendimiento.\n",
    "---"
   ]
  },
  {
   "cell_type": "code",
   "execution_count": 14,
   "metadata": {},
   "outputs": [
    {
     "data": {
      "image/png": "[encoded data removed]",
      "text/plain": [
       "<Figure size 800x600 with 1 Axes>"
      ]
     },
     "metadata": {},
     "output_type": "display_data"
    }
   ],
   "source": [
    "# Selecciona la columna 'overall' y convierte a Pandas\n",
    "overall_data = df.select(\"overall\").toPandas()\n",
    "\n",
    "# Calcular la cantidad de revisiones por puntaje\n",
    "ratings_counts = overall_data[\"overall\"].value_counts().sort_index()\n",
    "\n",
    "# Crear un histograma con etiquetas\n",
    "plt.figure(figsize=(8, 6))\n",
    "plt.bar(ratings_counts.index, ratings_counts.values, color=\"lightcoral\", alpha=0.7, edgecolor=\"k\")\n",
    "plt.title(\"Cantidad de Revisiones por Puntaje\")\n",
    "plt.xlabel(\"Calificación\")\n",
    "plt.ylabel(\"Cantidad de Revisiones\")\n",
    "plt.xticks(ratings_counts.index)\n",
    "plt.grid(axis=\"y\", linestyle=\"--\", alpha=0.7)\n",
    "\n",
    "# Agregar etiquetas en las barras\n",
    "for x, y in zip(ratings_counts.index, ratings_counts.values):\n",
    "    plt.text(x, y, str(y), ha=\"center\", va=\"bottom\")\n",
    "\n",
    "plt.show()"
   ]
  },
  {
   "cell_type": "markdown",
   "metadata": {},
   "source": [
    "Podemos observar la distinta frecuencia de votos y su cantidad, siendo algo para notar que la gente prefiere votar 5 estrellas o no votar antes que dar una calificacion baja, concluimos esto debido a la gran diferencia de valoraciones que hay"
   ]
  },
  {
   "cell_type": "code",
   "execution_count": 15,
   "metadata": {},
   "outputs": [
    {
     "data": {
      "image/png": "[encoded data removed]",
      "text/plain": [
       "<Figure size 600x600 with 1 Axes>"
      ]
     },
     "metadata": {},
     "output_type": "display_data"
    }
   ],
   "source": [
    "verified_counts = df.groupBy('verified').count().collect()\n",
    "\n",
    "# Extrae los valores de la cuenta para cada categoría\n",
    "labels = ['No Verificado', 'Verificado']\n",
    "counts = [row['count'] for row in verified_counts]\n",
    "\n",
    "# Trazar el gráfico de pastel utilizando Matplotlib\n",
    "plt.figure(figsize=(6, 6))\n",
    "plt.pie(counts, labels=labels, autopct='%1.1f%%', startangle=140, colors=['lightcoral', 'lightskyblue'])\n",
    "plt.title('Distribución de Registros Verificados')\n",
    "plt.axis('equal')  # Para que el gráfico sea un círculo en lugar de una elipse\n",
    "plt.show()"
   ]
  },
  {
   "cell_type": "markdown",
   "metadata": {},
   "source": [
    "Tambien podemos observar que la mayoria de las reviews no fueron por cuentas verificadas, por lo que se puede poner en duda un poco el indole de las reviews."
   ]
  },
  {
   "cell_type": "code",
   "execution_count": 16,
   "metadata": {},
   "outputs": [
    {
     "name": "stdout",
     "output_type": "stream",
     "text": [
      "+----------+-------+--------------------+--------------+-----------------+--------+-------------------+-----------+\n",
      "|      asin|overall|          reviewText|    reviewerID|     reviewerName|verified|        review_date|review_year|\n",
      "+----------+-------+--------------------+--------------+-----------------+--------+-------------------+-----------+\n",
      "|B000V6AEI6|    5.0|The composistions...| AAVK0CAPD9XH5|             mole|   false|2003-12-31 21:00:00|       2003|\n",
      "|B000VRWV4U|    5.0|I needed some sca...|A3O39R049OZZUZ|            Wonka|    true|2012-12-31 21:00:00|       2012|\n",
      "|B000TE3FBS|    1.0|never received it...| A19CD6KQG33SD|            Dixie|    true|2013-12-31 21:00:00|       2013|\n",
      "|B0048W3SQ4|    5.0|WHAT ELSE CAN YOU...|A1WHQ7EFI717UH|   JOHNWAYNEFAN57|    true|2013-01-09 21:00:00|       2013|\n",
      "|B0011W0BKA|    5.0|use this for our ...|A2JTT6E8TMNUIG|   Family of Five|    true|2013-01-10 21:00:00|       2013|\n",
      "|B003G8WI7G|    5.0|Trombone Shorty's...|A3K9WWU19MSZ41|      CommonCents|   false|2013-01-10 21:00:00|       2013|\n",
      "|B001KEHF4Y|    5.0|Better than adver...| AWS9P2FOTIBB3|      Stan Wilson|    true|2013-01-10 21:00:00|       2013|\n",
      "|B002BPH1F4|    2.0|Be careful its th...|A25LABC23YZ0UH| Kimberly Saddler|    true|2013-01-11 21:00:00|       2013|\n",
      "|B001X3GOGM|    5.0|One of my fave so...|A2VRL7KYHJQWPE|        Dougmoser|    true|2013-01-12 21:00:00|       2013|\n",
      "|B001E9ULJ6|    5.0|5-star songs are ...|A208QEPAI30Z4G|     Mariem Scott|    true|2016-01-12 21:00:00|       2016|\n",
      "|B002R9DM8E|    3.0|          cool music|A2TMO9IEKJCNTE|         michelle|    true|2016-01-12 21:00:00|       2016|\n",
      "|B0013HYLT0|    1.0|Mary Poppins soun...|A2MZHST1RHL8IP|           leslie|    true|2013-01-13 21:00:00|       2013|\n",
      "|B000WLTMPQ|    5.0|I'm not generally...|A1UJNRYYZ2OJ5K|    Capricorn One|    true|2014-01-13 21:00:00|       2014|\n",
      "|B000VZY9Z6|    4.0|This song has bee...|A3GUTDWADNSNNP|      Brian Brown|    true|2014-01-13 21:00:00|       2014|\n",
      "|B000V61FV6|    5.0|Classic, great song.|A2KGW8DRQMFDVW|           FEDcop|    true|2015-01-13 21:00:00|       2015|\n",
      "|B003Y3XO4O|    5.0|   I love this song!| AESNHQLDPI0KB|          Daretbu|    true|2016-01-13 21:00:00|       2016|\n",
      "|B0043VO41S|    5.0|Best blues guitar...|A2XJVDA9O2EY0C|     David Austin|    true|2011-01-14 21:00:00|       2011|\n",
      "|B004NYNGW8|    5.0|I love this song....|A2QIG4QE1LDE1N|     Jabhansmumma|    true|2013-01-14 21:00:00|       2013|\n",
      "|B00137RJ26|    5.0|I love this song,...| A4O0UYB91BKV4|  Gladys Kneeland|    true|2013-01-14 21:00:00|       2013|\n",
      "|B00124B8W2|    5.0|I needed this to ...|A1R76YS49A768S|Edgar W. Blackmon|   false|2014-01-14 21:00:00|       2014|\n",
      "+----------+-------+--------------------+--------------+-----------------+--------+-------------------+-----------+\n",
      "only showing top 20 rows\n",
      "\n"
     ]
    }
   ],
   "source": [
    "df.show()"
   ]
  },
  {
   "cell_type": "markdown",
   "metadata": {},
   "source": [
    "## Paso 7: Analisis de sentimiento\n",
    "---\n",
    "En este paso crearemos una columna que calificara el sentimiento de la columna reviewText y nos devolvera la conformidad del usuario con el producto."
   ]
  }
 ],
 "metadata": {
  "kernelspec": {
   "display_name": "venv_sistema_amazon",
   "language": "python",
   "name": "python3"
  },
  "language_info": {
   "codemirror_mode": {
    "name": "ipython",
    "version": 3
   },
   "file_extension": ".py",
   "mimetype": "text/x-python",
   "name": "python",
   "nbconvert_exporter": "python",
   "pygments_lexer": "ipython3",
   "version": "3.11.1"
  },
  "orig_nbformat": 4
 },
 "nbformat": 4,
 "nbformat_minor": 2
}
