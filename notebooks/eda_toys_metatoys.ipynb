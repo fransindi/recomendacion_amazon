{
  "nbformat": 4,
  "nbformat_minor": 0,
  "metadata": {
    "colab": {
      "provenance": [],
      "mount_file_id": "15KFieEtzMyy4KwGuB2OOLv9epqOwJtua",
      "authorship_tag": "ABX9TyOwuZ8zOV7hK10dVD9uUNdo",
      "include_colab_link": true
    },
    "kernelspec": {
      "name": "python3",
      "display_name": "Python 3"
    },
    "language_info": {
      "name": "python"
    }
  },
  "cells": [
    {
      "cell_type": "markdown",
      "metadata": {
        "id": "view-in-github",
        "colab_type": "text"
      },
      "source": [
        "<a href=\"https://colab.research.google.com/github/fransindi/recomendacion_amazon/blob/master/eda_toys_metatoys.ipynb\" target=\"_parent\"><img src=\"https://colab.research.google.com/assets/colab-badge.svg\" alt=\"Open In Colab\"/></a>"
      ]
    },
    {
      "cell_type": "code",
      "execution_count": 1,
      "metadata": {
        "colab": {
          "base_uri": "https://localhost:8080/"
        },
        "id": "po-sKUOdB6uz",
        "outputId": "5cb7c31c-8d8a-41e9-ee8f-93e8588211db"
      },
      "outputs": [
        {
          "output_type": "stream",
          "name": "stdout",
          "text": [
            "Collecting pyspark\n",
            "  Downloading pyspark-3.5.0.tar.gz (316.9 MB)\n",
            "\u001b[2K     \u001b[90m━━━━━━━━━━━━━━━━━━━━━━━━━━━━━━━━━━━━━━━\u001b[0m \u001b[32m316.9/316.9 MB\u001b[0m \u001b[31m3.7 MB/s\u001b[0m eta \u001b[36m0:00:00\u001b[0m\n",
            "\u001b[?25h  Preparing metadata (setup.py) ... \u001b[?25l\u001b[?25hdone\n",
            "Requirement already satisfied: py4j==0.10.9.7 in /usr/local/lib/python3.10/dist-packages (from pyspark) (0.10.9.7)\n",
            "Building wheels for collected packages: pyspark\n",
            "  Building wheel for pyspark (setup.py) ... \u001b[?25l\u001b[?25hdone\n",
            "  Created wheel for pyspark: filename=pyspark-3.5.0-py2.py3-none-any.whl size=317425344 sha256=56bd04ff201d2ea96f2a0e51be3a36807760353845e9da219a1370759606e6d1\n",
            "  Stored in directory: /root/.cache/pip/wheels/41/4e/10/c2cf2467f71c678cfc8a6b9ac9241e5e44a01940da8fbb17fc\n",
            "Successfully built pyspark\n",
            "Installing collected packages: pyspark\n",
            "Successfully installed pyspark-3.5.0\n"
          ]
        }
      ],
      "source": [
        "pip install pyspark"
      ]
    },
    {
      "cell_type": "code",
      "source": [
        "from google.colab import drive"
      ],
      "metadata": {
        "id": "em3MaJO9DPIG"
      },
      "execution_count": 2,
      "outputs": []
    },
    {
      "cell_type": "code",
      "source": [
        "from pyspark.sql import SparkSession"
      ],
      "metadata": {
        "id": "68Kkqb6zCAtp"
      },
      "execution_count": 3,
      "outputs": []
    },
    {
      "cell_type": "code",
      "source": [
        "drive.mount('/content/drive')"
      ],
      "metadata": {
        "colab": {
          "base_uri": "https://localhost:8080/"
        },
        "id": "8cQhY2S3DXfu",
        "outputId": "34b9ee2e-a96d-4c03-a246-340c6cae2165"
      },
      "execution_count": 4,
      "outputs": [
        {
          "output_type": "stream",
          "name": "stdout",
          "text": [
            "Mounted at /content/drive\n"
          ]
        }
      ]
    },
    {
      "cell_type": "code",
      "source": [
        "# Crea una sesión de Spark\n",
        "spark = SparkSession.builder.appName(\"Lectura_de_Archivo\").getOrCreate()\n",
        "\n",
        "# Ruta al archivo JSON dentro de la carpeta compartida\n",
        "json_file_path = '/content/drive/My Drive/Version 2018/Toys_and_Games.json.gz'\n"
      ],
      "metadata": {
        "id": "1Mk-TxSTDxM1"
      },
      "execution_count": 5,
      "outputs": []
    },
    {
      "cell_type": "code",
      "source": [
        "from pyspark.sql.types import StructType, StructField, StringType, FloatType, IntegerType, BooleanType"
      ],
      "metadata": {
        "id": "ZBnSRVOlUx1Q"
      },
      "execution_count": 6,
      "outputs": []
    },
    {
      "cell_type": "code",
      "source": [
        "custom_schema = StructType([\n",
        "    StructField(\"asin\", StringType(), nullable=True),\n",
        "    StructField(\"image\", StringType(), nullable=True),\n",
        "    StructField(\"overall\", FloatType(), nullable=True),\n",
        "    StructField(\"reviewText\", StringType(), nullable=True),\n",
        "    StructField(\"reviewTime\", StringType(), nullable=True),\n",
        "    StructField(\"reviewerID\", StringType(), nullable=True),\n",
        "    StructField(\"reviewerName\", StringType(), nullable=True),\n",
        "    StructField(\"style\", StringType(), nullable=True),\n",
        "    StructField(\"summary\", StringType(), nullable=True),\n",
        "    StructField(\"unixReviewTime\", IntegerType(), nullable=True),\n",
        "    StructField(\"verified\", BooleanType(), nullable=True),\n",
        "    StructField(\"vote\", StringType(), nullable=True)\n",
        "])\n",
        "df = spark.read.json(json_file_path, schema=custom_schema)"
      ],
      "metadata": {
        "id": "QMvKdmd5UT5T"
      },
      "execution_count": 7,
      "outputs": []
    },
    {
      "cell_type": "code",
      "source": [
        "df.show()"
      ],
      "metadata": {
        "colab": {
          "base_uri": "https://localhost:8080/"
        },
        "id": "WpNeiLnNEP7S",
        "outputId": "5170fae6-416e-43c9-bf93-79e86a815aa2"
      },
      "execution_count": 8,
      "outputs": [
        {
          "output_type": "stream",
          "name": "stdout",
          "text": [
            "+----------+--------------------+-------+--------------------+-----------+--------------+--------------------+--------------------+--------------------+--------------+--------+----+\n",
            "|      asin|               image|overall|          reviewText| reviewTime|    reviewerID|        reviewerName|               style|             summary|unixReviewTime|verified|vote|\n",
            "+----------+--------------------+-------+--------------------+-----------+--------------+--------------------+--------------------+--------------------+--------------+--------+----+\n",
            "|0020232233|                NULL|    2.0|When it comes to ...|09 22, 2016|A1IDMI31WEANAF|      Mackenzie Kent|                NULL|The fact that 50%...|    1474502400|   false|  12|\n",
            "|0020232233|                NULL|    1.0|An Open Letter to...|09 18, 2016| A4BCEVVZ4Y3V3|  Jonathan Christian|                NULL|Another worthless...|    1474156800|   false|  21|\n",
            "|0020232233|                NULL|    3.0|Nice art, nice pr...|09 12, 2016|A2EZ9PY1IHHBX0|     unpreparedtodie|                NULL|pretty, but also ...|    1473638400|    true|  19|\n",
            "|0020232233|                NULL|    5.0|Amazing buy! Boug...| 03 2, 2017|A139PXTTC2LGHZ|              Ashley|                NULL|          Five Stars|    1488412800|    true|NULL|\n",
            "|0020232233|                NULL|    1.0|As my review of G...| 02 8, 2017|A3IB33V29XIL8O|            Oghma_EM|                NULL|          Money trap|    1486512000|    true|   3|\n",
            "|0020232233|                NULL|    5.0|      Grandson loves|01 27, 2017|A1J86V48S4KRJE|  Cynthia A. Evoniuk|                NULL|          Five Stars|    1485475200|    true|NULL|\n",
            "|0020232233|                NULL|    5.0|I have bought man...| 01 2, 2017|A14J12PRBLGHF4|     Amazon Customer|                NULL| Best gm screen ever|    1483315200|   false|NULL|\n",
            "|0020232233|                NULL|    5.0|Came in perfect c...|12 17, 2016|A2UKOWP9ICU416|            anon9df0|                NULL|          Five Stars|    1481932800|    true|NULL|\n",
            "|0020232233|                NULL|    4.0|Could be better b...|12 15, 2016|A2ONKKDETRWT79|        Consumer Dad|                NULL|Great but could b...|    1481760000|   false|NULL|\n",
            "|0020232233|[\"https://images-...|    3.0|My review will mi...| 12 9, 2016| AK9GN9KZZNTEP| Dallas Gamer Family|                NULL|Another missed op...|    1481241600|    true|  13|\n",
            "|0020232233|                NULL|    5.0|     Works very well| 12 7, 2016|A26HO01PDWN6O5|     Amazon Customer|                NULL|          Five Stars|    1481068800|    true|NULL|\n",
            "|0020232233|                NULL|    5.0|Can't wait to use...| 11 5, 2016| A8PF4X87CS3ZZ|          B. Felkins|                NULL|       Love the map!|    1478304000|    true|NULL|\n",
            "|0020232233|                NULL|    5.0|This is a campaig...| 11 4, 2016|A28QGCUNS22JPH|Daniel Gabriel Ho...|                NULL|Not a general DM ...|    1478217600|   false|   2|\n",
            "|038536539X|                NULL|    2.0|This is one of th...|04 24, 2017|A2X2RJWNAV4FM0|            J Person|                NULL|      Very weak game|    1492992000|   false|   3|\n",
            "|038536539X|                NULL|    2.0|It sounded like a...|04 17, 2017|A1DIRJ8YNI5TKL|             ZacWolf|                NULL|Fell completely f...|    1492387200|    true|   6|\n",
            "|038536539X|                NULL|    5.0|Very fun game for...|01 26, 2017|A2G5IDD919P2DK|  Marcy A. Danenmann|                NULL|          Five Stars|    1485388800|    true|NULL|\n",
            "|0486277577|                NULL|    4.0|Pretty good book ...|03 16, 2004| AGCAAWP1AVVZR|       M. P. Schiesl|{\"Format:\":\" Pape...|           Good book|    1079395200|   false|  13|\n",
            "|0486277577|                NULL|    5.0|When I unexpected...|04 28, 2002| AD2CIUI4TSVY7|         Mark Thomas|{\"Format:\":\" Pape...|Buckley was a car...|    1019952000|   false|  16|\n",
            "|0486277577|                NULL|    5.0|If you've mastere...| 08 3, 2001| APTEPFKL03QA0|Christian A. Fisa...|{\"Format:\":\" Pape...|Very advanced, bu...|     996796800|   false|  14|\n",
            "|0486277577|                NULL|    5.0|I've yet to see a...|10 15, 2000|A14FXEKB1PXTZG|         Jose Berlin|{\"Format:\":\" Pape...|You better know w...|     971568000|   false|  21|\n",
            "+----------+--------------------+-------+--------------------+-----------+--------------+--------------------+--------------------+--------------------+--------------+--------+----+\n",
            "only showing top 20 rows\n",
            "\n"
          ]
        }
      ]
    },
    {
      "cell_type": "code",
      "source": [
        "df.count()"
      ],
      "metadata": {
        "colab": {
          "base_uri": "https://localhost:8080/"
        },
        "id": "n2k7KR6GW4up",
        "outputId": "626c3b80-0f46-4827-b9bd-79f36044c211"
      },
      "execution_count": 9,
      "outputs": [
        {
          "output_type": "execute_result",
          "data": {
            "text/plain": [
              "8201231"
            ]
          },
          "metadata": {},
          "execution_count": 9
        }
      ]
    },
    {
      "cell_type": "code",
      "source": [
        "from pyspark.sql.functions import from_unixtime, year"
      ],
      "metadata": {
        "id": "OltUi9jWXxXU"
      },
      "execution_count": 10,
      "outputs": []
    },
    {
      "cell_type": "markdown",
      "source": [
        "# Convertir unixtime en tiempo y extraer el anio para realizar el filtrado"
      ],
      "metadata": {
        "id": "yHmvgYH6ZA68"
      }
    },
    {
      "cell_type": "code",
      "source": [
        "df = df.withColumn(\"review_date\", from_unixtime(df[\"unixreviewtime\"]))"
      ],
      "metadata": {
        "id": "UJ6J-WMVYV_d"
      },
      "execution_count": 11,
      "outputs": []
    },
    {
      "cell_type": "code",
      "source": [
        "df = df.withColumn(\"review_year\", year(df[\"review_date\"]))"
      ],
      "metadata": {
        "id": "tRVdCTs2Ylak"
      },
      "execution_count": 12,
      "outputs": []
    },
    {
      "cell_type": "code",
      "source": [
        "df = df.drop(\"unixreviewtime\", 'reviewTime')"
      ],
      "metadata": {
        "id": "qwWWFtg3Yw1L"
      },
      "execution_count": 13,
      "outputs": []
    },
    {
      "cell_type": "code",
      "source": [
        "df.show()"
      ],
      "metadata": {
        "colab": {
          "base_uri": "https://localhost:8080/"
        },
        "id": "RPtGkVsmXy3l",
        "outputId": "dca4de95-304c-4aa0-ba96-db90fef51e8f"
      },
      "execution_count": 14,
      "outputs": [
        {
          "output_type": "stream",
          "name": "stdout",
          "text": [
            "+----------+--------------------+-------+--------------------+--------------+--------------------+--------------------+--------------------+--------+----+-------------------+-----------+\n",
            "|      asin|               image|overall|          reviewText|    reviewerID|        reviewerName|               style|             summary|verified|vote|        review_date|review_year|\n",
            "+----------+--------------------+-------+--------------------+--------------+--------------------+--------------------+--------------------+--------+----+-------------------+-----------+\n",
            "|0020232233|                NULL|    2.0|When it comes to ...|A1IDMI31WEANAF|      Mackenzie Kent|                NULL|The fact that 50%...|   false|  12|2016-09-22 00:00:00|       2016|\n",
            "|0020232233|                NULL|    1.0|An Open Letter to...| A4BCEVVZ4Y3V3|  Jonathan Christian|                NULL|Another worthless...|   false|  21|2016-09-18 00:00:00|       2016|\n",
            "|0020232233|                NULL|    3.0|Nice art, nice pr...|A2EZ9PY1IHHBX0|     unpreparedtodie|                NULL|pretty, but also ...|    true|  19|2016-09-12 00:00:00|       2016|\n",
            "|0020232233|                NULL|    5.0|Amazing buy! Boug...|A139PXTTC2LGHZ|              Ashley|                NULL|          Five Stars|    true|NULL|2017-03-02 00:00:00|       2017|\n",
            "|0020232233|                NULL|    1.0|As my review of G...|A3IB33V29XIL8O|            Oghma_EM|                NULL|          Money trap|    true|   3|2017-02-08 00:00:00|       2017|\n",
            "|0020232233|                NULL|    5.0|      Grandson loves|A1J86V48S4KRJE|  Cynthia A. Evoniuk|                NULL|          Five Stars|    true|NULL|2017-01-27 00:00:00|       2017|\n",
            "|0020232233|                NULL|    5.0|I have bought man...|A14J12PRBLGHF4|     Amazon Customer|                NULL| Best gm screen ever|   false|NULL|2017-01-02 00:00:00|       2017|\n",
            "|0020232233|                NULL|    5.0|Came in perfect c...|A2UKOWP9ICU416|            anon9df0|                NULL|          Five Stars|    true|NULL|2016-12-17 00:00:00|       2016|\n",
            "|0020232233|                NULL|    4.0|Could be better b...|A2ONKKDETRWT79|        Consumer Dad|                NULL|Great but could b...|   false|NULL|2016-12-15 00:00:00|       2016|\n",
            "|0020232233|[\"https://images-...|    3.0|My review will mi...| AK9GN9KZZNTEP| Dallas Gamer Family|                NULL|Another missed op...|    true|  13|2016-12-09 00:00:00|       2016|\n",
            "|0020232233|                NULL|    5.0|     Works very well|A26HO01PDWN6O5|     Amazon Customer|                NULL|          Five Stars|    true|NULL|2016-12-07 00:00:00|       2016|\n",
            "|0020232233|                NULL|    5.0|Can't wait to use...| A8PF4X87CS3ZZ|          B. Felkins|                NULL|       Love the map!|    true|NULL|2016-11-05 00:00:00|       2016|\n",
            "|0020232233|                NULL|    5.0|This is a campaig...|A28QGCUNS22JPH|Daniel Gabriel Ho...|                NULL|Not a general DM ...|   false|   2|2016-11-04 00:00:00|       2016|\n",
            "|038536539X|                NULL|    2.0|This is one of th...|A2X2RJWNAV4FM0|            J Person|                NULL|      Very weak game|   false|   3|2017-04-24 00:00:00|       2017|\n",
            "|038536539X|                NULL|    2.0|It sounded like a...|A1DIRJ8YNI5TKL|             ZacWolf|                NULL|Fell completely f...|    true|   6|2017-04-17 00:00:00|       2017|\n",
            "|038536539X|                NULL|    5.0|Very fun game for...|A2G5IDD919P2DK|  Marcy A. Danenmann|                NULL|          Five Stars|    true|NULL|2017-01-26 00:00:00|       2017|\n",
            "|0486277577|                NULL|    4.0|Pretty good book ...| AGCAAWP1AVVZR|       M. P. Schiesl|{\"Format:\":\" Pape...|           Good book|   false|  13|2004-03-16 00:00:00|       2004|\n",
            "|0486277577|                NULL|    5.0|When I unexpected...| AD2CIUI4TSVY7|         Mark Thomas|{\"Format:\":\" Pape...|Buckley was a car...|   false|  16|2002-04-28 00:00:00|       2002|\n",
            "|0486277577|                NULL|    5.0|If you've mastere...| APTEPFKL03QA0|Christian A. Fisa...|{\"Format:\":\" Pape...|Very advanced, bu...|   false|  14|2001-08-03 00:00:00|       2001|\n",
            "|0486277577|                NULL|    5.0|I've yet to see a...|A14FXEKB1PXTZG|         Jose Berlin|{\"Format:\":\" Pape...|You better know w...|   false|  21|2000-10-15 00:00:00|       2000|\n",
            "+----------+--------------------+-------+--------------------+--------------+--------------------+--------------------+--------------------+--------+----+-------------------+-----------+\n",
            "only showing top 20 rows\n",
            "\n"
          ]
        }
      ]
    },
    {
      "cell_type": "markdown",
      "source": [
        "# Filtrado del df entre 2014 y 2004"
      ],
      "metadata": {
        "id": "A8aMV1RfvaoK"
      }
    },
    {
      "cell_type": "code",
      "source": [
        "# Filtrar las filas para incluir solo los años entre 2004 y 2014\n",
        "df_filtrado = df.filter((df[\"review_year\"] >= 2004) & (df[\"review_year\"] <= 2014))"
      ],
      "metadata": {
        "id": "x4G9WbTpuAhz"
      },
      "execution_count": 15,
      "outputs": []
    },
    {
      "cell_type": "markdown",
      "source": [
        "# Al filtrar entre 2004 y 2014 pasamos de 8M de registros a 2M de regsitros."
      ],
      "metadata": {
        "id": "4AdYzdGVS3zx"
      }
    },
    {
      "cell_type": "code",
      "source": [
        "df_filtrado.count()"
      ],
      "metadata": {
        "id": "vh8nnmu9uj2C",
        "outputId": "687bb6bb-e06d-4504-cf50-dcd032e386a1",
        "colab": {
          "base_uri": "https://localhost:8080/"
        }
      },
      "execution_count": 16,
      "outputs": [
        {
          "output_type": "execute_result",
          "data": {
            "text/plain": [
              "2393317"
            ]
          },
          "metadata": {},
          "execution_count": 16
        }
      ]
    },
    {
      "cell_type": "code",
      "source": [
        "df_filtrado.show()"
      ],
      "metadata": {
        "id": "p2OO_pIsujzn",
        "outputId": "463b53ef-aacd-446e-c0b3-d46f7ddc407e",
        "colab": {
          "base_uri": "https://localhost:8080/"
        }
      },
      "execution_count": 17,
      "outputs": [
        {
          "output_type": "stream",
          "name": "stdout",
          "text": [
            "+----------+-----+-------+--------------------+--------------+--------------------+--------------------+--------------------+--------+----+-------------------+-----------+\n",
            "|      asin|image|overall|          reviewText|    reviewerID|        reviewerName|               style|             summary|verified|vote|        review_date|review_year|\n",
            "+----------+-----+-------+--------------------+--------------+--------------------+--------------------+--------------------+--------+----+-------------------+-----------+\n",
            "|0486277577| NULL|    4.0|Pretty good book ...| AGCAAWP1AVVZR|       M. P. Schiesl|{\"Format:\":\" Pape...|           Good book|   false|  13|2004-03-16 00:00:00|       2004|\n",
            "|0486402029| NULL|    1.0|I don't know how ...|A1X9QQFMPGDW70|          Justabuyer|{\"Format:\":\" Pape...|        Don't bother|   false|   2|2007-09-21 00:00:00|       2007|\n",
            "|0486402029| NULL|    1.0|These are cute ta...|A1NTAPB1XPB6KK|            Mandible|{\"Format:\":\" Pape...|The worst value I...|   false|   2|2007-01-16 00:00:00|       2007|\n",
            "|0486402029| NULL|    2.0|While my 3 year o...|A34S86H4OJGGVR|An Aerospace Engi...|{\"Format:\":\" Pape...|  Not enough product|    true|   2|2007-01-12 00:00:00|       2007|\n",
            "|0486402029| NULL|    4.0|There are only fe...|A2SGKF4BT5NWYO|Mauricio De Maria...|{\"Format:\":\" Pape...| Good product but...|   false|   4|2007-01-10 00:00:00|       2007|\n",
            "|0486402029| NULL|    5.0|I'd buy again as ...| AVPT4Q2E2PK9O|             Derrick|{\"Format:\":\" Pape...|Temporary Tattoos...|    true|   2|2006-11-03 00:00:00|       2006|\n",
            "|0486402029| NULL|    5.0|My young son was ...|A17AF3GZQEKMYC|              J. Mag|{\"Format:\":\" Pape...|            Huge Hit|   false|   7|2005-09-20 00:00:00|       2005|\n",
            "|0486427706| NULL|    5.0|  Beautiful art work| AOJTIHPYWGGHQ|     Kindalyn Phelps|{\"Format:\":\" Pape...|          Five Stars|    true|NULL|2014-08-21 00:00:00|       2014|\n",
            "|0486427706| NULL|    5.0|These are intrica...|A38U7ERUZCBOJ5|Joanne Philip Bat...|{\"Format:\":\" Pape...|  Wonderful designs.|    true|   2|2014-08-14 00:00:00|       2014|\n",
            "|0486427706| NULL|    5.0|This coloring boo...|A12VWMI909LC3Y|      sharon wheeler|{\"Format:\":\" Pape...|WOW, GREAT COLORI...|    true|   4|2014-08-07 00:00:00|       2014|\n",
            "|0486427706| NULL|    5.0|The stained glass...|A2LSCFZM2FBZK7|              Ginger|{\"Format:\":\" Pape...|           Nice book|    true|   3|2013-10-06 00:00:00|       2013|\n",
            "|0486427706| NULL|    5.0|My 11 y.o. loved ...|A3IXP5VS847GE5|Dragonflies &amp;...|{\"Format:\":\" Pape...|      Great pictures|    true|   9|2013-08-09 00:00:00|       2013|\n",
            "|0486427706| NULL|    5.0|Awesome! My 8 yea...|A22WPJ8XFBR00Z|Douglas B. McFarling|{\"Format:\":\" Pape...|            Perfect!|   false|NULL|2012-12-25 00:00:00|       2012|\n",
            "|0486427706| NULL|    5.0|This book has won...| AYLMHOQOT0S4N|           C. Murphy|{\"Format:\":\" Pape...|       Well done....|    true|   5|2010-08-18 00:00:00|       2010|\n",
            "|0486427706| NULL|    5.0|I loved this book...| AJ8YOQ9V6WTQM|  Kimberely J. Hardy|{\"Format:\":\" Pape...|       My relaxation|   false|  10|2008-09-16 00:00:00|       2008|\n",
            "|0486427706| NULL|    5.0|I bought this for...|A1GGAQIGLJ9PJ0|          A. Freeman|{\"Format:\":\" Pape...|Beautiful colorin...|    true|   5|2007-02-06 00:00:00|       2007|\n",
            "|0486448789| NULL|    5.0|Sometimes you nee...|A18MVTKTTE8OS8|              JudiAU|{\"Format:\":\" Pape...| Great 30 minute toy|    true|  10|2011-04-20 00:00:00|       2011|\n",
            "|0486448789| NULL|    5.0|These little book...|A2C2TLRMMMLAJV|          D. Workman|{\"Format:\":\" Pape...|              great!|   false|NULL|2011-04-02 00:00:00|       2011|\n",
            "|0486448789| NULL|    2.0|This is indeed a ...| APTGPJM3QRMHT|       thunification|{\"Format:\":\" Pape...|  Only OK ...AT Best|    true|   4|2011-02-07 00:00:00|       2011|\n",
            "|0486448789| NULL|    4.0|I bought several ...| AJL8EN4QAFA9K|      A. V. Richards|{\"Format:\":\" Pape...|                Fun!|   false|NULL|2010-02-11 00:00:00|       2010|\n",
            "+----------+-----+-------+--------------------+--------------+--------------------+--------------------+--------------------+--------+----+-------------------+-----------+\n",
            "only showing top 20 rows\n",
            "\n"
          ]
        }
      ]
    },
    {
      "cell_type": "code",
      "source": [
        "df_filtrado = df_filtrado.drop('image', 'style', 'vote')"
      ],
      "metadata": {
        "id": "E9QkbF7yujxJ"
      },
      "execution_count": 18,
      "outputs": []
    },
    {
      "cell_type": "code",
      "source": [
        "df_filtrado.show()"
      ],
      "metadata": {
        "id": "z0rOzaMBujuC",
        "outputId": "c97d12fe-917a-46b8-a881-c38bf816e293",
        "colab": {
          "base_uri": "https://localhost:8080/"
        }
      },
      "execution_count": 19,
      "outputs": [
        {
          "output_type": "stream",
          "name": "stdout",
          "text": [
            "+----------+-------+--------------------+--------------+--------------------+--------------------+--------+-------------------+-----------+\n",
            "|      asin|overall|          reviewText|    reviewerID|        reviewerName|             summary|verified|        review_date|review_year|\n",
            "+----------+-------+--------------------+--------------+--------------------+--------------------+--------+-------------------+-----------+\n",
            "|0486277577|    4.0|Pretty good book ...| AGCAAWP1AVVZR|       M. P. Schiesl|           Good book|   false|2004-03-16 00:00:00|       2004|\n",
            "|0486402029|    1.0|I don't know how ...|A1X9QQFMPGDW70|          Justabuyer|        Don't bother|   false|2007-09-21 00:00:00|       2007|\n",
            "|0486402029|    1.0|These are cute ta...|A1NTAPB1XPB6KK|            Mandible|The worst value I...|   false|2007-01-16 00:00:00|       2007|\n",
            "|0486402029|    2.0|While my 3 year o...|A34S86H4OJGGVR|An Aerospace Engi...|  Not enough product|    true|2007-01-12 00:00:00|       2007|\n",
            "|0486402029|    4.0|There are only fe...|A2SGKF4BT5NWYO|Mauricio De Maria...| Good product but...|   false|2007-01-10 00:00:00|       2007|\n",
            "|0486402029|    5.0|I'd buy again as ...| AVPT4Q2E2PK9O|             Derrick|Temporary Tattoos...|    true|2006-11-03 00:00:00|       2006|\n",
            "|0486402029|    5.0|My young son was ...|A17AF3GZQEKMYC|              J. Mag|            Huge Hit|   false|2005-09-20 00:00:00|       2005|\n",
            "|0486427706|    5.0|  Beautiful art work| AOJTIHPYWGGHQ|     Kindalyn Phelps|          Five Stars|    true|2014-08-21 00:00:00|       2014|\n",
            "|0486427706|    5.0|These are intrica...|A38U7ERUZCBOJ5|Joanne Philip Bat...|  Wonderful designs.|    true|2014-08-14 00:00:00|       2014|\n",
            "|0486427706|    5.0|This coloring boo...|A12VWMI909LC3Y|      sharon wheeler|WOW, GREAT COLORI...|    true|2014-08-07 00:00:00|       2014|\n",
            "|0486427706|    5.0|The stained glass...|A2LSCFZM2FBZK7|              Ginger|           Nice book|    true|2013-10-06 00:00:00|       2013|\n",
            "|0486427706|    5.0|My 11 y.o. loved ...|A3IXP5VS847GE5|Dragonflies &amp;...|      Great pictures|    true|2013-08-09 00:00:00|       2013|\n",
            "|0486427706|    5.0|Awesome! My 8 yea...|A22WPJ8XFBR00Z|Douglas B. McFarling|            Perfect!|   false|2012-12-25 00:00:00|       2012|\n",
            "|0486427706|    5.0|This book has won...| AYLMHOQOT0S4N|           C. Murphy|       Well done....|    true|2010-08-18 00:00:00|       2010|\n",
            "|0486427706|    5.0|I loved this book...| AJ8YOQ9V6WTQM|  Kimberely J. Hardy|       My relaxation|   false|2008-09-16 00:00:00|       2008|\n",
            "|0486427706|    5.0|I bought this for...|A1GGAQIGLJ9PJ0|          A. Freeman|Beautiful colorin...|    true|2007-02-06 00:00:00|       2007|\n",
            "|0486448789|    5.0|Sometimes you nee...|A18MVTKTTE8OS8|              JudiAU| Great 30 minute toy|    true|2011-04-20 00:00:00|       2011|\n",
            "|0486448789|    5.0|These little book...|A2C2TLRMMMLAJV|          D. Workman|              great!|   false|2011-04-02 00:00:00|       2011|\n",
            "|0486448789|    2.0|This is indeed a ...| APTGPJM3QRMHT|       thunification|  Only OK ...AT Best|    true|2011-02-07 00:00:00|       2011|\n",
            "|0486448789|    4.0|I bought several ...| AJL8EN4QAFA9K|      A. V. Richards|                Fun!|   false|2010-02-11 00:00:00|       2010|\n",
            "+----------+-------+--------------------+--------------+--------------------+--------------------+--------+-------------------+-----------+\n",
            "only showing top 20 rows\n",
            "\n"
          ]
        }
      ]
    },
    {
      "cell_type": "code",
      "source": [
        "from pyspark.sql.functions import col, sum"
      ],
      "metadata": {
        "id": "DDIsW9OB0CZx"
      },
      "execution_count": 20,
      "outputs": []
    },
    {
      "cell_type": "code",
      "source": [
        "null_counts = df_filtrado.select([sum(col(c).isNull().cast(\"int\")).alias(c) for c in df_filtrado.columns])\n",
        "null_counts.show()"
      ],
      "metadata": {
        "id": "TlSQA0tJujoJ",
        "outputId": "e873f6b7-8e4d-4713-fe69-c8e2d1ab6628",
        "colab": {
          "base_uri": "https://localhost:8080/"
        }
      },
      "execution_count": 21,
      "outputs": [
        {
          "output_type": "stream",
          "name": "stdout",
          "text": [
            "+----+-------+----------+----------+------------+-------+--------+-----------+-----------+\n",
            "|asin|overall|reviewText|reviewerID|reviewerName|summary|verified|review_date|review_year|\n",
            "+----+-------+----------+----------+------------+-------+--------+-----------+-----------+\n",
            "|   0|      0|       278|         0|         118|    194|       0|          0|          0|\n",
            "+----+-------+----------+----------+------------+-------+--------+-----------+-----------+\n",
            "\n"
          ]
        }
      ]
    },
    {
      "cell_type": "code",
      "source": [
        "# Elimina las filas que contienen valores nulos en cualquier columna\n",
        "df_sin_nulos = df_filtrado.dropna()"
      ],
      "metadata": {
        "id": "bDht2tYRy3rC"
      },
      "execution_count": 22,
      "outputs": []
    },
    {
      "cell_type": "code",
      "source": [
        "null_counts = df_sin_nulos.select([sum(col(c).isNull().cast(\"int\")).alias(c) for c in df_sin_nulos.columns])\n",
        "null_counts.show()"
      ],
      "metadata": {
        "id": "BkF6tWSuy3oT",
        "colab": {
          "base_uri": "https://localhost:8080/"
        },
        "outputId": "8fa60906-d834-436c-d608-d7442c167646"
      },
      "execution_count": 24,
      "outputs": [
        {
          "output_type": "stream",
          "name": "stdout",
          "text": [
            "+----+-------+----------+----------+------------+-------+--------+-----------+-----------+\n",
            "|asin|overall|reviewText|reviewerID|reviewerName|summary|verified|review_date|review_year|\n",
            "+----+-------+----------+----------+------------+-------+--------+-----------+-----------+\n",
            "|   0|      0|         0|         0|           0|      0|       0|          0|          0|\n",
            "+----+-------+----------+----------+------------+-------+--------+-----------+-----------+\n",
            "\n"
          ]
        }
      ]
    },
    {
      "cell_type": "code",
      "source": [
        "df_sin_nulos.show()"
      ],
      "metadata": {
        "colab": {
          "base_uri": "https://localhost:8080/"
        },
        "id": "5Fkcrt0yTFwe",
        "outputId": "eddc39c5-6625-423d-ff06-2aab127f0b4a"
      },
      "execution_count": 26,
      "outputs": [
        {
          "output_type": "stream",
          "name": "stdout",
          "text": [
            "+----------+-------+--------------------+--------------+--------------------+--------------------+--------+-------------------+-----------+\n",
            "|      asin|overall|          reviewText|    reviewerID|        reviewerName|             summary|verified|        review_date|review_year|\n",
            "+----------+-------+--------------------+--------------+--------------------+--------------------+--------+-------------------+-----------+\n",
            "|0486277577|    4.0|Pretty good book ...| AGCAAWP1AVVZR|       M. P. Schiesl|           Good book|   false|2004-03-16 00:00:00|       2004|\n",
            "|0486402029|    1.0|I don't know how ...|A1X9QQFMPGDW70|          Justabuyer|        Don't bother|   false|2007-09-21 00:00:00|       2007|\n",
            "|0486402029|    1.0|These are cute ta...|A1NTAPB1XPB6KK|            Mandible|The worst value I...|   false|2007-01-16 00:00:00|       2007|\n",
            "|0486402029|    2.0|While my 3 year o...|A34S86H4OJGGVR|An Aerospace Engi...|  Not enough product|    true|2007-01-12 00:00:00|       2007|\n",
            "|0486402029|    4.0|There are only fe...|A2SGKF4BT5NWYO|Mauricio De Maria...| Good product but...|   false|2007-01-10 00:00:00|       2007|\n",
            "|0486402029|    5.0|I'd buy again as ...| AVPT4Q2E2PK9O|             Derrick|Temporary Tattoos...|    true|2006-11-03 00:00:00|       2006|\n",
            "|0486402029|    5.0|My young son was ...|A17AF3GZQEKMYC|              J. Mag|            Huge Hit|   false|2005-09-20 00:00:00|       2005|\n",
            "|0486427706|    5.0|  Beautiful art work| AOJTIHPYWGGHQ|     Kindalyn Phelps|          Five Stars|    true|2014-08-21 00:00:00|       2014|\n",
            "|0486427706|    5.0|These are intrica...|A38U7ERUZCBOJ5|Joanne Philip Bat...|  Wonderful designs.|    true|2014-08-14 00:00:00|       2014|\n",
            "|0486427706|    5.0|This coloring boo...|A12VWMI909LC3Y|      sharon wheeler|WOW, GREAT COLORI...|    true|2014-08-07 00:00:00|       2014|\n",
            "|0486427706|    5.0|The stained glass...|A2LSCFZM2FBZK7|              Ginger|           Nice book|    true|2013-10-06 00:00:00|       2013|\n",
            "|0486427706|    5.0|My 11 y.o. loved ...|A3IXP5VS847GE5|Dragonflies &amp;...|      Great pictures|    true|2013-08-09 00:00:00|       2013|\n",
            "|0486427706|    5.0|Awesome! My 8 yea...|A22WPJ8XFBR00Z|Douglas B. McFarling|            Perfect!|   false|2012-12-25 00:00:00|       2012|\n",
            "|0486427706|    5.0|This book has won...| AYLMHOQOT0S4N|           C. Murphy|       Well done....|    true|2010-08-18 00:00:00|       2010|\n",
            "|0486427706|    5.0|I loved this book...| AJ8YOQ9V6WTQM|  Kimberely J. Hardy|       My relaxation|   false|2008-09-16 00:00:00|       2008|\n",
            "|0486427706|    5.0|I bought this for...|A1GGAQIGLJ9PJ0|          A. Freeman|Beautiful colorin...|    true|2007-02-06 00:00:00|       2007|\n",
            "|0486448789|    5.0|Sometimes you nee...|A18MVTKTTE8OS8|              JudiAU| Great 30 minute toy|    true|2011-04-20 00:00:00|       2011|\n",
            "|0486448789|    5.0|These little book...|A2C2TLRMMMLAJV|          D. Workman|              great!|   false|2011-04-02 00:00:00|       2011|\n",
            "|0486448789|    2.0|This is indeed a ...| APTGPJM3QRMHT|       thunification|  Only OK ...AT Best|    true|2011-02-07 00:00:00|       2011|\n",
            "|0486448789|    4.0|I bought several ...| AJL8EN4QAFA9K|      A. V. Richards|                Fun!|   false|2010-02-11 00:00:00|       2010|\n",
            "+----------+-------+--------------------+--------------+--------------------+--------------------+--------+-------------------+-----------+\n",
            "only showing top 20 rows\n",
            "\n"
          ]
        }
      ]
    },
    {
      "cell_type": "markdown",
      "source": [
        "# No encontramos outliers en la columna overall"
      ],
      "metadata": {
        "id": "o_yV1JQCTxf0"
      }
    },
    {
      "cell_type": "code",
      "source": [
        "df_sin_nulos.select('overall').distinct().show()"
      ],
      "metadata": {
        "id": "dlTxnEnBy3l7",
        "colab": {
          "base_uri": "https://localhost:8080/"
        },
        "outputId": "5f43b03f-2fbd-4afd-bff5-8427f52a44b0"
      },
      "execution_count": 25,
      "outputs": [
        {
          "output_type": "stream",
          "name": "stdout",
          "text": [
            "+-------+\n",
            "|overall|\n",
            "+-------+\n",
            "|    5.0|\n",
            "|    2.0|\n",
            "|    3.0|\n",
            "|    1.0|\n",
            "|    4.0|\n",
            "+-------+\n",
            "\n"
          ]
        }
      ]
    },
    {
      "cell_type": "markdown",
      "source": [
        "# Completo el analisis y limpieza de Toys Reviews, pasamos con la metadata"
      ],
      "metadata": {
        "id": "yv_sY9qtT2UC"
      }
    },
    {
      "cell_type": "code",
      "source": [
        "df_meta = spark.read.json('/content/drive/My Drive/Version 2018/meta_Toys_and_Games.json.gz')"
      ],
      "metadata": {
        "id": "6eOik_OBy3jm"
      },
      "execution_count": 27,
      "outputs": []
    },
    {
      "cell_type": "code",
      "source": [
        "df_meta.show()"
      ],
      "metadata": {
        "id": "0abYPplSy3hT",
        "colab": {
          "base_uri": "https://localhost:8080/"
        },
        "outputId": "bfebb867-aa46-4420-c6ce-1712fd938cbc"
      },
      "execution_count": 28,
      "outputs": [
        {
          "output_type": "stream",
          "name": "stdout",
          "text": [
            "+--------------------+--------------------+----------+--------------------+--------------------+----+--------------------+-------+--------------------+---+--------------------+--------------------+------------+--------------------+--------------------+--------------------+-----+-----+--------------------+\n",
            "|            also_buy|           also_view|      asin|               brand|            category|date|         description|details|             feature|fit|            imageURL|     imageURLHighRes|    main_cat|               price|                rank|        similar_item|tech1|tech2|               title|\n",
            "+--------------------+--------------------+----------+--------------------+--------------------+----+--------------------+-------+--------------------+---+--------------------+--------------------+------------+--------------------+--------------------+--------------------+-----+-----+--------------------+\n",
            "|                  []|                  []|0000191639|           Dr. Seuss|[Toys & Games, Pu...|    |[Three Dr. Suess'...|   NULL|[Three giant floo...|   |[https://images-n...|[https://images-n...|Toys & Games|                    |[\">#2,230,717 in ...|                    |     |     |Dr. Suess 19163 D...|\n",
            "|                  []|                  []|0004950763|Pathfinder Rolepl...|                  []|    |[<b>Prepare to be...|   NULL|                  []|   |                  []|                  []|Toys & Games|.a-box-inner{back...|[\">#2,294,535 in ...|                    |     |     |Pathfinder: Book ...|\n",
            "|                  []|                  []|0005069491|        Betty Lukens|                  []|    |                  []|   NULL|                  []|   |                  []|                  []|Toys & Games|.a-box-inner{back...|[\">#2,871,983 in ...|                    |     |     |Nursery Rhymes Fe...|\n",
            "|        [B00WIIPQEC]|[B000BBU0KS, B00N...|0004983289|Dutch Blitz Games Co|[Toys & Games, Ga...|    |[Blitz Vintage Ca...|   NULL|                  []|   |                  []|                  []|Toys & Games|              $24.95|[\">#376,337 in To...| class=\"a-bordere...|     |     |Dutch Blitz Card ...|\n",
            "|[B009SB7TI8, B009...|                  []|0006466222|    Lee Publications|                  []|    |[Marvel SuperHero...|   NULL|                  []|   |                  []|                  []|Toys & Games|               $4.92|[\">#934,954 in To...|                    |     |     |Magic Pen Paintin...|\n",
            "|[0786966009, 1945...|[0786966009, B01L...|0020232233|     Gale Force Nine|[Toys & Games, Gr...|    |[This screen is t...|   NULL|[This screen is t...|   |[https://images-n...|[https://images-n...|Toys & Games|              $13.50|[\">#178,217 in To...| class=\"a-bordere...|     |     |Dungeons &amp; Dr...|\n",
            "|                  []|                  []|0096737581|            Num Noms|[Toys & Games, Ar...|    |[Holds 24+ nom nu...|   NULL|[14 inches wide b...|   |[https://images-n...|[https://images-n...|Toys & Games|                    |[\">#989,767 in To...|                    |     |     |NUM NOMS figures ...|\n",
            "|                  []|                  []|014002316X|                 UDI|[Toys & Games, To...|    |[This U806 is the...|   NULL|[Includes 3.7 vol...|   |[https://images-n...|[https://images-n...|Toys & Games|                    |[\">#3,687,991 in ...|                    |     |     |UDI U806 Infrared...|\n",
            "|                  []|                  []|0152014764|         Design Farm|                  []|    |                  []|   NULL|[8-1/2\" wing span...|   |                  []|                  []|Toys & Games|                    |[\">#3,947,818 in ...|                    |     |     |Stellaluna Finger...|\n",
            "|                  []|                  []|019848710X|    Oxford Ort Packs|                  []|    |[Numicon builds a...|   NULL|[<span>\\n        ...|   |[https://images-n...|[https://images-n...|Toys & Games|              $35.09|[\">#3,449,118 in ...|                    |     |     |Oxford Ort Packs ...|\n",
            "|                  []|                  []|0198487126|Oxford University...|                  []|    |[These stacking, ...|   NULL|                  []|   |                  []|                  []|Toys & Games|              $28.81|[\">#1,701,474 in ...|                    |     |     |Oxford University...|\n",
            "|                  []|                  []|0298771357|               Taito|                  []|    |            [<br />]|   NULL|                  []|   |                  []|                  []|Toys & Games|                    |[\">#2,284,447 in ...|                    |     |     |Taito - Peluche D...|\n",
            "|                  []|                  []|0298772221|               Furyu|                  []|    |                  []|   NULL|                  []|   |                  []|                  []|Toys & Games|              $34.99|[\">#1,615,208 in ...|                    |     |     |Nemuneko Big Plus...|\n",
            "|                  []|        [0298752549]|0298752530|               Amuse|                  []|    |                  []|   NULL|                  []|   |[https://images-n...|[https://images-n...|Toys & Games|              $74.99|[\">#1,764,465 in ...|                    |     |     |Zou no Pororon Bi...|\n",
            "|                  []|                  []|0298752697|               Eikoh|                  []|    |                  []|   NULL|                  []|   |                  []|                  []|Toys & Games|                    |[\">#2,246,880 in ...|                    |     |     |Touken Ranbu Onli...|\n",
            "|                  []|                  []|0298770415|           Banpresto|                  []|    |                  []|   NULL|                  []|   |                  []|                  []|Toys & Games|                    |[\">#1,625,532 in ...|                    |     |     |Pokemon XY Korott...|\n",
            "|                  []|                  []|0298770377|           Banpresto|[Toys & Games, St...|    |                  []|   NULL|                  []|   |                  []|                  []|Toys & Games|                    |[\">#1,729,890 in ...|                    |     |     |Pokemon XY Korott...|\n",
            "|[029877187X, 0298...|[B07GZLD9L5, B01L...|0298771861|                Sega|[Toys & Games, St...|    |                  []|   NULL|[Officially Licen...|   |                  []|                  []|Toys & Games|                    |[\">#361,527 in To...| class=\"a-bordere...|     |     |Sega Love Live Sc...|\n",
            "|[B074GV3RVT, B00Q...|[B00L9OYWJQ, B00I...|0298765705|                Sega|[Toys & Games, Ac...|    |                  []|   NULL|[Officially Licen...|   |                  []|                  []|Toys & Games|              $32.50|[\">#550,503 in To...| class=\"a-bordere...|     |     |Sega Love, Chunib...|\n",
            "|[B00N60XWYM, B00T...|[B00TPYAQYM, B00M...|0298770504|               Furyu|[Toys & Games, Ac...|    |                  []|   NULL|                  []|   |                  []|                  []|Toys & Games|              $15.34|[\">#422,996 in To...| class=\"a-bordere...|     |     |Furyu 6.7&quot; L...|\n",
            "+--------------------+--------------------+----------+--------------------+--------------------+----+--------------------+-------+--------------------+---+--------------------+--------------------+------------+--------------------+--------------------+--------------------+-----+-----+--------------------+\n",
            "only showing top 20 rows\n",
            "\n"
          ]
        }
      ]
    },
    {
      "cell_type": "code",
      "source": [
        "null_counts = df_meta.select([sum(col(c).isNull().cast(\"int\")).alias(c) for c in df_meta.columns])\n",
        "null_counts.show()"
      ],
      "metadata": {
        "id": "EJVA87M0y3ey",
        "colab": {
          "base_uri": "https://localhost:8080/"
        },
        "outputId": "fc6401d4-f62e-44c0-9913-7505c8b3e0b1"
      },
      "execution_count": 29,
      "outputs": [
        {
          "output_type": "stream",
          "name": "stdout",
          "text": [
            "+--------+---------+----+-----+--------+----+-----------+-------+-------+---+--------+---------------+--------+-----+----+------------+-----+-----+-----+\n",
            "|also_buy|also_view|asin|brand|category|date|description|details|feature|fit|imageURL|imageURLHighRes|main_cat|price|rank|similar_item|tech1|tech2|title|\n",
            "+--------+---------+----+-----+--------+----+-----------+-------+-------+---+--------+---------------+--------+-----+----+------------+-----+-----+-----+\n",
            "|       0|        0|   0|    0|       0|   0|          0|   1462|      0|  0|       0|              0|       0|    0|   0|           0|    0|    0|    0|\n",
            "+--------+---------+----+-----+--------+----+-----------+-------+-------+---+--------+---------------+--------+-----+----+------------+-----+-----+-----+\n",
            "\n"
          ]
        }
      ]
    },
    {
      "cell_type": "code",
      "source": [
        "df_meta.count()"
      ],
      "metadata": {
        "id": "m4QypEycy3cY",
        "colab": {
          "base_uri": "https://localhost:8080/"
        },
        "outputId": "5ab753c8-9815-4791-de2a-5df3bbe6fbfe"
      },
      "execution_count": 30,
      "outputs": [
        {
          "output_type": "execute_result",
          "data": {
            "text/plain": [
              "633883"
            ]
          },
          "metadata": {},
          "execution_count": 30
        }
      ]
    },
    {
      "cell_type": "code",
      "source": [
        "df_meta = df_meta.dropna()"
      ],
      "metadata": {
        "id": "holvaOMwy3Z-"
      },
      "execution_count": 31,
      "outputs": []
    },
    {
      "cell_type": "code",
      "source": [
        "df_meta.show()"
      ],
      "metadata": {
        "id": "a9zyWVh1y3Xr",
        "colab": {
          "base_uri": "https://localhost:8080/"
        },
        "outputId": "130e5cf5-8d04-4c3e-d9e7-d47336dab75d"
      },
      "execution_count": 32,
      "outputs": [
        {
          "output_type": "stream",
          "name": "stdout",
          "text": [
            "+--------------------+--------------------+----------+-------------------+--------------------+----+--------------------+--------------------+--------------------+---+--------------------+--------------------+-----------------+------+--------------------+--------------------+-----+-----+--------------------+\n",
            "|            also_buy|           also_view|      asin|              brand|            category|date|         description|             details|             feature|fit|            imageURL|     imageURLHighRes|         main_cat| price|                rank|        similar_item|tech1|tech2|               title|\n",
            "+--------------------+--------------------+----------+-------------------+--------------------+----+--------------------+--------------------+--------------------+---+--------------------+--------------------+-----------------+------+--------------------+--------------------+-----+-----+--------------------+\n",
            "|                  []|                  []|6306203230|     The Booklegger|[Toys & Games, Ga...|    |[Clem Darracott w...|{3.2 ounces, NULL...|[Made by The Book...|   |                  []|                  []|Sports & Outdoors|$28.45|1,890,827 in Spor...|                    |     |     |Ben Hogan: In Pur...|\n",
            "|                  []|                  []|6798648312|              CHXWW|                  []|    |                  []|{NULL, NULL, NULL...|                  []|   |[https://images-n...|[https://images-n...|     Toys & Games|      |[\">#2,100,223 in ...|                    |     |     |CHXWW Women's Sim...|\n",
            "|                  []|                  []|687567453X|           New toys|                  []|    |                  []|{NULL, NULL, NULL...|                  []|   |                  []|                  []|     Toys & Games|      |[\">#925,302 in To...|                    |     |     |Jurassic World Di...|\n",
            "|                  []|                  []|7040202328|              HICDD|[Toys & Games, Pa...|    |[New: A brand-new...|{NULL, NULL, NULL...|[3 in 1 Unique an...|   |[https://images-n...|[https://images-n...|     Toys & Games|      |[\">#2,308,952 in ...|                    |     |     |Cute Keyboard Cof...|\n",
            "|                  []|                  []|7096106510|          Buyonline|[Toys & Games, Dr...|    |[<b>Seller Gurant...|{NULL, NULL, NULL...|                  []|   |[https://images-n...|[https://images-n...|     Toys & Games|      |[\">#1,360,432 in ...|                    |     |     |Milliongadgets(TM...|\n",
            "|                  []|        [B010TQY7A8]|6901540000|Gary & Susan Fowler|[Toys & Games, Ga...|    |[A fast moving ga...|{NULL, NULL, NULL...|[May Cause uncont...|   |                  []|                  []|     Toys & Games|      |[\">#2,800,090 in ...|                    |     |     |The Totally Insan...|\n",
            "|[080483878X, 0996...|[957213096X, B00H...|7115294968|       Kai Tai Inc.|[Toys & Games, Ga...|    |[30 Days Uncondit...|{NULL, NULL, NULL...|[30 Days Uncondit...|   |[https://images-n...|[https://images-n...|     Toys & Games|$79.99|[\">#332,692 in To...| class=\"a-bordere...|     |     |American Mahjong ...|\n",
            "|                  []|                  []|7219039670|        Sole Trader|[Toys & Games, St...|    |                  []|{NULL, NULL, NULL...|                  []|   |[https://images-n...|[https://images-n...|     Toys & Games|      |[\">#1,797,942 in ...|                    |     |     |Sole Trader @ Nin...|\n",
            "|                  []|                  []|7293000022|           RC-Fever|                  []|    |                  []|{NULL, NULL, NULL...|[Coaxial, counter...|   |[https://images-n...|[https://images-n...|     Toys & Games|      |[\">#2,083,695 in ...|                    |     |     |Silver Color E-Sk...|\n",
            "|                  []|[B01LY7PA6D, B003...|7293000014| Amazing Tech Depot|[Toys & Games, Ho...|    |[<b>6CH USB Fligh...|{NULL, NULL, NULL...|[High-performance...|   |[https://images-n...|[https://images-n...|     Toys & Games|      |[\">#442,464 in To...|                    |     |     |Volantex RC 6-CH ...|\n",
            "|                  []|[957213096X, B00K...|7305081566|            KT Inc.|[Toys & Games, Ga...|    |[30 Days Uncondit...|{NULL, NULL, NULL...|[30 Days Uncondit...|   |[https://images-n...|[https://images-n...|     Toys & Games|$65.99|[\">#154,220 in To...| class=\"a-bordere...|     |     |4 Pushers + Brand...|\n",
            "|                  []|                  []|7501958645|            Unknown|                  []|    |[For Pokemon fan!...|{NULL, NULL, NULL...|[What a wonderful...|   |[https://images-n...|[https://images-n...|     Toys & Games|      |[\">#3,163,905 in ...|                    |     |     |Light Purple &amp...|\n",
            "|                  []|                  []|7532735206|               Ciel|[Toys & Games, Ac...|    |[New Kuroshitsuji...|{NULL, NULL, NULL...|[1)Material: PVC,...|   |[https://images-n...|[https://images-n...|     Toys & Games|      |[\">#706,106 in To...|                    |     |     |1 X New Kuroshits...|\n",
            "|                  []|                  []|7545107861|          IDOBRIDAL|                  []|    |                  []|{NULL, NULL, NULL...|                  []|   |[https://images-n...|[https://images-n...|     Toys & Games|      |[\">#2,911,339 in ...|                    |     |     |Two-tier Ivory Be...|\n",
            "|                  []|                  []|7543527286|        Cosplayhome|[Toys & Games, Ac...|    |[Hnadling days: 5...|{NULL, NULL, NULL...|[Material: PVC & ...|   |                  []|                  []|     Toys & Games|      |[\">#1,025,227 in ...|                    |     |     |World of Warcraft...|\n",
            "|                  []|                  []|7798944079|             AVATAR|[Toys & Games, Ac...|    |[An Awesome & Ult...|{NULL, NULL, NULL...|[Highly Detail St...|   |[https://images-n...|[https://images-n...|     Toys & Games|      |[\">#2,477,862 in ...|                    |     |     |Sugita Unproducti...|\n",
            "|                  []|                  []|7801404467|         Tupperware|[Toys & Games, Dr...|    |[This product set...|{NULL, NULL, NULL...|[10-oz./300 mL Mi...|   |                  []|                  []|     Toys & Games|$37.95|[\">#1,693,181 in ...|                    |     |     |Tupperware Mini I...|\n",
            "|                  []|[B004RJ5A3M, B004...|7802151872|        fantasycart|[Toys & Games, St...|    |[This 14.5\" plush...|{NULL, NULL, NULL...|[Angry Birds, Pig...|   |                  []|                  []|     Toys & Games|      |[\">#993,418 in To...|                    |     |     |fantasycart Angry...|\n",
            "|                  []|                  []|7805115044|        Kai Tai Inc|[Toys & Games, Ga...|    |                  []|{NULL, NULL, NULL...|                  []|   |[https://images-n...|[https://images-n...|     Toys & Games|      |[\">#694,208 in To...|                    |     |     |4 Pushers and Bra...|\n",
            "|                  []|[B00BBFRL3W, B005...|7842952868|     Gifts by Lulee|[Toys & Games, Ho...|    |[Rue Ruda Cologne...|{NULL, NULL, NULL...|                  []|   |                  []|                  []|     Toys & Games|$10.90|[\">#313,147 in To...|                    |     |     |Aguas Esotericas ...|\n",
            "+--------------------+--------------------+----------+-------------------+--------------------+----+--------------------+--------------------+--------------------+---+--------------------+--------------------+-----------------+------+--------------------+--------------------+-----+-----+--------------------+\n",
            "only showing top 20 rows\n",
            "\n"
          ]
        }
      ]
    },
    {
      "cell_type": "code",
      "source": [
        "df_meta = df_meta.drop('date', 'details', 'fit', 'imageURL', 'imageURLHighRes', 'tech1', 'tech2')"
      ],
      "metadata": {
        "id": "FR8XrtFby3VY"
      },
      "execution_count": 33,
      "outputs": []
    },
    {
      "cell_type": "code",
      "source": [
        "df_meta.show()"
      ],
      "metadata": {
        "id": "peOsuq4-y3S5",
        "colab": {
          "base_uri": "https://localhost:8080/"
        },
        "outputId": "6735217f-399d-4126-ab3e-98e75527b797"
      },
      "execution_count": 34,
      "outputs": [
        {
          "output_type": "stream",
          "name": "stdout",
          "text": [
            "+--------------------+--------------------+----------+-------------------+--------------------+--------------------+--------------------+-----------------+------+--------------------+--------------------+--------------------+\n",
            "|            also_buy|           also_view|      asin|              brand|            category|         description|             feature|         main_cat| price|                rank|        similar_item|               title|\n",
            "+--------------------+--------------------+----------+-------------------+--------------------+--------------------+--------------------+-----------------+------+--------------------+--------------------+--------------------+\n",
            "|                  []|                  []|6306203230|     The Booklegger|[Toys & Games, Ga...|[Clem Darracott w...|[Made by The Book...|Sports & Outdoors|$28.45|1,890,827 in Spor...|                    |Ben Hogan: In Pur...|\n",
            "|                  []|                  []|6798648312|              CHXWW|                  []|                  []|                  []|     Toys & Games|      |[\">#2,100,223 in ...|                    |CHXWW Women's Sim...|\n",
            "|                  []|                  []|687567453X|           New toys|                  []|                  []|                  []|     Toys & Games|      |[\">#925,302 in To...|                    |Jurassic World Di...|\n",
            "|                  []|                  []|7040202328|              HICDD|[Toys & Games, Pa...|[New: A brand-new...|[3 in 1 Unique an...|     Toys & Games|      |[\">#2,308,952 in ...|                    |Cute Keyboard Cof...|\n",
            "|                  []|                  []|7096106510|          Buyonline|[Toys & Games, Dr...|[<b>Seller Gurant...|                  []|     Toys & Games|      |[\">#1,360,432 in ...|                    |Milliongadgets(TM...|\n",
            "|                  []|        [B010TQY7A8]|6901540000|Gary & Susan Fowler|[Toys & Games, Ga...|[A fast moving ga...|[May Cause uncont...|     Toys & Games|      |[\">#2,800,090 in ...|                    |The Totally Insan...|\n",
            "|[080483878X, 0996...|[957213096X, B00H...|7115294968|       Kai Tai Inc.|[Toys & Games, Ga...|[30 Days Uncondit...|[30 Days Uncondit...|     Toys & Games|$79.99|[\">#332,692 in To...| class=\"a-bordere...|American Mahjong ...|\n",
            "|                  []|                  []|7219039670|        Sole Trader|[Toys & Games, St...|                  []|                  []|     Toys & Games|      |[\">#1,797,942 in ...|                    |Sole Trader @ Nin...|\n",
            "|                  []|                  []|7293000022|           RC-Fever|                  []|                  []|[Coaxial, counter...|     Toys & Games|      |[\">#2,083,695 in ...|                    |Silver Color E-Sk...|\n",
            "|                  []|[B01LY7PA6D, B003...|7293000014| Amazing Tech Depot|[Toys & Games, Ho...|[<b>6CH USB Fligh...|[High-performance...|     Toys & Games|      |[\">#442,464 in To...|                    |Volantex RC 6-CH ...|\n",
            "|                  []|[957213096X, B00K...|7305081566|            KT Inc.|[Toys & Games, Ga...|[30 Days Uncondit...|[30 Days Uncondit...|     Toys & Games|$65.99|[\">#154,220 in To...| class=\"a-bordere...|4 Pushers + Brand...|\n",
            "|                  []|                  []|7501958645|            Unknown|                  []|[For Pokemon fan!...|[What a wonderful...|     Toys & Games|      |[\">#3,163,905 in ...|                    |Light Purple &amp...|\n",
            "|                  []|                  []|7532735206|               Ciel|[Toys & Games, Ac...|[New Kuroshitsuji...|[1)Material: PVC,...|     Toys & Games|      |[\">#706,106 in To...|                    |1 X New Kuroshits...|\n",
            "|                  []|                  []|7545107861|          IDOBRIDAL|                  []|                  []|                  []|     Toys & Games|      |[\">#2,911,339 in ...|                    |Two-tier Ivory Be...|\n",
            "|                  []|                  []|7543527286|        Cosplayhome|[Toys & Games, Ac...|[Hnadling days: 5...|[Material: PVC & ...|     Toys & Games|      |[\">#1,025,227 in ...|                    |World of Warcraft...|\n",
            "|                  []|                  []|7798944079|             AVATAR|[Toys & Games, Ac...|[An Awesome & Ult...|[Highly Detail St...|     Toys & Games|      |[\">#2,477,862 in ...|                    |Sugita Unproducti...|\n",
            "|                  []|                  []|7801404467|         Tupperware|[Toys & Games, Dr...|[This product set...|[10-oz./300 mL Mi...|     Toys & Games|$37.95|[\">#1,693,181 in ...|                    |Tupperware Mini I...|\n",
            "|                  []|[B004RJ5A3M, B004...|7802151872|        fantasycart|[Toys & Games, St...|[This 14.5\" plush...|[Angry Birds, Pig...|     Toys & Games|      |[\">#993,418 in To...|                    |fantasycart Angry...|\n",
            "|                  []|                  []|7805115044|        Kai Tai Inc|[Toys & Games, Ga...|                  []|                  []|     Toys & Games|      |[\">#694,208 in To...|                    |4 Pushers and Bra...|\n",
            "|                  []|[B00BBFRL3W, B005...|7842952868|     Gifts by Lulee|[Toys & Games, Ho...|[Rue Ruda Cologne...|                  []|     Toys & Games|$10.90|[\">#313,147 in To...|                    |Aguas Esotericas ...|\n",
            "+--------------------+--------------------+----------+-------------------+--------------------+--------------------+--------------------+-----------------+------+--------------------+--------------------+--------------------+\n",
            "only showing top 20 rows\n",
            "\n"
          ]
        }
      ]
    },
    {
      "cell_type": "code",
      "source": [
        "from pyspark.sql.functions import when, size"
      ],
      "metadata": {
        "id": "iHbHd2Bdy3Qk"
      },
      "execution_count": 35,
      "outputs": []
    },
    {
      "cell_type": "code",
      "source": [
        "from pyspark.sql.functions import udf"
      ],
      "metadata": {
        "id": "P4Pu86PwXLk1"
      },
      "execution_count": 40,
      "outputs": []
    },
    {
      "cell_type": "code",
      "source": [
        "# Funcion para contar la cantidad de [] en las columnas\n",
        "@udf(IntegerType())\n",
        "def contar_listas_vacias(lista):\n",
        "    return int(len(lista) == 0)\n",
        "\n"
      ],
      "metadata": {
        "id": "jwTN3npQy3OM"
      },
      "execution_count": 41,
      "outputs": []
    },
    {
      "cell_type": "code",
      "source": [
        "# Agrega una nueva columna 'listas_vacias' al DataFrame\n",
        "df_meta = df_meta.withColumn(\"listas_vacias\", contar_listas_vacias(df_meta[\"also_buy\"]))\n",
        "\n",
        "# Suma la nueva columna para obtener la cantidad de listas vacías\n",
        "cantidad_listas_vacias = df_meta.selectExpr(\"sum(listas_vacias)\").collect()[0][0]"
      ],
      "metadata": {
        "id": "w3QSbJ7Ay3L3"
      },
      "execution_count": 42,
      "outputs": []
    },
    {
      "cell_type": "markdown",
      "source": [
        "# Also_buy tiene la gran mayoria de elementos vacios."
      ],
      "metadata": {
        "id": "jTsB3CD_XoEH"
      }
    },
    {
      "cell_type": "code",
      "source": [
        "# Also_buy\n",
        "cantidad_listas_vacias"
      ],
      "metadata": {
        "id": "HEoMFC8ay3Je",
        "colab": {
          "base_uri": "https://localhost:8080/"
        },
        "outputId": "bd7f6d16-78f9-40f0-9d50-7621cb5d5181"
      },
      "execution_count": 43,
      "outputs": [
        {
          "output_type": "execute_result",
          "data": {
            "text/plain": [
              "485840"
            ]
          },
          "metadata": {},
          "execution_count": 43
        }
      ]
    },
    {
      "cell_type": "markdown",
      "source": [
        "# Also_view tiene menos que also_buy pero son la gran mayoria"
      ],
      "metadata": {
        "id": "OaOclcxhX0XE"
      }
    },
    {
      "cell_type": "code",
      "source": [
        "# Agrega una nueva columna 'listas_vacias' al DataFrame\n",
        "df_meta = df_meta.withColumn(\"listas_vacias\", contar_listas_vacias(df_meta[\"also_view\"]))\n",
        "\n",
        "# Suma la nueva columna para obtener la cantidad de listas vacías\n",
        "cantidad_listas_vacias = df_meta.selectExpr(\"sum(listas_vacias)\").collect()[0][0]"
      ],
      "metadata": {
        "id": "oapClFvqy3G3"
      },
      "execution_count": 44,
      "outputs": []
    },
    {
      "cell_type": "code",
      "source": [
        "# Also_view\n",
        "cantidad_listas_vacias"
      ],
      "metadata": {
        "id": "NB3P8DH9bcvz",
        "colab": {
          "base_uri": "https://localhost:8080/"
        },
        "outputId": "913fa47b-dea7-484d-bc40-335d55bb98fd"
      },
      "execution_count": 45,
      "outputs": [
        {
          "output_type": "execute_result",
          "data": {
            "text/plain": [
              "443460"
            ]
          },
          "metadata": {},
          "execution_count": 45
        }
      ]
    },
    {
      "cell_type": "markdown",
      "source": [
        "# Category tiene pocos en comparacion a also_view"
      ],
      "metadata": {
        "id": "PW_ty9LKYhmG"
      }
    },
    {
      "cell_type": "code",
      "source": [
        "# Agrega una nueva columna 'listas_vacias' al DataFrame\n",
        "df_meta = df_meta.withColumn(\"listas_vacias\", contar_listas_vacias(df_meta[\"category\"]))\n",
        "\n",
        "# Suma la nueva columna para obtener la cantidad de listas vacías\n",
        "cantidad_listas_vacias = df_meta.selectExpr(\"sum(listas_vacias)\").collect()[0][0]"
      ],
      "metadata": {
        "id": "JjtN3fx5sGab"
      },
      "execution_count": 47,
      "outputs": []
    },
    {
      "cell_type": "code",
      "source": [
        "# Category\n",
        "cantidad_listas_vacias"
      ],
      "metadata": {
        "colab": {
          "base_uri": "https://localhost:8080/"
        },
        "id": "cqOaDk6WY3ry",
        "outputId": "ada50253-6200-4f62-d894-4864f71ee0f0"
      },
      "execution_count": 49,
      "outputs": [
        {
          "output_type": "execute_result",
          "data": {
            "text/plain": [
              "62056"
            ]
          },
          "metadata": {},
          "execution_count": 49
        }
      ]
    },
    {
      "cell_type": "code",
      "source": [
        "# Agrega una nueva columna 'listas_vacias' al DataFrame\n",
        "df_meta = df_meta.withColumn(\"listas_vacias\", contar_listas_vacias(df_meta[\"description\"]))\n",
        "\n",
        "# Suma la nueva columna para obtener la cantidad de listas vacías\n",
        "cantidad_listas_vacias = df_meta.selectExpr(\"sum(listas_vacias)\").collect()[0][0]"
      ],
      "metadata": {
        "id": "D3LmcwNwZND8"
      },
      "execution_count": 51,
      "outputs": []
    },
    {
      "cell_type": "code",
      "source": [
        "cantidad_listas_vacias"
      ],
      "metadata": {
        "colab": {
          "base_uri": "https://localhost:8080/"
        },
        "id": "SSdvW_YLZM8n",
        "outputId": "efafa901-5fb6-44b6-eb10-1598d1cb634d"
      },
      "execution_count": 52,
      "outputs": [
        {
          "output_type": "execute_result",
          "data": {
            "text/plain": [
              "81925"
            ]
          },
          "metadata": {},
          "execution_count": 52
        }
      ]
    },
    {
      "cell_type": "code",
      "source": [
        "# Agrega una nueva columna 'listas_vacias' al DataFrame\n",
        "df_meta = df_meta.withColumn(\"listas_vacias\", contar_listas_vacias(df_meta[\"feature\"]))\n",
        "\n",
        "# Suma la nueva columna para obtener la cantidad de listas vacías\n",
        "cantidad_listas_vacias = df_meta.selectExpr(\"sum(listas_vacias)\").collect()[0][0]"
      ],
      "metadata": {
        "id": "cJBHDN8aZMvZ"
      },
      "execution_count": 53,
      "outputs": []
    },
    {
      "cell_type": "code",
      "source": [
        "cantidad_listas_vacias"
      ],
      "metadata": {
        "colab": {
          "base_uri": "https://localhost:8080/"
        },
        "id": "ZA36tWQmZ3gL",
        "outputId": "27e74578-bbf8-458f-81a2-7a559b3b895d"
      },
      "execution_count": 54,
      "outputs": [
        {
          "output_type": "execute_result",
          "data": {
            "text/plain": [
              "123336"
            ]
          },
          "metadata": {},
          "execution_count": 54
        }
      ]
    },
    {
      "cell_type": "code",
      "source": [
        "# Agrega una nueva columna 'listas_vacias' al DataFrame\n",
        "df_meta = df_meta.withColumn(\"listas_vacias\", contar_listas_vacias(df_meta[\"rank\"]))\n",
        "\n",
        "# Suma la nueva columna para obtener la cantidad de listas vacías\n",
        "cantidad_listas_vacias = df_meta.selectExpr(\"sum(listas_vacias)\").collect()[0][0]"
      ],
      "metadata": {
        "id": "N3PS9KrdaX15"
      },
      "execution_count": 56,
      "outputs": []
    },
    {
      "cell_type": "code",
      "source": [
        "cantidad_listas_vacias"
      ],
      "metadata": {
        "colab": {
          "base_uri": "https://localhost:8080/"
        },
        "id": "3KUl1N5SahAj",
        "outputId": "fa3d84f9-6460-40af-c1c2-1a1650a1f2ff"
      },
      "execution_count": 57,
      "outputs": [
        {
          "output_type": "execute_result",
          "data": {
            "text/plain": [
              "0"
            ]
          },
          "metadata": {},
          "execution_count": 57
        }
      ]
    },
    {
      "cell_type": "markdown",
      "source": [
        "# Borro las columnas also_buy y also_view por la gran cantidad de datos faltantes y listas_vacias porque no la necesito"
      ],
      "metadata": {
        "id": "R3ByvMCq1pAM"
      }
    },
    {
      "cell_type": "code",
      "source": [
        "df_meta = df_meta.drop('also_buy', 'also_view', 'listas_vacias')"
      ],
      "metadata": {
        "id": "OTiU1USrbBK_"
      },
      "execution_count": 60,
      "outputs": []
    },
    {
      "cell_type": "code",
      "source": [
        "df_meta.show()"
      ],
      "metadata": {
        "colab": {
          "base_uri": "https://localhost:8080/"
        },
        "id": "GNoH_yJJZHg0",
        "outputId": "feb649b7-967d-4ed1-9907-a4c5c5479cd6"
      },
      "execution_count": 68,
      "outputs": [
        {
          "output_type": "stream",
          "name": "stdout",
          "text": [
            "+----------+-------------------+--------------------+--------------------+--------------------+-----------------+------+--------------------+--------------------+--------------------+\n",
            "|      asin|              brand|            category|         description|             feature|         main_cat| price|                rank|        similar_item|               title|\n",
            "+----------+-------------------+--------------------+--------------------+--------------------+-----------------+------+--------------------+--------------------+--------------------+\n",
            "|6306203230|     The Booklegger|[Toys & Games, Ga...|[Clem Darracott w...|[Made by The Book...|Sports & Outdoors|$28.45|1,890,827 in Spor...|                    |Ben Hogan: In Pur...|\n",
            "|6798648312|              CHXWW|                  []|                  []|                  []|     Toys & Games|      |[\">#2,100,223 in ...|                    |CHXWW Women's Sim...|\n",
            "|687567453X|           New toys|                  []|                  []|                  []|     Toys & Games|      |[\">#925,302 in To...|                    |Jurassic World Di...|\n",
            "|7040202328|              HICDD|[Toys & Games, Pa...|[New: A brand-new...|[3 in 1 Unique an...|     Toys & Games|      |[\">#2,308,952 in ...|                    |Cute Keyboard Cof...|\n",
            "|7096106510|          Buyonline|[Toys & Games, Dr...|[<b>Seller Gurant...|                  []|     Toys & Games|      |[\">#1,360,432 in ...|                    |Milliongadgets(TM...|\n",
            "|6901540000|Gary & Susan Fowler|[Toys & Games, Ga...|[A fast moving ga...|[May Cause uncont...|     Toys & Games|      |[\">#2,800,090 in ...|                    |The Totally Insan...|\n",
            "|7115294968|       Kai Tai Inc.|[Toys & Games, Ga...|[30 Days Uncondit...|[30 Days Uncondit...|     Toys & Games|$79.99|[\">#332,692 in To...| class=\"a-bordere...|American Mahjong ...|\n",
            "|7219039670|        Sole Trader|[Toys & Games, St...|                  []|                  []|     Toys & Games|      |[\">#1,797,942 in ...|                    |Sole Trader @ Nin...|\n",
            "|7293000022|           RC-Fever|                  []|                  []|[Coaxial, counter...|     Toys & Games|      |[\">#2,083,695 in ...|                    |Silver Color E-Sk...|\n",
            "|7293000014| Amazing Tech Depot|[Toys & Games, Ho...|[<b>6CH USB Fligh...|[High-performance...|     Toys & Games|      |[\">#442,464 in To...|                    |Volantex RC 6-CH ...|\n",
            "|7305081566|            KT Inc.|[Toys & Games, Ga...|[30 Days Uncondit...|[30 Days Uncondit...|     Toys & Games|$65.99|[\">#154,220 in To...| class=\"a-bordere...|4 Pushers + Brand...|\n",
            "|7501958645|            Unknown|                  []|[For Pokemon fan!...|[What a wonderful...|     Toys & Games|      |[\">#3,163,905 in ...|                    |Light Purple &amp...|\n",
            "|7532735206|               Ciel|[Toys & Games, Ac...|[New Kuroshitsuji...|[1)Material: PVC,...|     Toys & Games|      |[\">#706,106 in To...|                    |1 X New Kuroshits...|\n",
            "|7545107861|          IDOBRIDAL|                  []|                  []|                  []|     Toys & Games|      |[\">#2,911,339 in ...|                    |Two-tier Ivory Be...|\n",
            "|7543527286|        Cosplayhome|[Toys & Games, Ac...|[Hnadling days: 5...|[Material: PVC & ...|     Toys & Games|      |[\">#1,025,227 in ...|                    |World of Warcraft...|\n",
            "|7798944079|             AVATAR|[Toys & Games, Ac...|[An Awesome & Ult...|[Highly Detail St...|     Toys & Games|      |[\">#2,477,862 in ...|                    |Sugita Unproducti...|\n",
            "|7801404467|         Tupperware|[Toys & Games, Dr...|[This product set...|[10-oz./300 mL Mi...|     Toys & Games|$37.95|[\">#1,693,181 in ...|                    |Tupperware Mini I...|\n",
            "|7802151872|        fantasycart|[Toys & Games, St...|[This 14.5\" plush...|[Angry Birds, Pig...|     Toys & Games|      |[\">#993,418 in To...|                    |fantasycart Angry...|\n",
            "|7805115044|        Kai Tai Inc|[Toys & Games, Ga...|                  []|                  []|     Toys & Games|      |[\">#694,208 in To...|                    |4 Pushers and Bra...|\n",
            "|7842952868|     Gifts by Lulee|[Toys & Games, Ho...|[Rue Ruda Cologne...|                  []|     Toys & Games|$10.90|[\">#313,147 in To...|                    |Aguas Esotericas ...|\n",
            "+----------+-------------------+--------------------+--------------------+--------------------+-----------------+------+--------------------+--------------------+--------------------+\n",
            "only showing top 20 rows\n",
            "\n"
          ]
        }
      ]
    },
    {
      "cell_type": "code",
      "source": [
        "df_meta.show()"
      ],
      "metadata": {
        "colab": {
          "base_uri": "https://localhost:8080/"
        },
        "id": "7Ic5LZOa1nVO",
        "outputId": "9ae1066c-190c-48e9-c800-6e37f0107248"
      },
      "execution_count": 69,
      "outputs": [
        {
          "output_type": "stream",
          "name": "stdout",
          "text": [
            "+----------+-------------------+--------------------+--------------------+--------------------+-----------------+------+--------------------+--------------------+--------------------+\n",
            "|      asin|              brand|            category|         description|             feature|         main_cat| price|                rank|        similar_item|               title|\n",
            "+----------+-------------------+--------------------+--------------------+--------------------+-----------------+------+--------------------+--------------------+--------------------+\n",
            "|6306203230|     The Booklegger|[Toys & Games, Ga...|[Clem Darracott w...|[Made by The Book...|Sports & Outdoors|$28.45|1,890,827 in Spor...|                    |Ben Hogan: In Pur...|\n",
            "|6798648312|              CHXWW|                  []|                  []|                  []|     Toys & Games|      |[\">#2,100,223 in ...|                    |CHXWW Women's Sim...|\n",
            "|687567453X|           New toys|                  []|                  []|                  []|     Toys & Games|      |[\">#925,302 in To...|                    |Jurassic World Di...|\n",
            "|7040202328|              HICDD|[Toys & Games, Pa...|[New: A brand-new...|[3 in 1 Unique an...|     Toys & Games|      |[\">#2,308,952 in ...|                    |Cute Keyboard Cof...|\n",
            "|7096106510|          Buyonline|[Toys & Games, Dr...|[<b>Seller Gurant...|                  []|     Toys & Games|      |[\">#1,360,432 in ...|                    |Milliongadgets(TM...|\n",
            "|6901540000|Gary & Susan Fowler|[Toys & Games, Ga...|[A fast moving ga...|[May Cause uncont...|     Toys & Games|      |[\">#2,800,090 in ...|                    |The Totally Insan...|\n",
            "|7115294968|       Kai Tai Inc.|[Toys & Games, Ga...|[30 Days Uncondit...|[30 Days Uncondit...|     Toys & Games|$79.99|[\">#332,692 in To...| class=\"a-bordere...|American Mahjong ...|\n",
            "|7219039670|        Sole Trader|[Toys & Games, St...|                  []|                  []|     Toys & Games|      |[\">#1,797,942 in ...|                    |Sole Trader @ Nin...|\n",
            "|7293000022|           RC-Fever|                  []|                  []|[Coaxial, counter...|     Toys & Games|      |[\">#2,083,695 in ...|                    |Silver Color E-Sk...|\n",
            "|7293000014| Amazing Tech Depot|[Toys & Games, Ho...|[<b>6CH USB Fligh...|[High-performance...|     Toys & Games|      |[\">#442,464 in To...|                    |Volantex RC 6-CH ...|\n",
            "|7305081566|            KT Inc.|[Toys & Games, Ga...|[30 Days Uncondit...|[30 Days Uncondit...|     Toys & Games|$65.99|[\">#154,220 in To...| class=\"a-bordere...|4 Pushers + Brand...|\n",
            "|7501958645|            Unknown|                  []|[For Pokemon fan!...|[What a wonderful...|     Toys & Games|      |[\">#3,163,905 in ...|                    |Light Purple &amp...|\n",
            "|7532735206|               Ciel|[Toys & Games, Ac...|[New Kuroshitsuji...|[1)Material: PVC,...|     Toys & Games|      |[\">#706,106 in To...|                    |1 X New Kuroshits...|\n",
            "|7545107861|          IDOBRIDAL|                  []|                  []|                  []|     Toys & Games|      |[\">#2,911,339 in ...|                    |Two-tier Ivory Be...|\n",
            "|7543527286|        Cosplayhome|[Toys & Games, Ac...|[Hnadling days: 5...|[Material: PVC & ...|     Toys & Games|      |[\">#1,025,227 in ...|                    |World of Warcraft...|\n",
            "|7798944079|             AVATAR|[Toys & Games, Ac...|[An Awesome & Ult...|[Highly Detail St...|     Toys & Games|      |[\">#2,477,862 in ...|                    |Sugita Unproducti...|\n",
            "|7801404467|         Tupperware|[Toys & Games, Dr...|[This product set...|[10-oz./300 mL Mi...|     Toys & Games|$37.95|[\">#1,693,181 in ...|                    |Tupperware Mini I...|\n",
            "|7802151872|        fantasycart|[Toys & Games, St...|[This 14.5\" plush...|[Angry Birds, Pig...|     Toys & Games|      |[\">#993,418 in To...|                    |fantasycart Angry...|\n",
            "|7805115044|        Kai Tai Inc|[Toys & Games, Ga...|                  []|                  []|     Toys & Games|      |[\">#694,208 in To...|                    |4 Pushers and Bra...|\n",
            "|7842952868|     Gifts by Lulee|[Toys & Games, Ho...|[Rue Ruda Cologne...|                  []|     Toys & Games|$10.90|[\">#313,147 in To...|                    |Aguas Esotericas ...|\n",
            "+----------+-------------------+--------------------+--------------------+--------------------+-----------------+------+--------------------+--------------------+--------------------+\n",
            "only showing top 20 rows\n",
            "\n"
          ]
        }
      ]
    },
    {
      "cell_type": "code",
      "source": [
        "# Lista de nombres de columnas en las que deseas contar los strings vacíos\n",
        "columnas_a_verificar = [\"brand\", \"main_cat\", \"price\", \"similar_item\", \"title\"]\n",
        "\n",
        "# Crea un diccionario para almacenar la cantidad de strings vacíos por columna\n",
        "strings_vacios_por_columna = {}\n",
        "\n",
        "# Itera a través de las columnas especificadas\n",
        "for columna in columnas_a_verificar:\n",
        "    # Utiliza la función 'filter' para contar los strings vacíos en cada columna\n",
        "    cantidad_strings_vacios = df_meta.filter(col(columna) == \"\").count()\n",
        "    # Almacena la cantidad en el diccionario\n",
        "    strings_vacios_por_columna[columna] = cantidad_strings_vacios\n",
        "\n"
      ],
      "metadata": {
        "id": "4vjWmci34BR1"
      },
      "execution_count": 71,
      "outputs": []
    },
    {
      "cell_type": "code",
      "source": [
        "# Muestra la cantidad de strings vacíos por columna\n",
        "for columna, cantidad in strings_vacios_por_columna.items():\n",
        "    print(f\"Cantidad de strings vacíos en '{columna}': {cantidad}\")"
      ],
      "metadata": {
        "colab": {
          "base_uri": "https://localhost:8080/"
        },
        "id": "dJRCrnrl2k6j",
        "outputId": "249a5c08-bc82-4eab-bed0-a702480001d1"
      },
      "execution_count": 72,
      "outputs": [
        {
          "output_type": "stream",
          "name": "stdout",
          "text": [
            "Cantidad de strings vacíos en 'brand': 6839\n",
            "Cantidad de strings vacíos en 'main_cat': 4694\n",
            "Cantidad de strings vacíos en 'price': 312408\n",
            "Cantidad de strings vacíos en 'similar_item': 430211\n",
            "Cantidad de strings vacíos en 'title': 21\n"
          ]
        }
      ]
    },
    {
      "cell_type": "markdown",
      "source": [
        "# Trabajo con una copia de df_meta para no afectar al df original"
      ],
      "metadata": {
        "id": "Bfj5b5vL9O3Z"
      }
    },
    {
      "cell_type": "code",
      "source": [
        "# Crea una copia del DataFrame df_meta\n",
        "df_copia = df_meta.alias(\"df_copia\")"
      ],
      "metadata": {
        "id": "HnzbbRnI7TRg"
      },
      "execution_count": 73,
      "outputs": []
    },
    {
      "cell_type": "code",
      "source": [
        "# Limpia los strings vacíos en varias columnas\n",
        "columnas_a_limpiar = [\"brand\", \"main_cat\", \"price\", \"similar_item\", \"title\"]  # Agrega aquí las columnas que deseas limpiar\n",
        "\n",
        "for columna in columnas_a_limpiar:\n",
        "    df_copia = df_copia.filter(col(columna).isNotNull() & (col(columna) != \"\"))"
      ],
      "metadata": {
        "id": "2rjhsmZV7VPu"
      },
      "execution_count": 75,
      "outputs": []
    },
    {
      "cell_type": "code",
      "source": [
        "df_copia.count()"
      ],
      "metadata": {
        "colab": {
          "base_uri": "https://localhost:8080/"
        },
        "id": "Qd-tRWi_71bl",
        "outputId": "d8967342-e1b8-4e88-cba2-68f80f9cbc7d"
      },
      "execution_count": 77,
      "outputs": [
        {
          "output_type": "execute_result",
          "data": {
            "text/plain": [
              "155539"
            ]
          },
          "metadata": {},
          "execution_count": 77
        }
      ]
    },
    {
      "cell_type": "code",
      "source": [
        "df_copia.show()"
      ],
      "metadata": {
        "colab": {
          "base_uri": "https://localhost:8080/"
        },
        "id": "071nkEu-8Hpc",
        "outputId": "dc1cb7e1-3e36-4281-8523-c303ac4fc29d"
      },
      "execution_count": 87,
      "outputs": [
        {
          "output_type": "stream",
          "name": "stdout",
          "text": [
            "+----------+--------------------+--------------------+--------------------+--------------------+------------+--------------------+--------------------+--------------------+--------------------+\n",
            "|      asin|               brand|            category|         description|             feature|    main_cat|               price|                rank|        similar_item|               title|\n",
            "+----------+--------------------+--------------------+--------------------+--------------------+------------+--------------------+--------------------+--------------------+--------------------+\n",
            "|7115294968|        Kai Tai Inc.|[Toys & Games, Ga...|[30 Days Uncondit...|[30 Days Uncondit...|Toys & Games|              $79.99|[\">#332,692 in To...| class=\"a-bordere...|American Mahjong ...|\n",
            "|7305081566|             KT Inc.|[Toys & Games, Ga...|[30 Days Uncondit...|[30 Days Uncondit...|Toys & Games|              $65.99|[\">#154,220 in To...| class=\"a-bordere...|4 Pushers + Brand...|\n",
            "|7842955824|   Gifts by Lulee/AA|[Toys & Games, Ho...|[Beautiful bronze...|[A simple reminde...|Toys & Games|               $5.64|[\">#222,510 in To...| class=\"a-bordere...|Women in Recovery...|\n",
            "|8178984911|       Goodword Kidz|[Toys & Games, Ga...|[A fun way to lea...|                  []|Toys & Games|              $21.00|[\">#232,120 in To...| class=\"a-bordere...|Hadith Challenge ...|\n",
            "|8178982692|          Good Words|[Toys & Games, Ga...|[The Quran Challe...|[Language for thi...|Toys & Games|              $18.05|[\">#182,583 in To...| class=\"a-bordere...|Quran Challenge G...|\n",
            "|8193594355|           WizarKids|[Toys & Games, Le...|[<b>Wizarkids</b>...|[Unlimited Fun - ...|Toys & Games|               $9.99|[\">#1,121,950 in ...| class=\"a-bordere...|WizarKids Flashca...|\n",
            "|8325208287|FOKKER DR.I 1917 ...|[Toys & Games, Ho...|[Model packed in ...|                  []|Toys & Games|.a-box-inner{back...|[\">#396,471 in To...| class=\"a-bordere...|FOKKER DR.I 1917 ...|\n",
            "|8325209755|Sherman IC Firefl...|[Toys & Games, Ho...|[Model packed in ...|                  []|Toys & Games|.a-box-inner{back...|[\">#791,242 in To...| class=\"a-bordere...|Sherman IC Firefl...|\n",
            "|8325208856|P-51B Mustang fig...|[Toys & Games, Ho...|[This 1:72 diecas...|                  []|Toys & Games|.a-box-inner{back...|[\">#629,512 in To...| class=\"a-bordere...|P-51B Mustang die...|\n",
            "|8325200251| Mack C Pumper model|[Toys & Games, To...|[Model packed in ...|                  []|Toys & Games|.a-box-inner{back...|[\">#857,357 in To...| class=\"a-bordere...|Mack C Pumper Fir...|\n",
            "|8325208325|Hawker Hurricane ...|[Toys & Games, Ho...|[This model repre...|[Hawker Hurricane...|Toys & Games|              $25.00|[\">#291,994 in To...| class=\"a-bordere...|Hawker Hurricane ...|\n",
            "|8325208864|Douglas A-4M Skyh...|[Toys & Games, Ho...|[Model packed in ...|                  []|Toys & Games|.a-box-inner{back...|[\">#286,886 in To...| class=\"a-bordere...|Douglas A-4M Skyh...|\n",
            "|8325209720|Achilles IIC - 19...|[Toys & Games, Ho...|[Model packed in ...|[Achilles IIC - 1...|Toys & Games|              $25.00|[\">#324,924 in To...| class=\"a-bordere...|Achilles IIC - 19...|\n",
            "|8325208732|Sopwith 1.B1 diec...|[Toys & Games, Ho...|[Model packed in ...|[Sopwith 1.B1 die...| Amazon Home|              $19.95|[\">#2,616,357 in ...| class=\"a-bordere...|Sopwith 1.B1 diec...|\n",
            "|8325213027|North American F-...|[Toys & Games, Ho...|[Model packed in ...|                  []|Toys & Games|.a-box-inner{back...|[\">#291,174 in To...| class=\"a-bordere...|North American F-...|\n",
            "|8325208295|F-16C 2006 fighte...|[Toys & Games, Ho...|[This diecast mod...|[F-16C diecast 1:...|Toys & Games|              $29.00|[\">#139,781 in To...| class=\"a-bordere...|F-16 C 2006 Fight...|\n",
            "|8325213159|Republic P-47D Th...|[Toys & Games, Ho...|[Model packed in ...|[Republic P-47D T...|Toys & Games|              $25.00|[\">#225,910 in To...| class=\"a-bordere...|Republic P-47D Th...|\n",
            "|8325209410|                Ford|[Toys & Games, To...|[Model packed in ...|[Ford T - 1909 di...|Toys & Games|              $25.00|[\">#391,612 in To...| class=\"a-bordere...|Ford T - 1909 die...|\n",
            "|8325213108|Jakowlew Jak-3 ai...|[Toys & Games, Ho...|[Model packed in ...|                  []|Toys & Games|.a-box-inner{back...|[\">#1,200,624 in ...| class=\"a-bordere...|Jakowlew Jak-3 di...|\n",
            "|8325213094|Eurofighter Typho...|[Toys & Games, Ho...|[Model packed in ...|[Eurofighter Typh...|Toys & Games|              $29.90|[\">#936,610 in To...| class=\"a-bordere...|Eurofighter Typho...|\n",
            "+----------+--------------------+--------------------+--------------------+--------------------+------------+--------------------+--------------------+--------------------+--------------------+\n",
            "only showing top 20 rows\n",
            "\n"
          ]
        }
      ]
    },
    {
      "cell_type": "code",
      "source": [
        "primera_fila = df_copia.limit(1).collect()[0]\n",
        "\n",
        "# Accede a la celda específica que deseas ver (por ejemplo, la columna 'similar_item')\n",
        "valor_celda = primera_fila[\"similar_item\"]"
      ],
      "metadata": {
        "id": "_i9NvBif8edI"
      },
      "execution_count": 82,
      "outputs": []
    },
    {
      "cell_type": "code",
      "source": [
        "valor_celda"
      ],
      "metadata": {
        "colab": {
          "base_uri": "https://localhost:8080/",
          "height": 105
        },
        "id": "2hrVgg728gcb",
        "outputId": "28392c2f-4601-4e13-99bb-2fe66e0f4349"
      },
      "execution_count": 84,
      "outputs": [
        {
          "output_type": "execute_result",
          "data": {
            "text/plain": [
              "' class=\"a-bordered a-horizontal-stripes  a-spacing-extra-large a-size-base comparison_table\">\\n\\n\\n\\n            \\n            \\n            \\n            \\n            \\n            <tr class=\"comparison_table_image_row\">\\n                <td class=\"comparison_table_first_col\"></td>\\n\\n\\n                <th class=\"comparison_image_title_cell\" role=\"columnheader\">\\n                    <div class=\"a-row a-spacing-top-micro\">\\n                        <center>\\n                             <img alt=\"American Mahjong Set with 4 PUSHERS / RACKS COMBO in ALUMINUM CASE (WESTERN Mah jongg 166 Tiles)\" src=\"https://images-na.ssl-images-amazon.com/images/I/41Dv6SqayYL._SL500_AC_SS350_.jpg\" id=\"comparison_image\">\\n                        </center>\\n                    </div>\\n                    <div class=\"a-row a-spacing-top-small\">\\n                        <div id=\"comparison_title\" class=\"a-section a-spacing-none\">\\n                            <span aria-hidden=\"true\" class=\"a-size-base a-color-base a-text-bold\">\\n                                This item\\n                            </span>\\n                            <span aria-hidden=\"true\" class=\"a-size-base a-color-base\">American Mahjong Set with 4 PUSHERS / RACKS COMBO in ALUMINUM CASE (WESTERN Mah jongg 166 Tiles)</span>\\n                        </div>\\n                        \\n                        \\n                    </div>\\n                </th>\\n\\n\\n                \\n                    <th class=\"comparison_image_title_cell comparable_item0\" role=\"columnheader\">\\n                        <a class=\"a-link-normal\" target=\"_self\" rel=\"noopener\" href=\"/dp/B00H2RLOL8/ref=psdc_166248011_t1_7115294968\">\\n                          <div class=\"a-row a-spacing-top-micro\">\\n                            <center>\\n                                <img alt=\"\" src=\"https://images-na.ssl-images-amazon.com/images/I/51rhlWuIvOL._SL500_AC_SS350_.jpg\" aria-hidden=\"true\" id=\"comparison_image0\">\\n                            </center>\\n                          </div>\\n                          <div id=\"comparison_title0\" class=\"a-row a-spacing-top-small\">\\n                            <span class=\"a-size-base\">American Mah Jong Set - 166 Ivory Colored Engraved Tiles, 4 x Combo Rack/Pushers - Black Aluminum Case</span>\\n                          </div>\\n                        </a>\\n                        \\n                        \\n                    </th>\\n                \\n                    <th class=\"comparison_image_title_cell comparable_item1\" role=\"columnheader\">\\n                        <a class=\"a-link-normal\" target=\"_self\" rel=\"noopener\" href=\"/dp/B00KBZYDG6/ref=psdc_166248011_t2_7115294968\">\\n                          <div class=\"a-row a-spacing-top-micro\">\\n                            <center>\\n                                <img alt=\"\" src=\"https://images-na.ssl-images-amazon.com/images/I/51-lO1Z4XGL._SL500_AC_SS350_.jpg\" aria-hidden=\"true\" id=\"comparison_image1\">\\n                            </center>\\n                          </div>\\n                          <div id=\"comparison_title1\" class=\"a-row a-spacing-top-small\">\\n                            <span class=\"a-size-base\">Brand New American Mahjong Set in Burgundy Bag, 4 Pushers Racks Western Mahjongg</span>\\n                          </div>\\n                        </a>\\n                        \\n                        \\n                    </th>\\n                \\n                    <th class=\"comparison_image_title_cell comparable_item2\" role=\"columnheader\">\\n                        <a class=\"a-link-normal\" target=\"_self\" rel=\"noopener\" href=\"/dp/B0799BRKCB/ref=psdc_166248011_t3_7115294968\">\\n                          <div class=\"a-row a-spacing-top-micro\">\\n                            <center>\\n                                <img alt=\"\" src=\"https://images-na.ssl-images-amazon.com/images/I/511yVq4ToBL._SL500_AC_SS350_.jpg\" aria-hidden=\"true\" id=\"comparison_image2\">\\n                            </center>\\n                          </div>\\n                          <div id=\"comparison_title2\" class=\"a-row a-spacing-top-small\">\\n                            <span class=\"a-size-base\">Yaheetech American Mahjong Set Mah Jongg Sets Aluminum Case 166 Tiles 4 Pushers/Racks Silver</span>\\n                          </div>\\n                        </a>\\n                        \\n                        \\n                    </th>\\n                \\n                    <th class=\"comparison_image_title_cell comparable_item3\" role=\"columnheader\">\\n                        <a class=\"a-link-normal\" target=\"_self\" rel=\"noopener\" href=\"/dp/B01MED084R/ref=psdc_166248011_t4_7115294968\">\\n                          <div class=\"a-row a-spacing-top-micro\">\\n                            <center>\\n                                <img alt=\"\" src=\"https://images-na.ssl-images-amazon.com/images/I/61m%2BSeagePL._SL500_AC_SS350_.jpg\" aria-hidden=\"true\" id=\"comparison_image3\">\\n                            </center>\\n                          </div>\\n                          <div id=\"comparison_title3\" class=\"a-row a-spacing-top-small\">\\n                            <span class=\"a-size-base\">166 Tiles American Mahjong Set Violet Red Phoenix Soft Bag 4 Color Pushers/Racks Easy Carry Western Mahjongg</span>\\n                          </div>\\n                        </a>\\n                        \\n                        \\n                    </th>\\n                \\n                    <th class=\"comparison_image_title_cell comparable_item4\" role=\"columnheader\">\\n                        <a class=\"a-link-normal\" target=\"_self\" rel=\"noopener\" href=\"/dp/B000Y92XTI/ref=psdc_166248011_t5_7115294968\">\\n                          <div class=\"a-row a-spacing-top-micro\">\\n                            <center>\\n                                <img alt=\"\" src=\"https://images-na.ssl-images-amazon.com/images/I/51-GFcUflsL._SL500_AC_SS350_.jpg\" aria-hidden=\"true\" id=\"comparison_image4\">\\n                            </center>\\n                          </div>\\n                          <div id=\"comparison_title4\" class=\"a-row a-spacing-top-small\">\\n                            <span class=\"a-size-base\">Yellow Mountain Imports American Mahjong Set, The Classic - Vintage Rosewood Veneer Case - 4 Wooden Racks Included - 1930s Inspired Tiles Made of Scratch-Resistant Melamine</span>\\n                          </div>\\n                        </a>\\n                        \\n                        \\n                    </th>\\n                \\n            </tr>\\n\\n\\n            <tr></tr>\\n\\n\\n            \\n            \\n            <tr>\\n                <td class=\"comparison_table_first_col\"></td>\\n\\n\\n                <td class=\"comparison_add_to_cart_button\">\\n                    \\n                        \\n                        \\n                        \\n                            <span id=\"comparison_add_to_cart_button\" class=\"a-button a-spacing-small a-button-primary\"><span class=\"a-button-inner\"><a id=\"comparison_add_to_cart_button-announce\" href=\"/gp/item-dispatch/ref=psdc_166248011_a0_7115294968?ie=UTF8&amp;itemCount=1&amp;nodeID=165793011&amp;offeringID.1=UkZl5m9Xq6J%252BhtlFXEny%252BbuYtC1LkdFjTBnU815Dr9vmBoKclK9n5cj0mGrJEp17Q23anTPgis30DmHbr4nZlFTTTx5aZWAZMC7ShA4bkNoD4wdAzJ%252Fs5KMXZmUcMPbW9WdOxQmnnR1o3PIEQAqLCQ%253D%253D&amp;storeID=toys-and-games&amp;session-id=135-0130387-0018664&amp;submit.addToCart=addToCart&amp;signInToHUC=0\" class=\"a-button-text\" role=\"button\">Add to Cart</a></span></span>\\n                        \\n                    \\n                </td>\\n\\n\\n                \\n                    <td class=\"a-text-left comparison_add_to_cart_button comparable_item0\">\\n                        \\n                            \\n                            \\n                                <span id=\"comparison_add_to_cart_button0\" class=\"a-button a-spacing-small a-button-primary\"><span class=\"a-button-inner\"><a id=\"comparison_add_to_cart_button0-announce\" href=\"/gp/item-dispatch/ref=psdc_166248011_a1_7115294968?ie=UTF8&amp;itemCount=1&amp;nodeID=165793011&amp;offeringID.1=UkZl5m9Xq6IRkuW5PHLyyDTVBEfo3PngC3mo1mlpDYLH7lRTfHspRM1gS23%252Bhcmu%252B3LeB8H1ZJ%252B1pmDd7%252B4VHk0V73dF2jByOP4IH0nXi7aJ2pdOl%252BYwb%252BZpoO9b8oA8hOBUMK1C90%252BtOFPWlKLMdEVicYV2DX7I&amp;storeID=toys-and-games&amp;session-id=135-0130387-0018664&amp;submit.addToCart=addToCart&amp;signInToHUC=0\" class=\"a-button-text\" role=\"button\">Add to Cart</a></span></span>\\n                            \\n                        \\n                    </td>\\n                \\n                    <td class=\"a-text-left comparison_add_to_cart_button comparable_item1\">\\n                        \\n                            \\n                            \\n                                <span id=\"comparison_add_to_cart_button1\" class=\"a-button a-spacing-small a-button-primary\"><span class=\"a-button-inner\"><a id=\"comparison_add_to_cart_button1-announce\" href=\"/gp/item-dispatch/ref=psdc_166248011_a2_7115294968?ie=UTF8&amp;itemCount=1&amp;nodeID=165793011&amp;offeringID.1=ZKJFRnakGzi41nKQz8a4lnErpcH6GYZbk%252BpECAKdl0K3zbR1PW8V9vMrMIMhp%252F7TlRh222MVs2JGe076xzvKv74xJJOVV4vQ%252BE8jdDPdRXwIb%252F%252FuNIiLIZ3sBSf0hOp9MHjKn2DMi%252Bv%252F5xyOcdx7fOEu6zVVsQhV&amp;storeID=toys-and-games&amp;session-id=135-0130387-0018664&amp;submit.addToCart=addToCart&amp;signInToHUC=0\" class=\"a-button-text\" role=\"button\">Add to Cart</a></span></span>\\n                            \\n                        \\n                    </td>\\n                \\n                    <td class=\"a-text-left comparison_add_to_cart_button comparable_item2\">\\n                        \\n                            \\n                            \\n                                <span id=\"comparison_add_to_cart_button2\" class=\"a-button a-spacing-small a-button-primary\"><span class=\"a-button-inner\"><a id=\"comparison_add_to_cart_button2-announce\" href=\"/gp/item-dispatch/ref=psdc_166248011_a3_7115294968?ie=UTF8&amp;itemCount=1&amp;nodeID=165793011&amp;offeringID.1=JvSSWW%252FBg59ID7j1R82dn%252FP5JHZ06LSdmQNZI4zEZOaDowetiL%252BheOVyFrXZMtXjFowjxY0wehy6SRwWvId3T8gqvwhkmpqVKy7Y%252FeTdiXrGxjKP%252BVkhtJ7tceWUFcI8u9Bi1FqVgbKzTEsf52bDgbFpH%252B16sWRH&amp;storeID=toys-and-games&amp;session-id=135-0130387-0018664&amp;submit.addToCart=addToCart&amp;signInToHUC=0\" class=\"a-button-text\" role=\"button\">Add to Cart</a></span></span>\\n                            \\n                        \\n                    </td>\\n                \\n                    <td class=\"a-text-left comparison_add_to_cart_button comparable_item3\">\\n                        \\n                            \\n                            \\n                                <span id=\"comparison_add_to_cart_button3\" class=\"a-button a-spacing-small a-button-primary\"><span class=\"a-button-inner\"><a id=\"comparison_add_to_cart_button3-announce\" href=\"/gp/item-dispatch/ref=psdc_166248011_a4_7115294968?ie=UTF8&amp;itemCount=1&amp;nodeID=165793011&amp;offeringID.1=UkZl5m9Xq6LcmK0WRuEObONxGfYOGERXrP5AQFLC4pn1v4ssuzYzjAskWc7Su%252BOB5%252FHkL9YxcZr8CarauXea%252BKN0mgghwoSjijtcHncbLCdqEggAvE4H%252BkyDXB%252B0vDPubb4dkDpn7NRM1cFT4Gyv1w%253D%253D&amp;storeID=toys-and-games&amp;session-id=135-0130387-0018664&amp;submit.addToCart=addToCart&amp;signInToHUC=0\" class=\"a-button-text\" role=\"button\">Add to Cart</a></span></span>\\n                            \\n                        \\n                    </td>\\n                \\n                    <td class=\"a-text-left comparison_add_to_cart_button comparable_item4\">\\n                        \\n                            \\n                            \\n                                <span id=\"comparison_add_to_cart_button4\" class=\"a-button a-spacing-small a-button-primary\"><span class=\"a-button-inner\"><a id=\"comparison_add_to_cart_button4-announce\" href=\"/gp/item-dispatch/ref=psdc_166248011_a5_7115294968?ie=UTF8&amp;itemCount=1&amp;nodeID=165793011&amp;offeringID.1=PWJSwUVzHiWQy%252Bg8iJ0319HGDitETwpZZU3kv2JoAqVUL%252B3p0Uk8CYiKzeB8Y%252BwvcxcKuG9e8d%252F50WYj9JCbCx8q4jXN4Fn3uTq2KnvZj2UBLXTc%252BpnIRMaAqzsuAqVbVCya58%252BfhplrdOydieAgYQ%253D%253D&amp;storeID=toys-and-games&amp;session-id=135-0130387-0018664&amp;submit.addToCart=addToCart&amp;signInToHUC=0\" class=\"a-button-text\" role=\"button\">Add to Cart</a></span></span>\\n                            \\n                        \\n                    </td>\\n                \\n            </tr>\\n\\n\\n            <tr id=\"comparison_custormer_rating_row\">\\n                \\n                \\n                \\n                \\n\\n                <th class=\"comparison_attribute_name_column comparison_table_first_col\" role=\"rowheader\">\\n                    <span class=\"a-size-base a-color-base\">Customer Rating</span>\\n                </th>\\n\\n\\n                <td class=\"comparison_baseitem_column\">\\n                    \\n                    \\n                    \\n                    <span>\\n                        <span class=\"a-declarative\" data-action=\"a-popover\" data-a-popover=\"{&quot;max-width&quot;:&quot;700&quot;,&quot;closeButton&quot;:&quot;false&quot;,&quot;position&quot;:&quot;triggerBottom&quot;,&quot;url&quot;:&quot; /gp/customer-reviews/widgets/average-customer-review/popover/ref=acr_dpComparsion__popover?contextId=dpComparsion&amp;asin=7115294968 &quot;,&quot;restoreFocusOnHide&quot;:&quot;false&quot;}\">\\n                            <i class=\"a-icon a-icon-star a-star-4-5 a-spacing-none\"><span class=\"a-icon-alt\">4 out of 5 stars</span></i>\\n                        </span>\\n                        <a class=\"a-link-normal\" target=\"_self\" rel=\"noopener\" href=\"/product-reviews/7115294968/ref=psdc_166248011_r0_7115294968?_encoding=UTF8&amp;showViewpoints=1\">(46)</a>\\n                        <span class=\"a-letter-space\"></span>\\n                    </span>\\n                </td>\\n\\n\\n                \\n                    <td class=\"comparison_sim_items_column comparable_item0\">\\n                        \\n                        \\n                        \\n                        <span>\\n                            <span class=\"a-declarative\" data-action=\"a-popover\" data-a-popover=\"{&quot;max-width&quot;:&quot;700&quot;,&quot;closeButton&quot;:&quot;false&quot;,&quot;position&quot;:&quot;triggerBottom&quot;,&quot;url&quot;:&quot; /gp/customer-reviews/widgets/average-customer-review/popover/ref=acr_dpComparsion__popover?contextId=dpComparsion&amp;asin=B00H2RLOL8 &quot;,&quot;restoreFocusOnHide&quot;:&quot;false&quot;}\">\\n                                <i class=\"a-icon a-icon-star a-star-5 a-spacing-none\"><span class=\"a-icon-alt\">5 out of 5 stars</span></i>\\n                            </span>\\n                            <a class=\"a-link-normal\" target=\"_self\" rel=\"noopener\" href=\"/product-reviews/B00H2RLOL8/ref=psdc_166248011_r1_7115294968?_encoding=UTF8&amp;showViewpoints=1\">(62)</a>\\n                            <span class=\"a-letter-space\"></span>\\n                        </span>\\n                    </td>\\n                \\n                    <td class=\"comparison_sim_items_column comparable_item1\">\\n                        \\n                        \\n                        \\n                        <span>\\n                            <span class=\"a-declarative\" data-action=\"a-popover\" data-a-popover=\"{&quot;max-width&quot;:&quot;700&quot;,&quot;closeButton&quot;:&quot;false&quot;,&quot;position&quot;:&quot;triggerBottom&quot;,&quot;url&quot;:&quot; /gp/customer-reviews/widgets/average-customer-review/popover/ref=acr_dpComparsion__popover?contextId=dpComparsion&amp;asin=B00KBZYDG6 &quot;,&quot;restoreFocusOnHide&quot;:&quot;false&quot;}\">\\n                                <i class=\"a-icon a-icon-star a-star-4-5 a-spacing-none\"><span class=\"a-icon-alt\">4 out of 5 stars</span></i>\\n                            </span>\\n                            <a class=\"a-link-normal\" target=\"_self\" rel=\"noopener\" href=\"/product-reviews/B00KBZYDG6/ref=psdc_166248011_r2_7115294968?_encoding=UTF8&amp;showViewpoints=1\">(146)</a>\\n                            <span class=\"a-letter-space\"></span>\\n                        </span>\\n                    </td>\\n                \\n                    <td class=\"comparison_sim_items_column comparable_item2\">\\n                        \\n                        \\n                        \\n                        <span>\\n                            <span class=\"a-declarative\" data-action=\"a-popover\" data-a-popover=\"{&quot;max-width&quot;:&quot;700&quot;,&quot;closeButton&quot;:&quot;false&quot;,&quot;position&quot;:&quot;triggerBottom&quot;,&quot;url&quot;:&quot; /gp/customer-reviews/widgets/average-customer-review/popover/ref=acr_dpComparsion__popover?contextId=dpComparsion&amp;asin=B0799BRKCB &quot;,&quot;restoreFocusOnHide&quot;:&quot;false&quot;}\">\\n                                <i class=\"a-icon a-icon-star a-star-4-5 a-spacing-none\"><span class=\"a-icon-alt\">4 out of 5 stars</span></i>\\n                            </span>\\n                            <a class=\"a-link-normal\" target=\"_self\" rel=\"noopener\" href=\"/product-reviews/B0799BRKCB/ref=psdc_166248011_r3_7115294968?_encoding=UTF8&amp;showViewpoints=1\">(27)</a>\\n                            <span class=\"a-letter-space\"></span>\\n                        </span>\\n                    </td>\\n                \\n                    <td class=\"comparison_sim_items_column comparable_item3\">\\n                        \\n                        \\n                        \\n                        <span>\\n                            <span class=\"a-declarative\" data-action=\"a-popover\" data-a-popover=\"{&quot;max-width&quot;:&quot;700&quot;,&quot;closeButton&quot;:&quot;false&quot;,&quot;position&quot;:&quot;triggerBottom&quot;,&quot;url&quot;:&quot; /gp/customer-reviews/widgets/average-customer-review/popover/ref=acr_dpComparsion__popover?contextId=dpComparsion&amp;asin=B01MED084R &quot;,&quot;restoreFocusOnHide&quot;:&quot;false&quot;}\">\\n                                <i class=\"a-icon a-icon-star a-star-4 a-spacing-none\"><span class=\"a-icon-alt\">4 out of 5 stars</span></i>\\n                            </span>\\n                            <a class=\"a-link-normal\" target=\"_self\" rel=\"noopener\" href=\"/product-reviews/B01MED084R/ref=psdc_166248011_r4_7115294968?_encoding=UTF8&amp;showViewpoints=1\">(37)</a>\\n                            <span class=\"a-letter-space\"></span>\\n                        </span>\\n                    </td>\\n                \\n                    <td class=\"comparison_sim_items_column comparable_item4\">\\n                        \\n                        \\n                        \\n                        <span>\\n                            <span class=\"a-declarative\" data-action=\"a-popover\" data-a-popover=\"{&quot;max-width&quot;:&quot;700&quot;,&quot;closeButton&quot;:&quot;false&quot;,&quot;position&quot;:&quot;triggerBottom&quot;,&quot;url&quot;:&quot; /gp/customer-reviews/widgets/average-customer-review/popover/ref=acr_dpComparsion__popover?contextId=dpComparsion&amp;asin=B000Y92XTI &quot;,&quot;restoreFocusOnHide&quot;:&quot;false&quot;}\">\\n                                <i class=\"a-icon a-icon-star a-star-4-5 a-spacing-none\"><span class=\"a-icon-alt\">4 out of 5 stars</span></i>\\n                            </span>\\n                            <a class=\"a-link-normal\" target=\"_self\" rel=\"noopener\" href=\"/product-reviews/B000Y92XTI/ref=psdc_166248011_r5_7115294968?_encoding=UTF8&amp;showViewpoints=1\">(283)</a>\\n                            <span class=\"a-letter-space\"></span>\\n                        </span>\\n                    </td>\\n                \\n            </tr>\\n\\n\\n            <tr id=\"comparison_price_row\">\\n                <th class=\"comparison_attribute_name_column comparison_table_first_col\" role=\"rowheader\">\\n                    <span class=\"a-size-base a-color-base\">Price</span>\\n                </th>\\n\\n\\n                <td class=\"comparison_baseitem_column\">\\n                    \\n                        \\n                        \\n                        \\n                        \\n                            \\n                                \\n                                    <span class=\"a-price\" data-a-size=\"l\" data-a-color=\"base\"><span class=\"a-offscreen\">$79.99</span><span aria-hidden=\"true\"><span class=\"a-price-symbol\">$</span><span class=\"a-price-whole\">79<span class=\"a-price-decimal\">\\x00</span></span><span class=\"a-price-fraction\">99</span></span></span>\\n                                \\n                                \\n                            \\n                        \\n                    \\n                </td>\\n\\n\\n                \\n                    <td class=\"comparison_sim_items_column comparable_item0\">\\n                    \\n                        \\n                        \\n                        \\n                            \\n                                \\n                                    <span class=\"a-price\" data-a-size=\"l\" data-a-color=\"base\"><span class=\"a-offscreen\">$89.95</span><span aria-hidden=\"true\"><span class=\"a-price-symbol\">$</span><span class=\"a-price-whole\">89<span class=\"a-price-decimal\">\\x00</span></span><span class=\"a-price-fraction\">95</span></span></span>\\n                                \\n                                \\n                            \\n                        \\n                    \\n                    </td>\\n                \\n                    <td class=\"comparison_sim_items_column comparable_item1\">\\n                    \\n                        \\n                        \\n                        \\n                            \\n                                \\n                                    <span class=\"a-price\" data-a-size=\"l\" data-a-color=\"base\"><span class=\"a-offscreen\">$59.99</span><span aria-hidden=\"true\"><span class=\"a-price-symbol\">$</span><span class=\"a-price-whole\">59<span class=\"a-price-decimal\">\\x00</span></span><span class=\"a-price-fraction\">99</span></span></span>\\n                                \\n                                \\n                            \\n                        \\n                    \\n                    </td>\\n                \\n                    <td class=\"comparison_sim_items_column comparable_item2\">\\n                    \\n                        \\n                        \\n                        \\n                            \\n                                \\n                                    <span class=\"a-price\" data-a-size=\"l\" data-a-color=\"base\"><span class=\"a-offscreen\">$56.99</span><span aria-hidden=\"true\"><span class=\"a-price-symbol\">$</span><span class=\"a-price-whole\">56<span class=\"a-price-decimal\">\\x00</span></span><span class=\"a-price-fraction\">99</span></span></span>\\n                                \\n                                \\n                            \\n                        \\n                    \\n                    </td>\\n                \\n                    <td class=\"comparison_sim_items_column comparable_item3\">\\n                    \\n                        \\n                        \\n                        \\n                            \\n                                \\n                                    <span class=\"a-price\" data-a-size=\"l\" data-a-color=\"base\"><span class=\"a-offscreen\">$73.99</span><span aria-hidden=\"true\"><span class=\"a-price-symbol\">$</span><span class=\"a-price-whole\">73<span class=\"a-price-decimal\">\\x00</span></span><span class=\"a-price-fraction\">99</span></span></span>\\n                                \\n                                \\n                            \\n                        \\n                    \\n                    </td>\\n                \\n                    <td class=\"comparison_sim_items_column comparable_item4\">\\n                    \\n                        \\n                        \\n                        \\n                            \\n                                \\n                                    <span class=\"a-price\" data-a-size=\"l\" data-a-color=\"base\"><span class=\"a-offscreen\">$98.89</span><span aria-hidden=\"true\"><span class=\"a-price-symbol\">$</span><span class=\"a-price-whole\">98<span class=\"a-price-decimal\">\\x00</span></span><span class=\"a-price-fraction\">89</span></span></span>\\n                                \\n                                \\n                            \\n                        \\n                    \\n                    </td>\\n                \\n            </tr>\\n\\n\\n    \\n                <tr id=\"comparison_shipping_info_row\">\\n                    <th class=\"comparison_attribute_name_column comparison_table_first_col\" role=\"rowheader\">\\n                        <span class=\"a-size-base a-color-base\">Shipping</span>\\n                    </th>\\n\\n    \\n                    <td class=\"comparison_baseitem_column\">\\n                        \\n                            \\n                            \\n                            \\n                                <span class=\"a-size-base a-color-base\">Eligible for FREE Shipping</span>\\n                            \\n                            \\n                            \\n                            \\n                            \\n                        \\n                    </td>\\n\\n    \\n                    \\n                        <td class=\"comparison_sim_items_column comparable_item0\">\\n                            \\n                                \\n                                \\n                                    <span class=\"a-size-base a-color-base\">Eligible for FREE Shipping</span>\\n                                \\n                                \\n                                \\n                                \\n                                \\n                            \\n                        </td>\\n                    \\n                        <td class=\"comparison_sim_items_column comparable_item1\">\\n                            \\n                                \\n                                \\n                                    <span class=\"a-size-base a-color-base\">Eligible for FREE Shipping</span>\\n                                \\n                                \\n                                \\n                                \\n                                \\n                            \\n                        </td>\\n                    \\n                        <td class=\"comparison_sim_items_column comparable_item2\">\\n                            \\n                                \\n                                \\n                                    <span class=\"a-size-base a-color-base\">Eligible for FREE Shipping</span>\\n                                \\n                                \\n                                \\n                                \\n                                \\n                            \\n                        </td>\\n                    \\n                        <td class=\"comparison_sim_items_column comparable_item3\">\\n                            \\n                                \\n                                \\n                                    <span class=\"a-size-base a-color-base\">Eligible for FREE Shipping</span>\\n                                \\n                                \\n                                \\n                                \\n                                \\n                            \\n                        </td>\\n                    \\n                        <td class=\"comparison_sim_items_column comparable_item4\">\\n                            \\n                                \\n                                \\n                                    <span class=\"a-size-base a-color-base\">Eligible for FREE Shipping</span>\\n                                \\n                                \\n                                \\n                                \\n                                \\n                            \\n                        </td>\\n                    \\n                </tr>\\n\\n\\n\\n            <tr id=\"comparison_sold_by_row\">\\n                <th class=\"comparison_attribute_name_column comparison_table_first_col\" role=\"rowheader\">\\n                    <span class=\"a-size-base a-color-base\">Sold By</span>\\n                </th>\\n\\n  \\n                <td class=\"comparison_baseitem_column\">\\n                    \\n                        \\n                        \\n                        \\n                            <a class=\"a-spacing-top-small a-link-normal\" target=\"_self\" rel=\"noopener\" href=\"/gp/help/seller/at-a-glance.html/ref=psdc_166248011_s0_7115294968?ie=UTF8&amp;seller=A1L0O1FXRL08X7\">WE PAY YOUR SALES TAX</a>\\n                        \\n                     \\n                </td>\\n\\n\\n                \\n                    <td class=\"comparison_sim_items_column comparable_item0\">\\n                         \\n                            \\n                         \\n                             <a class=\"a-spacing-top-small a-link-normal\" target=\"_self\" rel=\"noopener\" href=\"/gp/help/seller/at-a-glance.html/ref=psdc_166248011_s1_7115294968?ie=UTF8&amp;seller=A3KDHF2VUCBX46&amp;isAmazonFulfilled=1\">American-Wholesaler Inc.</a>\\n                         \\n                         \\n                     </td>\\n                \\n                    <td class=\"comparison_sim_items_column comparable_item1\">\\n                         \\n                            \\n                         \\n                             <a class=\"a-spacing-top-small a-link-normal\" target=\"_self\" rel=\"noopener\" href=\"/gp/help/seller/at-a-glance.html/ref=psdc_166248011_s2_7115294968?ie=UTF8&amp;seller=A2W21HU5NKUGBX&amp;isAmazonFulfilled=1\">HNDtek</a>\\n                         \\n                         \\n                     </td>\\n                \\n                    <td class=\"comparison_sim_items_column comparable_item2\">\\n                         \\n                            \\n                         \\n                             <a class=\"a-spacing-top-small a-link-normal\" target=\"_self\" rel=\"noopener\" href=\"/gp/help/seller/at-a-glance.html/ref=psdc_166248011_s3_7115294968?ie=UTF8&amp;seller=A3AN9QJNQ0FYAY\">Yaheetech</a>\\n                         \\n                         \\n                     </td>\\n                \\n                    <td class=\"comparison_sim_items_column comparable_item3\">\\n                         \\n                            \\n                         \\n                             <a class=\"a-spacing-top-small a-link-normal\" target=\"_self\" rel=\"noopener\" href=\"/gp/help/seller/at-a-glance.html/ref=psdc_166248011_s4_7115294968?ie=UTF8&amp;seller=A1L0O1FXRL08X7&amp;isAmazonFulfilled=1\">WE PAY YOUR SALES TAX</a>\\n                         \\n                         \\n                     </td>\\n                \\n                    <td class=\"comparison_sim_items_column comparable_item4\">\\n                         \\n                            \\n                         \\n                             <a class=\"a-spacing-top-small a-link-normal\" target=\"_self\" rel=\"noopener\" href=\"/gp/help/seller/at-a-glance.html/ref=psdc_166248011_s5_7115294968?ie=UTF8&amp;seller=A3IXHP9WB8UQLD&amp;isAmazonFulfilled=1\">Yellow Mountain Imports</a>\\n                         \\n                         \\n                     </td>\\n                \\n             </tr>\\n\\n\\n            \\n                <tr>\\n                    <th class=\"a-span3 comparison_attribute_name_column comparison_table_first_col\" role=\"rowheader\">\\n                        <span class=\"a-size-base a-color-base\">Item Dimensions</span>\\n                    </th>\\n                    \\n\\n                    <td class=\"comparison_baseitem_column\">\\n                     \\n                        \\n                            \\n                            \\n                                 <span class=\"a-size-base a-color-base\">22.1 x 11.7 x 5.5 in</span>\\n                            \\n                        \\n                    </td>\\n\\n\\n                    \\n                        <td class=\"comparison_sim_items_column comparable_item0\">\\n                            \\n                            \\n                            \\n                               \\n                                  \\n                                  \\n                                      <span class=\"a-size-base a-color-base\">22.25 x 11.5 x 5.5 in</span>\\n                                  \\n                               \\n                        </td>\\n                    \\n                        <td class=\"comparison_sim_items_column comparable_item1\">\\n                            \\n                            \\n                            \\n                               \\n                                  \\n                                  \\n                                      <span class=\"a-size-base a-color-base\">19 x 10 x 3 in</span>\\n                                  \\n                               \\n                        </td>\\n                    \\n                        <td class=\"comparison_sim_items_column comparable_item2\">\\n                            \\n                            \\n                            \\n                               \\n                                  \\n                                  \\n                                      <span class=\"a-size-base a-color-base\">20.47 x 8.66 x 3.94 in</span>\\n                                  \\n                               \\n                        </td>\\n                    \\n                        <td class=\"comparison_sim_items_column comparable_item3\">\\n                            \\n                            \\n                            \\n                               \\n                                  \\n                                  \\n                                      <span class=\"a-size-base a-color-base\">20.5 x 10 x 4.5 in</span>\\n                                  \\n                               \\n                        </td>\\n                    \\n                        <td class=\"comparison_sim_items_column comparable_item4\">\\n                            \\n                            \\n                            \\n                               \\n                                  \\n                                  \\n                                      <span class=\"a-size-base a-color-base\">22.05 x 9.65 x 2.95 in</span>\\n                                  \\n                               \\n                        </td>\\n                    \\n                </tr>\\n            \\n       '"
            ],
            "application/vnd.google.colaboratory.intrinsic+json": {
              "type": "string"
            }
          },
          "metadata": {},
          "execution_count": 84
        }
      ]
    },
    {
      "cell_type": "markdown",
      "source": [
        "# Despues de ver el contenido de similar_item (codigo HTML) lo elimino por su formato y por la gran cantidad de valores faltantes"
      ],
      "metadata": {
        "id": "X1g5yFoh8x6g"
      }
    },
    {
      "cell_type": "code",
      "source": [
        "df_meta = df_meta.drop('similar_item')"
      ],
      "metadata": {
        "id": "rtwaLp0d86mg"
      },
      "execution_count": 85,
      "outputs": []
    },
    {
      "cell_type": "code",
      "source": [
        "df_meta.show()"
      ],
      "metadata": {
        "colab": {
          "base_uri": "https://localhost:8080/"
        },
        "id": "RQjtVyNd87_O",
        "outputId": "9db1cc62-8ed9-4fe9-f8a8-fd050471f8b9"
      },
      "execution_count": 86,
      "outputs": [
        {
          "output_type": "stream",
          "name": "stdout",
          "text": [
            "+----------+-------------------+--------------------+--------------------+--------------------+-----------------+------+--------------------+--------------------+\n",
            "|      asin|              brand|            category|         description|             feature|         main_cat| price|                rank|               title|\n",
            "+----------+-------------------+--------------------+--------------------+--------------------+-----------------+------+--------------------+--------------------+\n",
            "|6306203230|     The Booklegger|[Toys & Games, Ga...|[Clem Darracott w...|[Made by The Book...|Sports & Outdoors|$28.45|1,890,827 in Spor...|Ben Hogan: In Pur...|\n",
            "|6798648312|              CHXWW|                  []|                  []|                  []|     Toys & Games|      |[\">#2,100,223 in ...|CHXWW Women's Sim...|\n",
            "|687567453X|           New toys|                  []|                  []|                  []|     Toys & Games|      |[\">#925,302 in To...|Jurassic World Di...|\n",
            "|7040202328|              HICDD|[Toys & Games, Pa...|[New: A brand-new...|[3 in 1 Unique an...|     Toys & Games|      |[\">#2,308,952 in ...|Cute Keyboard Cof...|\n",
            "|7096106510|          Buyonline|[Toys & Games, Dr...|[<b>Seller Gurant...|                  []|     Toys & Games|      |[\">#1,360,432 in ...|Milliongadgets(TM...|\n",
            "|6901540000|Gary & Susan Fowler|[Toys & Games, Ga...|[A fast moving ga...|[May Cause uncont...|     Toys & Games|      |[\">#2,800,090 in ...|The Totally Insan...|\n",
            "|7115294968|       Kai Tai Inc.|[Toys & Games, Ga...|[30 Days Uncondit...|[30 Days Uncondit...|     Toys & Games|$79.99|[\">#332,692 in To...|American Mahjong ...|\n",
            "|7219039670|        Sole Trader|[Toys & Games, St...|                  []|                  []|     Toys & Games|      |[\">#1,797,942 in ...|Sole Trader @ Nin...|\n",
            "|7293000022|           RC-Fever|                  []|                  []|[Coaxial, counter...|     Toys & Games|      |[\">#2,083,695 in ...|Silver Color E-Sk...|\n",
            "|7293000014| Amazing Tech Depot|[Toys & Games, Ho...|[<b>6CH USB Fligh...|[High-performance...|     Toys & Games|      |[\">#442,464 in To...|Volantex RC 6-CH ...|\n",
            "|7305081566|            KT Inc.|[Toys & Games, Ga...|[30 Days Uncondit...|[30 Days Uncondit...|     Toys & Games|$65.99|[\">#154,220 in To...|4 Pushers + Brand...|\n",
            "|7501958645|            Unknown|                  []|[For Pokemon fan!...|[What a wonderful...|     Toys & Games|      |[\">#3,163,905 in ...|Light Purple &amp...|\n",
            "|7532735206|               Ciel|[Toys & Games, Ac...|[New Kuroshitsuji...|[1)Material: PVC,...|     Toys & Games|      |[\">#706,106 in To...|1 X New Kuroshits...|\n",
            "|7545107861|          IDOBRIDAL|                  []|                  []|                  []|     Toys & Games|      |[\">#2,911,339 in ...|Two-tier Ivory Be...|\n",
            "|7543527286|        Cosplayhome|[Toys & Games, Ac...|[Hnadling days: 5...|[Material: PVC & ...|     Toys & Games|      |[\">#1,025,227 in ...|World of Warcraft...|\n",
            "|7798944079|             AVATAR|[Toys & Games, Ac...|[An Awesome & Ult...|[Highly Detail St...|     Toys & Games|      |[\">#2,477,862 in ...|Sugita Unproducti...|\n",
            "|7801404467|         Tupperware|[Toys & Games, Dr...|[This product set...|[10-oz./300 mL Mi...|     Toys & Games|$37.95|[\">#1,693,181 in ...|Tupperware Mini I...|\n",
            "|7802151872|        fantasycart|[Toys & Games, St...|[This 14.5\" plush...|[Angry Birds, Pig...|     Toys & Games|      |[\">#993,418 in To...|fantasycart Angry...|\n",
            "|7805115044|        Kai Tai Inc|[Toys & Games, Ga...|                  []|                  []|     Toys & Games|      |[\">#694,208 in To...|4 Pushers and Bra...|\n",
            "|7842952868|     Gifts by Lulee|[Toys & Games, Ho...|[Rue Ruda Cologne...|                  []|     Toys & Games|$10.90|[\">#313,147 in To...|Aguas Esotericas ...|\n",
            "+----------+-------------------+--------------------+--------------------+--------------------+-----------------+------+--------------------+--------------------+\n",
            "only showing top 20 rows\n",
            "\n"
          ]
        }
      ]
    },
    {
      "cell_type": "markdown",
      "source": [
        "# Revisar la columna precio por la cantidad enorme de valores faltantes"
      ],
      "metadata": {
        "id": "UgFV1fe5-HoS"
      }
    },
    {
      "cell_type": "code",
      "source": [],
      "metadata": {
        "id": "1CrIPnzx-GwZ"
      },
      "execution_count": null,
      "outputs": []
    },
    {
      "cell_type": "markdown",
      "source": [
        "# Guardamos como parquet para ver el tamanio"
      ],
      "metadata": {
        "id": "CnsSMwxn-c3K"
      }
    },
    {
      "cell_type": "code",
      "source": [
        "ruta_del_archivo = \"/content/drive/My Drive/archivos_pf/df_toys_limpio.parquet\"\n",
        "\n",
        "# Guarda el DataFrame como un archivo Parquet\n",
        "df_sin_nulos.write.parquet(ruta_del_archivo)\n",
        "\n",
        "# Verifica que el archivo se haya guardado correctamente\n",
        "df_sin_nulos_parquet = spark.read.parquet(ruta_del_archivo)\n",
        "\n",
        "# Puedes verificar el DataFrame cargado desde Parquet\n",
        "df_sin_nulos_parquet.show()"
      ],
      "metadata": {
        "colab": {
          "base_uri": "https://localhost:8080/"
        },
        "id": "_hZarAf7-wE-",
        "outputId": "bbcb0a58-f946-469b-a0c5-8c74515d0219"
      },
      "execution_count": 89,
      "outputs": [
        {
          "output_type": "stream",
          "name": "stdout",
          "text": [
            "+----------+-------+--------------------+--------------+--------------------+--------------------+--------+-------------------+-----------+\n",
            "|      asin|overall|          reviewText|    reviewerID|        reviewerName|             summary|verified|        review_date|review_year|\n",
            "+----------+-------+--------------------+--------------+--------------------+--------------------+--------+-------------------+-----------+\n",
            "|0486277577|    4.0|Pretty good book ...| AGCAAWP1AVVZR|       M. P. Schiesl|           Good book|   false|2004-03-16 00:00:00|       2004|\n",
            "|0486402029|    1.0|I don't know how ...|A1X9QQFMPGDW70|          Justabuyer|        Don't bother|   false|2007-09-21 00:00:00|       2007|\n",
            "|0486402029|    1.0|These are cute ta...|A1NTAPB1XPB6KK|            Mandible|The worst value I...|   false|2007-01-16 00:00:00|       2007|\n",
            "|0486402029|    2.0|While my 3 year o...|A34S86H4OJGGVR|An Aerospace Engi...|  Not enough product|    true|2007-01-12 00:00:00|       2007|\n",
            "|0486402029|    4.0|There are only fe...|A2SGKF4BT5NWYO|Mauricio De Maria...| Good product but...|   false|2007-01-10 00:00:00|       2007|\n",
            "|0486402029|    5.0|I'd buy again as ...| AVPT4Q2E2PK9O|             Derrick|Temporary Tattoos...|    true|2006-11-03 00:00:00|       2006|\n",
            "|0486402029|    5.0|My young son was ...|A17AF3GZQEKMYC|              J. Mag|            Huge Hit|   false|2005-09-20 00:00:00|       2005|\n",
            "|0486427706|    5.0|  Beautiful art work| AOJTIHPYWGGHQ|     Kindalyn Phelps|          Five Stars|    true|2014-08-21 00:00:00|       2014|\n",
            "|0486427706|    5.0|These are intrica...|A38U7ERUZCBOJ5|Joanne Philip Bat...|  Wonderful designs.|    true|2014-08-14 00:00:00|       2014|\n",
            "|0486427706|    5.0|This coloring boo...|A12VWMI909LC3Y|      sharon wheeler|WOW, GREAT COLORI...|    true|2014-08-07 00:00:00|       2014|\n",
            "|0486427706|    5.0|The stained glass...|A2LSCFZM2FBZK7|              Ginger|           Nice book|    true|2013-10-06 00:00:00|       2013|\n",
            "|0486427706|    5.0|My 11 y.o. loved ...|A3IXP5VS847GE5|Dragonflies &amp;...|      Great pictures|    true|2013-08-09 00:00:00|       2013|\n",
            "|0486427706|    5.0|Awesome! My 8 yea...|A22WPJ8XFBR00Z|Douglas B. McFarling|            Perfect!|   false|2012-12-25 00:00:00|       2012|\n",
            "|0486427706|    5.0|This book has won...| AYLMHOQOT0S4N|           C. Murphy|       Well done....|    true|2010-08-18 00:00:00|       2010|\n",
            "|0486427706|    5.0|I loved this book...| AJ8YOQ9V6WTQM|  Kimberely J. Hardy|       My relaxation|   false|2008-09-16 00:00:00|       2008|\n",
            "|0486427706|    5.0|I bought this for...|A1GGAQIGLJ9PJ0|          A. Freeman|Beautiful colorin...|    true|2007-02-06 00:00:00|       2007|\n",
            "|0486448789|    5.0|Sometimes you nee...|A18MVTKTTE8OS8|              JudiAU| Great 30 minute toy|    true|2011-04-20 00:00:00|       2011|\n",
            "|0486448789|    5.0|These little book...|A2C2TLRMMMLAJV|          D. Workman|              great!|   false|2011-04-02 00:00:00|       2011|\n",
            "|0486448789|    2.0|This is indeed a ...| APTGPJM3QRMHT|       thunification|  Only OK ...AT Best|    true|2011-02-07 00:00:00|       2011|\n",
            "|0486448789|    4.0|I bought several ...| AJL8EN4QAFA9K|      A. V. Richards|                Fun!|   false|2010-02-11 00:00:00|       2010|\n",
            "+----------+-------+--------------------+--------------+--------------------+--------------------+--------+-------------------+-----------+\n",
            "only showing top 20 rows\n",
            "\n"
          ]
        }
      ]
    },
    {
      "cell_type": "code",
      "source": [
        "ruta_del_archivo = \"/content/drive/My Drive/archivos_pf/df_meta.parquet\"\n",
        "\n",
        "# Guarda el DataFrame como un archivo Parquet\n",
        "df_meta.write.parquet(ruta_del_archivo)\n",
        "\n",
        "# Verifica que el archivo se haya guardado correctamente\n",
        "df_meta_parquet = spark.read.parquet(ruta_del_archivo)\n",
        "\n",
        "# Puedes verificar el DataFrame cargado desde Parquet\n",
        "df_meta_parquet.show()"
      ],
      "metadata": {
        "colab": {
          "base_uri": "https://localhost:8080/"
        },
        "id": "m_4e2GCy-eWj",
        "outputId": "93c5e4dd-d45e-4c9f-cf34-6e5fb1cb94c3"
      },
      "execution_count": 88,
      "outputs": [
        {
          "output_type": "stream",
          "name": "stdout",
          "text": [
            "+----------+-------------------+--------------------+--------------------+--------------------+-----------------+------+--------------------+--------------------+\n",
            "|      asin|              brand|            category|         description|             feature|         main_cat| price|                rank|               title|\n",
            "+----------+-------------------+--------------------+--------------------+--------------------+-----------------+------+--------------------+--------------------+\n",
            "|6306203230|     The Booklegger|[Toys & Games, Ga...|[Clem Darracott w...|[Made by The Book...|Sports & Outdoors|$28.45|1,890,827 in Spor...|Ben Hogan: In Pur...|\n",
            "|6798648312|              CHXWW|                  []|                  []|                  []|     Toys & Games|      |[\">#2,100,223 in ...|CHXWW Women's Sim...|\n",
            "|687567453X|           New toys|                  []|                  []|                  []|     Toys & Games|      |[\">#925,302 in To...|Jurassic World Di...|\n",
            "|7040202328|              HICDD|[Toys & Games, Pa...|[New: A brand-new...|[3 in 1 Unique an...|     Toys & Games|      |[\">#2,308,952 in ...|Cute Keyboard Cof...|\n",
            "|7096106510|          Buyonline|[Toys & Games, Dr...|[<b>Seller Gurant...|                  []|     Toys & Games|      |[\">#1,360,432 in ...|Milliongadgets(TM...|\n",
            "|6901540000|Gary & Susan Fowler|[Toys & Games, Ga...|[A fast moving ga...|[May Cause uncont...|     Toys & Games|      |[\">#2,800,090 in ...|The Totally Insan...|\n",
            "|7115294968|       Kai Tai Inc.|[Toys & Games, Ga...|[30 Days Uncondit...|[30 Days Uncondit...|     Toys & Games|$79.99|[\">#332,692 in To...|American Mahjong ...|\n",
            "|7219039670|        Sole Trader|[Toys & Games, St...|                  []|                  []|     Toys & Games|      |[\">#1,797,942 in ...|Sole Trader @ Nin...|\n",
            "|7293000022|           RC-Fever|                  []|                  []|[Coaxial, counter...|     Toys & Games|      |[\">#2,083,695 in ...|Silver Color E-Sk...|\n",
            "|7293000014| Amazing Tech Depot|[Toys & Games, Ho...|[<b>6CH USB Fligh...|[High-performance...|     Toys & Games|      |[\">#442,464 in To...|Volantex RC 6-CH ...|\n",
            "|7305081566|            KT Inc.|[Toys & Games, Ga...|[30 Days Uncondit...|[30 Days Uncondit...|     Toys & Games|$65.99|[\">#154,220 in To...|4 Pushers + Brand...|\n",
            "|7501958645|            Unknown|                  []|[For Pokemon fan!...|[What a wonderful...|     Toys & Games|      |[\">#3,163,905 in ...|Light Purple &amp...|\n",
            "|7532735206|               Ciel|[Toys & Games, Ac...|[New Kuroshitsuji...|[1)Material: PVC,...|     Toys & Games|      |[\">#706,106 in To...|1 X New Kuroshits...|\n",
            "|7545107861|          IDOBRIDAL|                  []|                  []|                  []|     Toys & Games|      |[\">#2,911,339 in ...|Two-tier Ivory Be...|\n",
            "|7543527286|        Cosplayhome|[Toys & Games, Ac...|[Hnadling days: 5...|[Material: PVC & ...|     Toys & Games|      |[\">#1,025,227 in ...|World of Warcraft...|\n",
            "|7798944079|             AVATAR|[Toys & Games, Ac...|[An Awesome & Ult...|[Highly Detail St...|     Toys & Games|      |[\">#2,477,862 in ...|Sugita Unproducti...|\n",
            "|7801404467|         Tupperware|[Toys & Games, Dr...|[This product set...|[10-oz./300 mL Mi...|     Toys & Games|$37.95|[\">#1,693,181 in ...|Tupperware Mini I...|\n",
            "|7802151872|        fantasycart|[Toys & Games, St...|[This 14.5\" plush...|[Angry Birds, Pig...|     Toys & Games|      |[\">#993,418 in To...|fantasycart Angry...|\n",
            "|7805115044|        Kai Tai Inc|[Toys & Games, Ga...|                  []|                  []|     Toys & Games|      |[\">#694,208 in To...|4 Pushers and Bra...|\n",
            "|7842952868|     Gifts by Lulee|[Toys & Games, Ho...|[Rue Ruda Cologne...|                  []|     Toys & Games|$10.90|[\">#313,147 in To...|Aguas Esotericas ...|\n",
            "+----------+-------------------+--------------------+--------------------+--------------------+-----------------+------+--------------------+--------------------+\n",
            "only showing top 20 rows\n",
            "\n"
          ]
        }
      ]
    },
    {
      "cell_type": "code",
      "source": [],
      "metadata": {
        "id": "SKS2WSWh-sRP"
      },
      "execution_count": null,
      "outputs": []
    }
  ]
}